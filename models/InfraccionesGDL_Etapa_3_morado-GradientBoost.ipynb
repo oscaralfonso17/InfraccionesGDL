{
 "cells": [
  {
   "cell_type": "markdown",
   "id": "8017ff0f",
   "metadata": {
    "toc": true
   },
   "source": [
    "<h1>Entrega 3 - Equipo Morado - XGBClassifier<span class=\"tocSkip\"></span></h1>\n",
    "<div class=\"toc\"><ul class=\"toc-item\"><li><span><a href=\"#1)-Incluir-en-forma-resumida-la-información-de-las-variables-relevantes.\" data-toc-modified-id=\"1)-Incluir-en-forma-resumida-la-información-de-las-variables-relevantes.-1\">1) Incluir en forma resumida la información de las variables relevantes.</a></span><ul class=\"toc-item\"><li><ul class=\"toc-item\"><li><span><a href=\"#1.-Muestren-la-información-general-del-set-de-datos-a-utilizar-para-la-fase-de-modelación-de-datos.-Incluir-un-resumen-con-la-descripción-de-las-variables-relevantes-para-el-análisis.\" data-toc-modified-id=\"1.-Muestren-la-información-general-del-set-de-datos-a-utilizar-para-la-fase-de-modelación-de-datos.-Incluir-un-resumen-con-la-descripción-de-las-variables-relevantes-para-el-análisis.-1.0.1\">1. Muestren la información general del set de datos a utilizar para la fase de modelación de datos. Incluir un resumen con la descripción de las variables relevantes para el análisis.</a></span></li><li><span><a href=\"#3.-Definan-la-variable-target,-o-de-respuesta-(dependiente)-y-las-features-o-variables-predictoras-(independientes)\" data-toc-modified-id=\"3.-Definan-la-variable-target,-o-de-respuesta-(dependiente)-y-las-features-o-variables-predictoras-(independientes)-1.0.2\">3. Definan la variable target, o de respuesta (dependiente) y las features o variables predictoras (independientes)</a></span></li><li><span><a href=\"#4.-Definan-qué-tipos-de-modelos-debes-utilizar,-de-regresión-o-de-clasificación.-Justificar-su-respuesta.\" data-toc-modified-id=\"4.-Definan-qué-tipos-de-modelos-debes-utilizar,-de-regresión-o-de-clasificación.-Justificar-su-respuesta.-1.0.3\">4. Definan qué tipos de modelos debes utilizar, de regresión o de clasificación. Justificar su respuesta.</a></span></li><li><span><a href=\"#5.-Definan-el-dataset-para-entrenamiento-y-prueba.\" data-toc-modified-id=\"5.-Definan-el-dataset-para-entrenamiento-y-prueba.-1.0.4\">5. Definan el dataset para entrenamiento y prueba.</a></span></li><li><span><a href=\"#6.-Realizar-varias-veces-los-siguientes-pasos,-para-tratar-de-encontrar-el-mejor-modelo-de-predicción:\" data-toc-modified-id=\"6.-Realizar-varias-veces-los-siguientes-pasos,-para-tratar-de-encontrar-el-mejor-modelo-de-predicción:-1.0.5\">6. Realizar varias veces los siguientes pasos, para tratar de encontrar el mejor modelo de predicción:</a></span><ul class=\"toc-item\"><li><span><a href=\"#a)-Prueben-todos-los-modelos-de-clasificación-vistos-en-clase-para-generar-predicciones.-Al-utilizar-árboles-de-decisión,-genera-también-la-imagen-del-mismo.\" data-toc-modified-id=\"a)-Prueben-todos-los-modelos-de-clasificación-vistos-en-clase-para-generar-predicciones.-Al-utilizar-árboles-de-decisión,-genera-también-la-imagen-del-mismo.-1.0.5.1\">a) Prueben todos los modelos de clasificación vistos en clase para generar predicciones. Al utilizar árboles de decisión, genera también la imagen del mismo.</a></span></li><li><span><a href=\"#b)-Calculen-y-utilicen-métricas-para-comparar-los-modelos:-accuracy,-matriz-de-confusión,-precisión,-sensitividad,-especificidad.\" data-toc-modified-id=\"b)-Calculen-y-utilicen-métricas-para-comparar-los-modelos:-accuracy,-matriz-de-confusión,-precisión,-sensitividad,-especificidad.-1.0.5.2\">b) Calculen y utilicen métricas para comparar los modelos: accuracy, matriz de confusión, precisión, sensitividad, especificidad.</a></span></li><li><span><a href=\"#c)-Implementen-hiperparámetros\" data-toc-modified-id=\"c)-Implementen-hiperparámetros-1.0.5.3\">c) Implementen hiperparámetros</a></span></li><li><span><a href=\"#d)-Implementen-procedimiento-de-validación-cruzada-para-sus-modelos\" data-toc-modified-id=\"d)-Implementen-procedimiento-de-validación-cruzada-para-sus-modelos-1.0.5.4\">d) Implementen procedimiento de validación cruzada para sus modelos</a></span></li></ul></li><li><span><a href=\"#7.-Describan-el-proceso-realizado-y-presenten-sus-conclusiones-al-respecto\" data-toc-modified-id=\"7.-Describan-el-proceso-realizado-y-presenten-sus-conclusiones-al-respecto-1.0.6\">7. Describan el proceso realizado y presenten sus conclusiones al respecto</a></span></li></ul></li></ul></li><li><span><a href=\"#4)-Análisis-de-resultados-y-selección-de-modelo-de-predicción.\" data-toc-modified-id=\"4)-Análisis-de-resultados-y-selección-de-modelo-de-predicción.-2\">4) Análisis de resultados y selección de modelo de predicción.</a></span></li><li><span><a href=\"#6)-Agregar-Conclusiones.\" data-toc-modified-id=\"6)-Agregar-Conclusiones.-3\">6) Agregar Conclusiones.</a></span></li><li><span><a href=\"#7)-Actualizar-el-documento-rector-con-los-hallazgos-de-esta-etapa.\" data-toc-modified-id=\"7)-Actualizar-el-documento-rector-con-los-hallazgos-de-esta-etapa.-4\">7) Actualizar el documento rector con los hallazgos de esta etapa.</a></span></li></ul></div>"
   ]
  },
  {
   "cell_type": "code",
   "execution_count": 1,
   "id": "d028eb37",
   "metadata": {
    "ExecuteTime": {
     "end_time": "2022-11-17T20:34:27.198873Z",
     "start_time": "2022-11-17T20:34:01.548790Z"
    }
   },
   "outputs": [
    {
     "name": "stderr",
     "output_type": "stream",
     "text": [
      "2022-11-17 14:34:11.176850: I tensorflow/core/platform/cpu_feature_guard.cc:193] This TensorFlow binary is optimized with oneAPI Deep Neural Network Library (oneDNN) to use the following CPU instructions in performance-critical operations:  AVX2 FMA\n",
      "To enable them in other operations, rebuild TensorFlow with the appropriate compiler flags.\n"
     ]
    }
   ],
   "source": [
    "import pandas as pd\n",
    "import numpy as np\n",
    "import matplotlib.pyplot as plt\n",
    "import plotly.express as px\n",
    "from sklearn.model_selection import train_test_split\n",
    "from sklearn.linear_model import LogisticRegression\n",
    "from sklearn.linear_model import LinearRegression\n",
    "from sklearn.ensemble import RandomForestRegressor, RandomForestClassifier\n",
    "from sklearn.model_selection import train_test_split,cross_val_score, GridSearchCV, KFold, StratifiedKFold, RandomizedSearchCV\n",
    "from xgboost import XGBClassifier\n",
    "from sklearn.metrics import precision_score, recall_score, accuracy_score, classification_report\n",
    "import pickle\n",
    "import seaborn as sns\n",
    "from mpl_toolkits.mplot3d import Axes3D\n",
    "from sklearn.preprocessing import OneHotEncoder\n",
    "from sklearn.utils import shuffle\n",
    "from sklearn import model_selection\n",
    "from sklearn.metrics import confusion_matrix\n",
    "import tensorflow as tf\n",
    "from tensorflow import keras\n",
    "from keras import layers\n",
    "import tensorflow_docs as tfdocs\n",
    "import tensorflow_docs.plots\n",
    "import tensorflow_docs.modeling\n",
    "import keras\n",
    "from keras.layers import Dense, Dropout, Activation, Flatten, Conv1D, Conv2D, MaxPooling1D, MaxPooling2D, Lambda, MaxPool2D, BatchNormalization\n",
    "from keras.utils import np_utils\n",
    "from keras import models, layers, optimizers\n",
    "from sklearn.model_selection import train_test_split\n",
    "from sklearn.metrics import confusion_matrix, accuracy_score\n",
    "from sklearn.utils import class_weight\n",
    "from tensorflow import keras\n",
    "from tensorflow.keras.optimizers import Adam\n",
    "from keras.models import Sequential, model_from_json\n",
    "from keras.preprocessing.image import ImageDataGenerator\n",
    "from keras.callbacks import ReduceLROnPlateau, ModelCheckpoint\n",
    "from keras import backend as K\n",
    "from keras.applications.vgg16 import VGG16\n",
    "from keras.models import Model\n",
    "\n",
    "from sklearn.metrics import accuracy_score, classification_report, confusion_matrix, label_ranking_average_precision_score, label_ranking_loss, coverage_error \n",
    "import itertools\n",
    "\n",
    "import warnings\n",
    "warnings.filterwarnings(\"ignore\")"
   ]
  },
  {
   "cell_type": "code",
   "execution_count": 2,
   "id": "5b5ae646",
   "metadata": {
    "ExecuteTime": {
     "end_time": "2022-11-17T20:34:32.905115Z",
     "start_time": "2022-11-17T20:34:27.227829Z"
    }
   },
   "outputs": [],
   "source": [
    "db = pd.read_csv(\"InfraccionesGDL_DB_v1.csv\")\n",
    "db['INFRACCIONES'] = db[['INFRACCION_1.0',\n",
    "       'INFRACCION_4.0', 'INFRACCION_5.0']].sum(axis = 1)\n",
    "\n",
    "db = db.loc[db['INFRACCIONES'] > 0]\n",
    "\n",
    "db['INFRACCION'] = 0\n",
    "condition_1 = (db['INFRACCION_1.0'] == 1)\n",
    "db.loc[condition_1, 'INFRACCION'] = 1\n",
    "\n",
    "condition_4 = (db['INFRACCION_4.0'] == 1)\n",
    "db.loc[condition_4, 'INFRACCION'] = 4\n",
    "\n",
    "condition_5 = (db['INFRACCION_5.0'] == 1)\n",
    "db.loc[condition_5, 'INFRACCION'] = 5\n",
    "\n",
    "db = db.drop(columns = [\"Unnamed: 0\"])\n",
    "\n",
    "db = db[['ESTADO', 'MARCA', 'CALLE', 'CRUCE', 'FECHA', 'MES', 'ANO',\n",
    "         'HORA', 'HORA_NUM', 'LATITUD', 'LONGITUD', 'INFRACCION']]\n",
    "\n",
    "db.FECHA = pd.to_datetime(db.FECHA)\n",
    "\n",
    "db.HORA = pd.to_datetime(db.HORA)\n",
    "db.HORA = [time.time() for time in db.HORA]\n",
    "\n",
    "db.DIAS = db.FECHA.dt.weekday"
   ]
  },
  {
   "cell_type": "code",
   "execution_count": 3,
   "id": "ef45bb90",
   "metadata": {
    "ExecuteTime": {
     "end_time": "2022-11-17T20:34:33.004855Z",
     "start_time": "2022-11-17T20:34:32.918614Z"
    }
   },
   "outputs": [
    {
     "data": {
      "text/plain": [
       "array(['morelos', 'jalisco', 'estado de mexico', 'sinaloa',\n",
       "       'baja california norte', 'san luis potosi', 'nayarit',\n",
       "       'ciudad de mexico', 'yucatan', 'guerrero', 'sonora', 'michoacan',\n",
       "       'durango', 'chihuahua', 'colima', 'quintana roo', 'queretaro',\n",
       "       'guanajuato', 'baja california sur', 'nuevo leon', 'hidalgo',\n",
       "       'oaxaca', 'puebla', 'tabasco', 'aguascalientes', 'zacatecas',\n",
       "       'tamaulipas', 'campeche', 'coahuila', 'veracruz', 'tlaxcala',\n",
       "       'chiapas', 'extranjero'], dtype=object)"
      ]
     },
     "execution_count": 3,
     "metadata": {},
     "output_type": "execute_result"
    }
   ],
   "source": [
    "db.ESTADO.unique()"
   ]
  },
  {
   "cell_type": "code",
   "execution_count": 4,
   "id": "b4d75364",
   "metadata": {
    "ExecuteTime": {
     "end_time": "2022-11-17T20:34:33.044930Z",
     "start_time": "2022-11-17T20:34:33.028981Z"
    }
   },
   "outputs": [
    {
     "data": {
      "text/plain": [
       "Index(['ESTADO', 'MARCA', 'CALLE', 'CRUCE', 'FECHA', 'MES', 'ANO', 'HORA',\n",
       "       'HORA_NUM', 'LATITUD', 'LONGITUD', 'INFRACCION'],\n",
       "      dtype='object')"
      ]
     },
     "execution_count": 4,
     "metadata": {},
     "output_type": "execute_result"
    }
   ],
   "source": [
    "db.columns"
   ]
  },
  {
   "cell_type": "code",
   "execution_count": 5,
   "id": "6d8047eb",
   "metadata": {
    "ExecuteTime": {
     "end_time": "2022-11-17T20:34:33.096139Z",
     "start_time": "2022-11-17T20:34:33.073922Z"
    }
   },
   "outputs": [
    {
     "data": {
      "text/html": [
       "<div>\n",
       "<style scoped>\n",
       "    .dataframe tbody tr th:only-of-type {\n",
       "        vertical-align: middle;\n",
       "    }\n",
       "\n",
       "    .dataframe tbody tr th {\n",
       "        vertical-align: top;\n",
       "    }\n",
       "\n",
       "    .dataframe thead th {\n",
       "        text-align: right;\n",
       "    }\n",
       "</style>\n",
       "<table border=\"1\" class=\"dataframe\">\n",
       "  <thead>\n",
       "    <tr style=\"text-align: right;\">\n",
       "      <th></th>\n",
       "      <th>ESTADO</th>\n",
       "      <th>MARCA</th>\n",
       "      <th>CALLE</th>\n",
       "      <th>CRUCE</th>\n",
       "      <th>FECHA</th>\n",
       "      <th>MES</th>\n",
       "      <th>ANO</th>\n",
       "      <th>HORA</th>\n",
       "      <th>HORA_NUM</th>\n",
       "      <th>LATITUD</th>\n",
       "      <th>LONGITUD</th>\n",
       "      <th>INFRACCION</th>\n",
       "    </tr>\n",
       "  </thead>\n",
       "  <tbody>\n",
       "    <tr>\n",
       "      <th>2</th>\n",
       "      <td>jalisco</td>\n",
       "      <td>volkswagen</td>\n",
       "      <td>avenida de la paz</td>\n",
       "      <td>francisco de quevedo</td>\n",
       "      <td>2021-08-16</td>\n",
       "      <td>August</td>\n",
       "      <td>2021</td>\n",
       "      <td>11:26:00</td>\n",
       "      <td>11</td>\n",
       "      <td>20.67</td>\n",
       "      <td>-103.38</td>\n",
       "      <td>1</td>\n",
       "    </tr>\n",
       "    <tr>\n",
       "      <th>3</th>\n",
       "      <td>jalisco</td>\n",
       "      <td>freightliner</td>\n",
       "      <td>avenida de la paz</td>\n",
       "      <td>francisco de quevedo</td>\n",
       "      <td>2021-08-16</td>\n",
       "      <td>August</td>\n",
       "      <td>2021</td>\n",
       "      <td>11:27:00</td>\n",
       "      <td>11</td>\n",
       "      <td>20.67</td>\n",
       "      <td>-103.38</td>\n",
       "      <td>5</td>\n",
       "    </tr>\n",
       "    <tr>\n",
       "      <th>4</th>\n",
       "      <td>jalisco</td>\n",
       "      <td>volkswagen</td>\n",
       "      <td>francisco de quevedo</td>\n",
       "      <td>avenida de la paz</td>\n",
       "      <td>2021-08-16</td>\n",
       "      <td>August</td>\n",
       "      <td>2021</td>\n",
       "      <td>11:38:00</td>\n",
       "      <td>11</td>\n",
       "      <td>20.67</td>\n",
       "      <td>-103.38</td>\n",
       "      <td>1</td>\n",
       "    </tr>\n",
       "  </tbody>\n",
       "</table>\n",
       "</div>"
      ],
      "text/plain": [
       "    ESTADO         MARCA                 CALLE                 CRUCE  \\\n",
       "2  jalisco    volkswagen     avenida de la paz  francisco de quevedo   \n",
       "3  jalisco  freightliner     avenida de la paz  francisco de quevedo   \n",
       "4  jalisco    volkswagen  francisco de quevedo     avenida de la paz   \n",
       "\n",
       "       FECHA     MES   ANO      HORA  HORA_NUM  LATITUD  LONGITUD  INFRACCION  \n",
       "2 2021-08-16  August  2021  11:26:00        11    20.67   -103.38           1  \n",
       "3 2021-08-16  August  2021  11:27:00        11    20.67   -103.38           5  \n",
       "4 2021-08-16  August  2021  11:38:00        11    20.67   -103.38           1  "
      ]
     },
     "execution_count": 5,
     "metadata": {},
     "output_type": "execute_result"
    }
   ],
   "source": [
    "db.head(5)[2:]"
   ]
  },
  {
   "cell_type": "markdown",
   "id": "65c4d427",
   "metadata": {},
   "source": [
    "### 1) Incluir en forma resumida la información de las variables relevantes."
   ]
  },
  {
   "cell_type": "code",
   "execution_count": 6,
   "id": "0ae3c3e6",
   "metadata": {
    "ExecuteTime": {
     "end_time": "2022-11-17T20:34:34.158589Z",
     "start_time": "2022-11-17T20:34:33.109404Z"
    }
   },
   "outputs": [
    {
     "data": {
      "text/html": [
       "<div>\n",
       "<style scoped>\n",
       "    .dataframe tbody tr th:only-of-type {\n",
       "        vertical-align: middle;\n",
       "    }\n",
       "\n",
       "    .dataframe tbody tr th {\n",
       "        vertical-align: top;\n",
       "    }\n",
       "\n",
       "    .dataframe thead th {\n",
       "        text-align: right;\n",
       "    }\n",
       "</style>\n",
       "<table border=\"1\" class=\"dataframe\">\n",
       "  <thead>\n",
       "    <tr style=\"text-align: right;\">\n",
       "      <th></th>\n",
       "      <th>ESTADO</th>\n",
       "      <th>MARCA</th>\n",
       "      <th>CALLE</th>\n",
       "      <th>CRUCE</th>\n",
       "      <th>FECHA</th>\n",
       "      <th>MES</th>\n",
       "      <th>ANO</th>\n",
       "      <th>HORA</th>\n",
       "      <th>HORA_NUM</th>\n",
       "      <th>LATITUD</th>\n",
       "      <th>LONGITUD</th>\n",
       "      <th>INFRACCION</th>\n",
       "    </tr>\n",
       "  </thead>\n",
       "  <tbody>\n",
       "    <tr>\n",
       "      <th>count</th>\n",
       "      <td>305801</td>\n",
       "      <td>305801</td>\n",
       "      <td>305765</td>\n",
       "      <td>305716</td>\n",
       "      <td>305801</td>\n",
       "      <td>305801</td>\n",
       "      <td>305801.000000</td>\n",
       "      <td>305801</td>\n",
       "      <td>305801.000000</td>\n",
       "      <td>305791.000000</td>\n",
       "      <td>305791.000000</td>\n",
       "      <td>305801.000000</td>\n",
       "    </tr>\n",
       "    <tr>\n",
       "      <th>unique</th>\n",
       "      <td>33</td>\n",
       "      <td>67</td>\n",
       "      <td>6687</td>\n",
       "      <td>9774</td>\n",
       "      <td>643</td>\n",
       "      <td>12</td>\n",
       "      <td>NaN</td>\n",
       "      <td>2210</td>\n",
       "      <td>NaN</td>\n",
       "      <td>NaN</td>\n",
       "      <td>NaN</td>\n",
       "      <td>NaN</td>\n",
       "    </tr>\n",
       "    <tr>\n",
       "      <th>top</th>\n",
       "      <td>jalisco</td>\n",
       "      <td>nissan</td>\n",
       "      <td>avenida de la paz</td>\n",
       "      <td>lópez cotilla</td>\n",
       "      <td>2021-02-17 00:00:00</td>\n",
       "      <td>March</td>\n",
       "      <td>NaN</td>\n",
       "      <td>12:14:00</td>\n",
       "      <td>NaN</td>\n",
       "      <td>NaN</td>\n",
       "      <td>NaN</td>\n",
       "      <td>NaN</td>\n",
       "    </tr>\n",
       "    <tr>\n",
       "      <th>freq</th>\n",
       "      <td>229601</td>\n",
       "      <td>45311</td>\n",
       "      <td>11433</td>\n",
       "      <td>7608</td>\n",
       "      <td>1251</td>\n",
       "      <td>32912</td>\n",
       "      <td>NaN</td>\n",
       "      <td>504</td>\n",
       "      <td>NaN</td>\n",
       "      <td>NaN</td>\n",
       "      <td>NaN</td>\n",
       "      <td>NaN</td>\n",
       "    </tr>\n",
       "    <tr>\n",
       "      <th>first</th>\n",
       "      <td>NaN</td>\n",
       "      <td>NaN</td>\n",
       "      <td>NaN</td>\n",
       "      <td>NaN</td>\n",
       "      <td>2021-01-02 00:00:00</td>\n",
       "      <td>NaN</td>\n",
       "      <td>NaN</td>\n",
       "      <td>NaN</td>\n",
       "      <td>NaN</td>\n",
       "      <td>NaN</td>\n",
       "      <td>NaN</td>\n",
       "      <td>NaN</td>\n",
       "    </tr>\n",
       "    <tr>\n",
       "      <th>last</th>\n",
       "      <td>NaN</td>\n",
       "      <td>NaN</td>\n",
       "      <td>NaN</td>\n",
       "      <td>NaN</td>\n",
       "      <td>2022-12-10 00:00:00</td>\n",
       "      <td>NaN</td>\n",
       "      <td>NaN</td>\n",
       "      <td>NaN</td>\n",
       "      <td>NaN</td>\n",
       "      <td>NaN</td>\n",
       "      <td>NaN</td>\n",
       "      <td>NaN</td>\n",
       "    </tr>\n",
       "    <tr>\n",
       "      <th>mean</th>\n",
       "      <td>NaN</td>\n",
       "      <td>NaN</td>\n",
       "      <td>NaN</td>\n",
       "      <td>NaN</td>\n",
       "      <td>NaN</td>\n",
       "      <td>NaN</td>\n",
       "      <td>2021.551228</td>\n",
       "      <td>NaN</td>\n",
       "      <td>9.755916</td>\n",
       "      <td>20.676389</td>\n",
       "      <td>-103.360824</td>\n",
       "      <td>2.757996</td>\n",
       "    </tr>\n",
       "    <tr>\n",
       "      <th>std</th>\n",
       "      <td>NaN</td>\n",
       "      <td>NaN</td>\n",
       "      <td>NaN</td>\n",
       "      <td>NaN</td>\n",
       "      <td>NaN</td>\n",
       "      <td>NaN</td>\n",
       "      <td>0.497370</td>\n",
       "      <td>NaN</td>\n",
       "      <td>6.885302</td>\n",
       "      <td>0.039252</td>\n",
       "      <td>0.034785</td>\n",
       "      <td>1.747697</td>\n",
       "    </tr>\n",
       "    <tr>\n",
       "      <th>min</th>\n",
       "      <td>NaN</td>\n",
       "      <td>NaN</td>\n",
       "      <td>NaN</td>\n",
       "      <td>NaN</td>\n",
       "      <td>NaN</td>\n",
       "      <td>NaN</td>\n",
       "      <td>2021.000000</td>\n",
       "      <td>NaN</td>\n",
       "      <td>0.000000</td>\n",
       "      <td>19.910670</td>\n",
       "      <td>-110.957672</td>\n",
       "      <td>1.000000</td>\n",
       "    </tr>\n",
       "    <tr>\n",
       "      <th>25%</th>\n",
       "      <td>NaN</td>\n",
       "      <td>NaN</td>\n",
       "      <td>NaN</td>\n",
       "      <td>NaN</td>\n",
       "      <td>NaN</td>\n",
       "      <td>NaN</td>\n",
       "      <td>2021.000000</td>\n",
       "      <td>NaN</td>\n",
       "      <td>0.000000</td>\n",
       "      <td>20.671469</td>\n",
       "      <td>-103.371738</td>\n",
       "      <td>1.000000</td>\n",
       "    </tr>\n",
       "    <tr>\n",
       "      <th>50%</th>\n",
       "      <td>NaN</td>\n",
       "      <td>NaN</td>\n",
       "      <td>NaN</td>\n",
       "      <td>NaN</td>\n",
       "      <td>NaN</td>\n",
       "      <td>NaN</td>\n",
       "      <td>2022.000000</td>\n",
       "      <td>NaN</td>\n",
       "      <td>12.000000</td>\n",
       "      <td>20.674378</td>\n",
       "      <td>-103.361184</td>\n",
       "      <td>4.000000</td>\n",
       "    </tr>\n",
       "    <tr>\n",
       "      <th>75%</th>\n",
       "      <td>NaN</td>\n",
       "      <td>NaN</td>\n",
       "      <td>NaN</td>\n",
       "      <td>NaN</td>\n",
       "      <td>NaN</td>\n",
       "      <td>NaN</td>\n",
       "      <td>2022.000000</td>\n",
       "      <td>NaN</td>\n",
       "      <td>15.000000</td>\n",
       "      <td>20.677945</td>\n",
       "      <td>-103.349153</td>\n",
       "      <td>4.000000</td>\n",
       "    </tr>\n",
       "    <tr>\n",
       "      <th>max</th>\n",
       "      <td>NaN</td>\n",
       "      <td>NaN</td>\n",
       "      <td>NaN</td>\n",
       "      <td>NaN</td>\n",
       "      <td>NaN</td>\n",
       "      <td>NaN</td>\n",
       "      <td>2022.000000</td>\n",
       "      <td>NaN</td>\n",
       "      <td>23.000000</td>\n",
       "      <td>31.326010</td>\n",
       "      <td>-102.445630</td>\n",
       "      <td>5.000000</td>\n",
       "    </tr>\n",
       "  </tbody>\n",
       "</table>\n",
       "</div>"
      ],
      "text/plain": [
       "         ESTADO   MARCA              CALLE          CRUCE  \\\n",
       "count    305801  305801             305765         305716   \n",
       "unique       33      67               6687           9774   \n",
       "top     jalisco  nissan  avenida de la paz  lópez cotilla   \n",
       "freq     229601   45311              11433           7608   \n",
       "first       NaN     NaN                NaN            NaN   \n",
       "last        NaN     NaN                NaN            NaN   \n",
       "mean        NaN     NaN                NaN            NaN   \n",
       "std         NaN     NaN                NaN            NaN   \n",
       "min         NaN     NaN                NaN            NaN   \n",
       "25%         NaN     NaN                NaN            NaN   \n",
       "50%         NaN     NaN                NaN            NaN   \n",
       "75%         NaN     NaN                NaN            NaN   \n",
       "max         NaN     NaN                NaN            NaN   \n",
       "\n",
       "                      FECHA     MES            ANO      HORA       HORA_NUM  \\\n",
       "count                305801  305801  305801.000000    305801  305801.000000   \n",
       "unique                  643      12            NaN      2210            NaN   \n",
       "top     2021-02-17 00:00:00   March            NaN  12:14:00            NaN   \n",
       "freq                   1251   32912            NaN       504            NaN   \n",
       "first   2021-01-02 00:00:00     NaN            NaN       NaN            NaN   \n",
       "last    2022-12-10 00:00:00     NaN            NaN       NaN            NaN   \n",
       "mean                    NaN     NaN    2021.551228       NaN       9.755916   \n",
       "std                     NaN     NaN       0.497370       NaN       6.885302   \n",
       "min                     NaN     NaN    2021.000000       NaN       0.000000   \n",
       "25%                     NaN     NaN    2021.000000       NaN       0.000000   \n",
       "50%                     NaN     NaN    2022.000000       NaN      12.000000   \n",
       "75%                     NaN     NaN    2022.000000       NaN      15.000000   \n",
       "max                     NaN     NaN    2022.000000       NaN      23.000000   \n",
       "\n",
       "              LATITUD       LONGITUD     INFRACCION  \n",
       "count   305791.000000  305791.000000  305801.000000  \n",
       "unique            NaN            NaN            NaN  \n",
       "top               NaN            NaN            NaN  \n",
       "freq              NaN            NaN            NaN  \n",
       "first             NaN            NaN            NaN  \n",
       "last              NaN            NaN            NaN  \n",
       "mean        20.676389    -103.360824       2.757996  \n",
       "std          0.039252       0.034785       1.747697  \n",
       "min         19.910670    -110.957672       1.000000  \n",
       "25%         20.671469    -103.371738       1.000000  \n",
       "50%         20.674378    -103.361184       4.000000  \n",
       "75%         20.677945    -103.349153       4.000000  \n",
       "max         31.326010    -102.445630       5.000000  "
      ]
     },
     "execution_count": 6,
     "metadata": {},
     "output_type": "execute_result"
    }
   ],
   "source": [
    "db.describe(include = 'all')"
   ]
  },
  {
   "cell_type": "markdown",
   "id": "581da70b",
   "metadata": {},
   "source": [
    "##### 1. Muestren la información general del set de datos a utilizar para la fase de modelación de datos. Incluir un resumen con la descripción de las variables relevantes para el análisis."
   ]
  },
  {
   "cell_type": "markdown",
   "id": "e666edd0",
   "metadata": {},
   "source": [
    "<span style=\"color:purple;font-size:18px\">\n",
    "\n",
    "1. **ESTADO**: Estado de la placa del automóvil infraccionado | *Tipo String.*\n",
    "2. **MARCA**: Marca del automóvil infraccionado | *Tipo String.*\n",
    "3. **CALLE**: Calle principal donde se realizó la infracción | *Tipo String.*\n",
    "4. **CRUCE**: Cruce más cercano de la calle principal donde se realizó la infracción | *Tipo String.*\n",
    "5. **FECHA**: Fecha de la infracción | *Tipo Datetime.*\n",
    "6. **MES**: Mes (en inglés) de la infracción | *Tipo int: Valores del 1 al 12.*\n",
    "7. **HORA_NUM**: Hora de la infracción | *Tipo Datetime.*\n",
    "8. **LATITUD**: Latitud geográfica de la infracción | *Tipo int.*\n",
    "9. **LONGITUD**: Longitud geográfica de la infracción | *Tipo int.* \n",
    "10. **INFRACCIÓN**: Tipo de infracción cometida por el vehículo | *Tipo int. Valores 1, 4 o 5. </span>"
   ]
  },
  {
   "cell_type": "markdown",
   "id": "3ae6816e",
   "metadata": {},
   "source": [
    "##### 3. Definan la variable target, o de respuesta (dependiente) y las features o variables predictoras (independientes)"
   ]
  },
  {
   "cell_type": "code",
   "execution_count": 7,
   "id": "e922b182",
   "metadata": {
    "ExecuteTime": {
     "end_time": "2022-11-17T20:34:34.183495Z",
     "start_time": "2022-11-17T20:34:34.167182Z"
    }
   },
   "outputs": [],
   "source": [
    "target = [\"INFRACCION\"] \n",
    "\n",
    "features = ['ESTADO', 'MARCA', 'CALLE', 'CRUCE', 'FECHA', 'MES', 'HORA_NUM', 'LATITUD', 'LONGITUD']"
   ]
  },
  {
   "cell_type": "markdown",
   "id": "d0472dcf",
   "metadata": {},
   "source": [
    "<span style=\"color:purple;font-size:18px\"> Nuestro target será el tipo de **INFRACCIÓN**, donde los features serán: **ESTADO, MARCA, CALLE, CRUCE, FECHA, MES, HORA_NUM, LATITUD, LONGITUD**. </span>"
   ]
  },
  {
   "cell_type": "markdown",
   "id": "c3826dcb",
   "metadata": {},
   "source": [
    "##### 4. Definan qué tipos de modelos debes utilizar, de regresión o de clasificación. Justificar su respuesta."
   ]
  },
  {
   "cell_type": "markdown",
   "id": "1ae4833c",
   "metadata": {},
   "source": [
    "<span style=\"color:purple;font-size:18px\"> El modelo a utilizar será un **MODELO DE CLASIFICACIÓN MULTIVARIABLE** para definir el tipo de infracción. </span>"
   ]
  },
  {
   "cell_type": "markdown",
   "id": "f9360033",
   "metadata": {},
   "source": [
    "##### 5. Definan el dataset para entrenamiento y prueba.\n"
   ]
  },
  {
   "cell_type": "code",
   "execution_count": 8,
   "id": "083fa97d",
   "metadata": {
    "ExecuteTime": {
     "end_time": "2022-11-17T20:34:34.392000Z",
     "start_time": "2022-11-17T20:34:34.193170Z"
    }
   },
   "outputs": [],
   "source": [
    "clean_training = db.loc[db['ANO'] == 2021]\n",
    "clean_prediction = db.loc[db['ANO'] == 2022]\n",
    "\n",
    "clean_prediction_notarget = clean_prediction[features]"
   ]
  },
  {
   "cell_type": "markdown",
   "id": "231fd933",
   "metadata": {},
   "source": [
    "<span style=\"color:purple;font-size:18px\">El training serán las infracciones de 2021 y la predicción las infracciones de 2022. </span>"
   ]
  },
  {
   "cell_type": "code",
   "execution_count": 9,
   "id": "81ced1bc",
   "metadata": {
    "ExecuteTime": {
     "end_time": "2022-11-17T20:34:34.411971Z",
     "start_time": "2022-11-17T20:34:34.399045Z"
    }
   },
   "outputs": [
    {
     "data": {
      "text/plain": [
       "Index(['ESTADO', 'MARCA', 'CALLE', 'CRUCE', 'FECHA', 'MES', 'ANO', 'HORA',\n",
       "       'HORA_NUM', 'LATITUD', 'LONGITUD', 'INFRACCION'],\n",
       "      dtype='object')"
      ]
     },
     "execution_count": 9,
     "metadata": {},
     "output_type": "execute_result"
    }
   ],
   "source": [
    "clean_training.columns"
   ]
  },
  {
   "cell_type": "markdown",
   "id": "36478f4a",
   "metadata": {},
   "source": [
    "##### 6. Realizar varias veces los siguientes pasos, para tratar de encontrar el mejor modelo de predicción:"
   ]
  },
  {
   "cell_type": "markdown",
   "id": "21d0f94a",
   "metadata": {},
   "source": [
    "###### a) Prueben todos los modelos de clasificación vistos en clase para generar predicciones. Al utilizar árboles de decisión, genera también la imagen del mismo."
   ]
  },
  {
   "cell_type": "code",
   "execution_count": 10,
   "id": "3f0647c2",
   "metadata": {
    "ExecuteTime": {
     "end_time": "2022-11-17T20:34:34.725048Z",
     "start_time": "2022-11-17T20:34:34.416826Z"
    }
   },
   "outputs": [],
   "source": [
    "clean_training = clean_training.dropna(subset = 'LATITUD')\n",
    "\n",
    "x_oa = clean_training.drop(['INFRACCION'], axis=1)\n",
    "\n",
    "str_features = ['ESTADO', 'MARCA']\n",
    "\n",
    "for i in range(len(str_features)):\n",
    "    clean_training[str_features[i]] = clean_training[str_features[i]].astype(\"category\")\n",
    "    clean_training[str_features[i]+\"_cat\"] = clean_training[str_features[i]].cat.reorder_categories(clean_training[str_features[i]].unique(),\n",
    "                                                                       ordered=True)\n",
    "    clean_training[str_features[i]+\"_cat\"] = clean_training[str_features[i]+\"_cat\"].cat.codes\n",
    "\n",
    "x_oa['MES'] = x_oa.FECHA.dt.month\n",
    "\n",
    "for i in range(len(str_features)):\n",
    "    x_oa[str_features[i]] = x_oa[str_features[i]].astype(\"category\")\n",
    "    x_oa[str_features[i]+\"_cat\"] = x_oa[str_features[i]].cat.reorder_categories(x_oa[str_features[i]].unique(),\n",
    "                                                                       ordered=True)\n",
    "    x_oa[str_features[i]+\"_cat\"] = x_oa[str_features[i]+\"_cat\"].cat.codes\n",
    "\n",
    "x_oa['MES'] = x_oa.FECHA.dt.month\n",
    "\n",
    "x_oa_all = x_oa"
   ]
  },
  {
   "cell_type": "code",
   "execution_count": 21,
   "id": "66d4199c",
   "metadata": {
    "ExecuteTime": {
     "end_time": "2022-11-17T21:58:46.029159Z",
     "start_time": "2022-11-17T21:58:45.950616Z"
    }
   },
   "outputs": [
    {
     "data": {
      "text/html": [
       "<div>\n",
       "<style scoped>\n",
       "    .dataframe tbody tr th:only-of-type {\n",
       "        vertical-align: middle;\n",
       "    }\n",
       "\n",
       "    .dataframe tbody tr th {\n",
       "        vertical-align: top;\n",
       "    }\n",
       "\n",
       "    .dataframe thead th {\n",
       "        text-align: right;\n",
       "    }\n",
       "</style>\n",
       "<table border=\"1\" class=\"dataframe\">\n",
       "  <thead>\n",
       "    <tr style=\"text-align: right;\">\n",
       "      <th></th>\n",
       "      <th>ESTADO</th>\n",
       "      <th>MARCA</th>\n",
       "      <th>CALLE</th>\n",
       "      <th>CRUCE</th>\n",
       "      <th>FECHA</th>\n",
       "      <th>MES</th>\n",
       "      <th>ANO</th>\n",
       "      <th>HORA</th>\n",
       "      <th>HORA_NUM</th>\n",
       "      <th>LATITUD</th>\n",
       "      <th>LONGITUD</th>\n",
       "      <th>ESTADO_cat</th>\n",
       "      <th>MARCA_cat</th>\n",
       "    </tr>\n",
       "  </thead>\n",
       "  <tbody>\n",
       "    <tr>\n",
       "      <th>0</th>\n",
       "      <td>morelos</td>\n",
       "      <td>jeep</td>\n",
       "      <td>calle manuel lópez cotilla</td>\n",
       "      <td>francisco de quevedo</td>\n",
       "      <td>2021-08-16</td>\n",
       "      <td>8</td>\n",
       "      <td>2021</td>\n",
       "      <td>11:11:00</td>\n",
       "      <td>11</td>\n",
       "      <td>20.67</td>\n",
       "      <td>-103.38</td>\n",
       "      <td>17</td>\n",
       "      <td>30</td>\n",
       "    </tr>\n",
       "    <tr>\n",
       "      <th>1</th>\n",
       "      <td>jalisco</td>\n",
       "      <td>kicks</td>\n",
       "      <td>calle lope de vega</td>\n",
       "      <td>avenida de la paz</td>\n",
       "      <td>2021-08-16</td>\n",
       "      <td>8</td>\n",
       "      <td>2021</td>\n",
       "      <td>11:22:00</td>\n",
       "      <td>11</td>\n",
       "      <td>20.67</td>\n",
       "      <td>-103.38</td>\n",
       "      <td>15</td>\n",
       "      <td>33</td>\n",
       "    </tr>\n",
       "    <tr>\n",
       "      <th>2</th>\n",
       "      <td>jalisco</td>\n",
       "      <td>volkswagen</td>\n",
       "      <td>avenida de la paz</td>\n",
       "      <td>francisco de quevedo</td>\n",
       "      <td>2021-08-16</td>\n",
       "      <td>8</td>\n",
       "      <td>2021</td>\n",
       "      <td>11:26:00</td>\n",
       "      <td>11</td>\n",
       "      <td>20.67</td>\n",
       "      <td>-103.38</td>\n",
       "      <td>15</td>\n",
       "      <td>64</td>\n",
       "    </tr>\n",
       "  </tbody>\n",
       "</table>\n",
       "</div>"
      ],
      "text/plain": [
       "    ESTADO       MARCA                       CALLE                 CRUCE  \\\n",
       "0  morelos        jeep  calle manuel lópez cotilla  francisco de quevedo   \n",
       "1  jalisco       kicks          calle lope de vega     avenida de la paz   \n",
       "2  jalisco  volkswagen           avenida de la paz  francisco de quevedo   \n",
       "\n",
       "       FECHA  MES   ANO      HORA  HORA_NUM  LATITUD  LONGITUD  ESTADO_cat  \\\n",
       "0 2021-08-16    8  2021  11:11:00        11    20.67   -103.38          17   \n",
       "1 2021-08-16    8  2021  11:22:00        11    20.67   -103.38          15   \n",
       "2 2021-08-16    8  2021  11:26:00        11    20.67   -103.38          15   \n",
       "\n",
       "   MARCA_cat  \n",
       "0         30  \n",
       "1         33  \n",
       "2         64  "
      ]
     },
     "execution_count": 21,
     "metadata": {},
     "output_type": "execute_result"
    }
   ],
   "source": [
    "x_oa_all.head(3)"
   ]
  },
  {
   "cell_type": "markdown",
   "id": "3d84c7ae",
   "metadata": {},
   "source": [
    "3. Gradient Boost"
   ]
  },
  {
   "cell_type": "code",
   "execution_count": 11,
   "id": "bc0e3366",
   "metadata": {
    "ExecuteTime": {
     "end_time": "2022-11-17T20:34:34.811508Z",
     "start_time": "2022-11-17T20:34:34.747389Z"
    }
   },
   "outputs": [],
   "source": [
    "x_oa = x_oa_all[['ESTADO_cat', 'MARCA_cat', 'MES', 'HORA_NUM', 'LATITUD', 'LONGITUD']]\n",
    "y_oa = clean_training['INFRACCION']\n",
    "y_oa = y_oa.replace({1: 0, 4: 1, 5: 2})\n",
    "\n",
    "xtrain_oa, xtest_oa, ytrain_oa, ytest_oa = train_test_split(x_oa, y_oa, test_size=0.25, random_state=1)"
   ]
  },
  {
   "cell_type": "code",
   "execution_count": 12,
   "id": "b2d56899",
   "metadata": {
    "ExecuteTime": {
     "end_time": "2022-11-17T20:47:55.018720Z",
     "start_time": "2022-11-17T20:34:34.836059Z"
    }
   },
   "outputs": [
    {
     "data": {
      "text/html": [
       "<style>#sk-container-id-1 {color: black;background-color: white;}#sk-container-id-1 pre{padding: 0;}#sk-container-id-1 div.sk-toggleable {background-color: white;}#sk-container-id-1 label.sk-toggleable__label {cursor: pointer;display: block;width: 100%;margin-bottom: 0;padding: 0.3em;box-sizing: border-box;text-align: center;}#sk-container-id-1 label.sk-toggleable__label-arrow:before {content: \"▸\";float: left;margin-right: 0.25em;color: #696969;}#sk-container-id-1 label.sk-toggleable__label-arrow:hover:before {color: black;}#sk-container-id-1 div.sk-estimator:hover label.sk-toggleable__label-arrow:before {color: black;}#sk-container-id-1 div.sk-toggleable__content {max-height: 0;max-width: 0;overflow: hidden;text-align: left;background-color: #f0f8ff;}#sk-container-id-1 div.sk-toggleable__content pre {margin: 0.2em;color: black;border-radius: 0.25em;background-color: #f0f8ff;}#sk-container-id-1 input.sk-toggleable__control:checked~div.sk-toggleable__content {max-height: 200px;max-width: 100%;overflow: auto;}#sk-container-id-1 input.sk-toggleable__control:checked~label.sk-toggleable__label-arrow:before {content: \"▾\";}#sk-container-id-1 div.sk-estimator input.sk-toggleable__control:checked~label.sk-toggleable__label {background-color: #d4ebff;}#sk-container-id-1 div.sk-label input.sk-toggleable__control:checked~label.sk-toggleable__label {background-color: #d4ebff;}#sk-container-id-1 input.sk-hidden--visually {border: 0;clip: rect(1px 1px 1px 1px);clip: rect(1px, 1px, 1px, 1px);height: 1px;margin: -1px;overflow: hidden;padding: 0;position: absolute;width: 1px;}#sk-container-id-1 div.sk-estimator {font-family: monospace;background-color: #f0f8ff;border: 1px dotted black;border-radius: 0.25em;box-sizing: border-box;margin-bottom: 0.5em;}#sk-container-id-1 div.sk-estimator:hover {background-color: #d4ebff;}#sk-container-id-1 div.sk-parallel-item::after {content: \"\";width: 100%;border-bottom: 1px solid gray;flex-grow: 1;}#sk-container-id-1 div.sk-label:hover label.sk-toggleable__label {background-color: #d4ebff;}#sk-container-id-1 div.sk-serial::before {content: \"\";position: absolute;border-left: 1px solid gray;box-sizing: border-box;top: 0;bottom: 0;left: 50%;z-index: 0;}#sk-container-id-1 div.sk-serial {display: flex;flex-direction: column;align-items: center;background-color: white;padding-right: 0.2em;padding-left: 0.2em;position: relative;}#sk-container-id-1 div.sk-item {position: relative;z-index: 1;}#sk-container-id-1 div.sk-parallel {display: flex;align-items: stretch;justify-content: center;background-color: white;position: relative;}#sk-container-id-1 div.sk-item::before, #sk-container-id-1 div.sk-parallel-item::before {content: \"\";position: absolute;border-left: 1px solid gray;box-sizing: border-box;top: 0;bottom: 0;left: 50%;z-index: -1;}#sk-container-id-1 div.sk-parallel-item {display: flex;flex-direction: column;z-index: 1;position: relative;background-color: white;}#sk-container-id-1 div.sk-parallel-item:first-child::after {align-self: flex-end;width: 50%;}#sk-container-id-1 div.sk-parallel-item:last-child::after {align-self: flex-start;width: 50%;}#sk-container-id-1 div.sk-parallel-item:only-child::after {width: 0;}#sk-container-id-1 div.sk-dashed-wrapped {border: 1px dashed gray;margin: 0 0.4em 0.5em 0.4em;box-sizing: border-box;padding-bottom: 0.4em;background-color: white;}#sk-container-id-1 div.sk-label label {font-family: monospace;font-weight: bold;display: inline-block;line-height: 1.2em;}#sk-container-id-1 div.sk-label-container {text-align: center;}#sk-container-id-1 div.sk-container {/* jupyter's `normalize.less` sets `[hidden] { display: none; }` but bootstrap.min.css set `[hidden] { display: none !important; }` so we also need the `!important` here to be able to override the default hidden behavior on the sphinx rendered scikit-learn.org. See: https://github.com/scikit-learn/scikit-learn/issues/21755 */display: inline-block !important;position: relative;}#sk-container-id-1 div.sk-text-repr-fallback {display: none;}</style><div id=\"sk-container-id-1\" class=\"sk-top-container\"><div class=\"sk-text-repr-fallback\"><pre>XGBClassifier(base_score=0.5, booster=&#x27;gbtree&#x27;, callbacks=None,\n",
       "              colsample_bylevel=1, colsample_bynode=1, colsample_bytree=1,\n",
       "              early_stopping_rounds=None, enable_categorical=False,\n",
       "              eval_metric=None, gamma=0, gpu_id=-1, grow_policy=&#x27;depthwise&#x27;,\n",
       "              importance_type=None, interaction_constraints=&#x27;&#x27;,\n",
       "              learning_rate=0.01, max_bin=256, max_cat_to_onehot=4,\n",
       "              max_delta_step=0, max_depth=6, max_leaves=0, min_child_weight=1,\n",
       "              missing=nan, monotone_constraints=&#x27;()&#x27;, n_estimators=4000,\n",
       "              n_jobs=0, num_parallel_tree=1, objective=&#x27;multi:softprob&#x27;,\n",
       "              predictor=&#x27;auto&#x27;, random_state=0, reg_alpha=0, ...)</pre><b>In a Jupyter environment, please rerun this cell to show the HTML representation or trust the notebook. <br />On GitHub, the HTML representation is unable to render, please try loading this page with nbviewer.org.</b></div><div class=\"sk-container\" hidden><div class=\"sk-item\"><div class=\"sk-estimator sk-toggleable\"><input class=\"sk-toggleable__control sk-hidden--visually\" id=\"sk-estimator-id-1\" type=\"checkbox\" checked><label for=\"sk-estimator-id-1\" class=\"sk-toggleable__label sk-toggleable__label-arrow\">XGBClassifier</label><div class=\"sk-toggleable__content\"><pre>XGBClassifier(base_score=0.5, booster=&#x27;gbtree&#x27;, callbacks=None,\n",
       "              colsample_bylevel=1, colsample_bynode=1, colsample_bytree=1,\n",
       "              early_stopping_rounds=None, enable_categorical=False,\n",
       "              eval_metric=None, gamma=0, gpu_id=-1, grow_policy=&#x27;depthwise&#x27;,\n",
       "              importance_type=None, interaction_constraints=&#x27;&#x27;,\n",
       "              learning_rate=0.01, max_bin=256, max_cat_to_onehot=4,\n",
       "              max_delta_step=0, max_depth=6, max_leaves=0, min_child_weight=1,\n",
       "              missing=nan, monotone_constraints=&#x27;()&#x27;, n_estimators=4000,\n",
       "              n_jobs=0, num_parallel_tree=1, objective=&#x27;multi:softprob&#x27;,\n",
       "              predictor=&#x27;auto&#x27;, random_state=0, reg_alpha=0, ...)</pre></div></div></div></div></div>"
      ],
      "text/plain": [
       "XGBClassifier(base_score=0.5, booster='gbtree', callbacks=None,\n",
       "              colsample_bylevel=1, colsample_bynode=1, colsample_bytree=1,\n",
       "              early_stopping_rounds=None, enable_categorical=False,\n",
       "              eval_metric=None, gamma=0, gpu_id=-1, grow_policy='depthwise',\n",
       "              importance_type=None, interaction_constraints='',\n",
       "              learning_rate=0.01, max_bin=256, max_cat_to_onehot=4,\n",
       "              max_delta_step=0, max_depth=6, max_leaves=0, min_child_weight=1,\n",
       "              missing=nan, monotone_constraints='()', n_estimators=4000,\n",
       "              n_jobs=0, num_parallel_tree=1, objective='multi:softprob',\n",
       "              predictor='auto', random_state=0, reg_alpha=0, ...)"
      ]
     },
     "execution_count": 12,
     "metadata": {},
     "output_type": "execute_result"
    }
   ],
   "source": [
    "gradient_boosting_cls_oa = XGBClassifier(\n",
    "    n_estimators=4000,\n",
    "    learning_rate=0.01,\n",
    "    max_depth=6)\n",
    "\n",
    "gradient_boosting_cls_oa.fit(xtrain_oa, ytrain_oa)"
   ]
  },
  {
   "cell_type": "code",
   "execution_count": 13,
   "id": "feff65c3",
   "metadata": {
    "ExecuteTime": {
     "end_time": "2022-11-17T20:47:59.214009Z",
     "start_time": "2022-11-17T20:47:55.024582Z"
    }
   },
   "outputs": [],
   "source": [
    "predictions_grad_oa = gradient_boosting_cls_oa.predict(xtest_oa)"
   ]
  },
  {
   "cell_type": "markdown",
   "id": "217d8d9d",
   "metadata": {},
   "source": [
    "###### b) Calculen y utilicen métricas para comparar los modelos: accuracy, matriz de confusión, precisión, sensitividad, especificidad."
   ]
  },
  {
   "cell_type": "markdown",
   "id": "87aaf798",
   "metadata": {},
   "source": [
    "3. Gradient Boost"
   ]
  },
  {
   "cell_type": "code",
   "execution_count": 18,
   "id": "5a93fb4b",
   "metadata": {
    "ExecuteTime": {
     "end_time": "2022-11-17T21:17:21.333581Z",
     "start_time": "2022-11-17T21:17:15.691078Z"
    }
   },
   "outputs": [
    {
     "name": "stdout",
     "output_type": "stream",
     "text": [
      "Accuracy on test set:0.84\n",
      "              precision    recall  f1-score   support\n",
      "\n",
      "           0       0.87      0.97      0.92     15373\n",
      "           1       0.82      0.78      0.80     10576\n",
      "           2       0.79      0.67      0.73      8358\n",
      "\n",
      "    accuracy                           0.84     34307\n",
      "   macro avg       0.83      0.81      0.81     34307\n",
      "weighted avg       0.84      0.84      0.84     34307\n",
      "\n",
      "Confusion matrix\n",
      "\n",
      " [[14962   224   187]\n",
      " [ 1043  8234  1299]\n",
      " [ 1143  1610  5605]]\n"
     ]
    }
   ],
   "source": [
    "print(f\"Accuracy on test set:{round(gradient_boosting_cls_oa.score(xtest_oa, ytest_oa),2)}\")\n",
    "\n",
    "print(classification_report(ytest_oa, predictions_grad_oa))\n",
    "\n",
    "cm_oa = confusion_matrix(ytest_oa, predictions_grad_oa)\n",
    "print('Confusion matrix\\n\\n', cm_oa)"
   ]
  },
  {
   "cell_type": "markdown",
   "id": "7c512b09",
   "metadata": {},
   "source": [
    "###### c) Implementen hiperparámetros"
   ]
  },
  {
   "cell_type": "code",
   "execution_count": 15,
   "id": "b50b20ce",
   "metadata": {
    "ExecuteTime": {
     "end_time": "2022-11-17T20:48:03.836528Z",
     "start_time": "2022-11-17T20:48:03.820261Z"
    }
   },
   "outputs": [
    {
     "name": "stdout",
     "output_type": "stream",
     "text": [
      "{'base_score': 0.5,\n",
      " 'booster': 'gbtree',\n",
      " 'callbacks': None,\n",
      " 'colsample_bylevel': 1,\n",
      " 'colsample_bynode': 1,\n",
      " 'colsample_bytree': 1,\n",
      " 'early_stopping_rounds': None,\n",
      " 'enable_categorical': False,\n",
      " 'eval_metric': None,\n",
      " 'gamma': 0,\n",
      " 'gpu_id': -1,\n",
      " 'grow_policy': 'depthwise',\n",
      " 'importance_type': None,\n",
      " 'interaction_constraints': '',\n",
      " 'learning_rate': 0.01,\n",
      " 'max_bin': 256,\n",
      " 'max_cat_to_onehot': 4,\n",
      " 'max_delta_step': 0,\n",
      " 'max_depth': 6,\n",
      " 'max_leaves': 0,\n",
      " 'min_child_weight': 1,\n",
      " 'missing': nan,\n",
      " 'monotone_constraints': '()',\n",
      " 'n_estimators': 4000,\n",
      " 'n_jobs': 0,\n",
      " 'num_parallel_tree': 1,\n",
      " 'objective': 'multi:softprob',\n",
      " 'predictor': 'auto',\n",
      " 'random_state': 0,\n",
      " 'reg_alpha': 0,\n",
      " 'reg_lambda': 1,\n",
      " 'sampling_method': 'uniform',\n",
      " 'scale_pos_weight': None,\n",
      " 'subsample': 1,\n",
      " 'tree_method': 'exact',\n",
      " 'use_label_encoder': False,\n",
      " 'validate_parameters': 1,\n",
      " 'verbosity': None}\n"
     ]
    }
   ],
   "source": [
    "from pprint import pprint\n",
    "pprint(gradient_boosting_cls_oa.get_params())"
   ]
  },
  {
   "cell_type": "code",
   "execution_count": 16,
   "id": "dce476ad",
   "metadata": {
    "ExecuteTime": {
     "end_time": "2022-11-17T20:48:03.858300Z",
     "start_time": "2022-11-17T20:48:03.849748Z"
    }
   },
   "outputs": [],
   "source": [
    "param_grid = {'n_estimators': [1000, 1500, 2000, 2500, 3000, 4000],\n",
    "              'max_depth': [5, 6, 7, 8, 9],\n",
    "              'n_jobs': [0, 1, 2, 3]}"
   ]
  },
  {
   "cell_type": "code",
   "execution_count": 22,
   "id": "dd21694a",
   "metadata": {
    "ExecuteTime": {
     "end_time": "2022-11-18T01:53:53.976557Z",
     "start_time": "2022-11-17T23:01:50.577848Z"
    },
    "scrolled": true
   },
   "outputs": [
    {
     "data": {
      "text/html": [
       "<style>#sk-container-id-2 {color: black;background-color: white;}#sk-container-id-2 pre{padding: 0;}#sk-container-id-2 div.sk-toggleable {background-color: white;}#sk-container-id-2 label.sk-toggleable__label {cursor: pointer;display: block;width: 100%;margin-bottom: 0;padding: 0.3em;box-sizing: border-box;text-align: center;}#sk-container-id-2 label.sk-toggleable__label-arrow:before {content: \"▸\";float: left;margin-right: 0.25em;color: #696969;}#sk-container-id-2 label.sk-toggleable__label-arrow:hover:before {color: black;}#sk-container-id-2 div.sk-estimator:hover label.sk-toggleable__label-arrow:before {color: black;}#sk-container-id-2 div.sk-toggleable__content {max-height: 0;max-width: 0;overflow: hidden;text-align: left;background-color: #f0f8ff;}#sk-container-id-2 div.sk-toggleable__content pre {margin: 0.2em;color: black;border-radius: 0.25em;background-color: #f0f8ff;}#sk-container-id-2 input.sk-toggleable__control:checked~div.sk-toggleable__content {max-height: 200px;max-width: 100%;overflow: auto;}#sk-container-id-2 input.sk-toggleable__control:checked~label.sk-toggleable__label-arrow:before {content: \"▾\";}#sk-container-id-2 div.sk-estimator input.sk-toggleable__control:checked~label.sk-toggleable__label {background-color: #d4ebff;}#sk-container-id-2 div.sk-label input.sk-toggleable__control:checked~label.sk-toggleable__label {background-color: #d4ebff;}#sk-container-id-2 input.sk-hidden--visually {border: 0;clip: rect(1px 1px 1px 1px);clip: rect(1px, 1px, 1px, 1px);height: 1px;margin: -1px;overflow: hidden;padding: 0;position: absolute;width: 1px;}#sk-container-id-2 div.sk-estimator {font-family: monospace;background-color: #f0f8ff;border: 1px dotted black;border-radius: 0.25em;box-sizing: border-box;margin-bottom: 0.5em;}#sk-container-id-2 div.sk-estimator:hover {background-color: #d4ebff;}#sk-container-id-2 div.sk-parallel-item::after {content: \"\";width: 100%;border-bottom: 1px solid gray;flex-grow: 1;}#sk-container-id-2 div.sk-label:hover label.sk-toggleable__label {background-color: #d4ebff;}#sk-container-id-2 div.sk-serial::before {content: \"\";position: absolute;border-left: 1px solid gray;box-sizing: border-box;top: 0;bottom: 0;left: 50%;z-index: 0;}#sk-container-id-2 div.sk-serial {display: flex;flex-direction: column;align-items: center;background-color: white;padding-right: 0.2em;padding-left: 0.2em;position: relative;}#sk-container-id-2 div.sk-item {position: relative;z-index: 1;}#sk-container-id-2 div.sk-parallel {display: flex;align-items: stretch;justify-content: center;background-color: white;position: relative;}#sk-container-id-2 div.sk-item::before, #sk-container-id-2 div.sk-parallel-item::before {content: \"\";position: absolute;border-left: 1px solid gray;box-sizing: border-box;top: 0;bottom: 0;left: 50%;z-index: -1;}#sk-container-id-2 div.sk-parallel-item {display: flex;flex-direction: column;z-index: 1;position: relative;background-color: white;}#sk-container-id-2 div.sk-parallel-item:first-child::after {align-self: flex-end;width: 50%;}#sk-container-id-2 div.sk-parallel-item:last-child::after {align-self: flex-start;width: 50%;}#sk-container-id-2 div.sk-parallel-item:only-child::after {width: 0;}#sk-container-id-2 div.sk-dashed-wrapped {border: 1px dashed gray;margin: 0 0.4em 0.5em 0.4em;box-sizing: border-box;padding-bottom: 0.4em;background-color: white;}#sk-container-id-2 div.sk-label label {font-family: monospace;font-weight: bold;display: inline-block;line-height: 1.2em;}#sk-container-id-2 div.sk-label-container {text-align: center;}#sk-container-id-2 div.sk-container {/* jupyter's `normalize.less` sets `[hidden] { display: none; }` but bootstrap.min.css set `[hidden] { display: none !important; }` so we also need the `!important` here to be able to override the default hidden behavior on the sphinx rendered scikit-learn.org. See: https://github.com/scikit-learn/scikit-learn/issues/21755 */display: inline-block !important;position: relative;}#sk-container-id-2 div.sk-text-repr-fallback {display: none;}</style><div id=\"sk-container-id-2\" class=\"sk-top-container\"><div class=\"sk-text-repr-fallback\"><pre>RandomizedSearchCV(cv=5,\n",
       "                   estimator=XGBClassifier(base_score=0.5, booster=&#x27;gbtree&#x27;,\n",
       "                                           callbacks=None, colsample_bylevel=1,\n",
       "                                           colsample_bynode=1,\n",
       "                                           colsample_bytree=1,\n",
       "                                           early_stopping_rounds=None,\n",
       "                                           enable_categorical=False,\n",
       "                                           eval_metric=None, gamma=0, gpu_id=-1,\n",
       "                                           grow_policy=&#x27;depthwise&#x27;,\n",
       "                                           importance_type=None,\n",
       "                                           interaction_constraints=&#x27;&#x27;,\n",
       "                                           learning_rate=0.01, max_bin=256,\n",
       "                                           max_cat...\n",
       "                                           max_leaves=0, min_child_weight=1,\n",
       "                                           missing=nan,\n",
       "                                           monotone_constraints=&#x27;()&#x27;,\n",
       "                                           n_estimators=4000, n_jobs=0,\n",
       "                                           num_parallel_tree=1,\n",
       "                                           objective=&#x27;multi:softprob&#x27;,\n",
       "                                           predictor=&#x27;auto&#x27;, random_state=0,\n",
       "                                           reg_alpha=0, ...),\n",
       "                   param_distributions={&#x27;learning_rate&#x27;: [0.001, 0.01, 0.1],\n",
       "                                        &#x27;max_depth&#x27;: [3, 4, 5, 6, 7, 8],\n",
       "                                        &#x27;n_estimators&#x27;: [1000, 1500, 2000, 2500,\n",
       "                                                         3000, 4000, 50000,\n",
       "                                                         6000],\n",
       "                                        &#x27;n_jobs&#x27;: [0, 1, 2, 3]})</pre><b>In a Jupyter environment, please rerun this cell to show the HTML representation or trust the notebook. <br />On GitHub, the HTML representation is unable to render, please try loading this page with nbviewer.org.</b></div><div class=\"sk-container\" hidden><div class=\"sk-item sk-dashed-wrapped\"><div class=\"sk-label-container\"><div class=\"sk-label sk-toggleable\"><input class=\"sk-toggleable__control sk-hidden--visually\" id=\"sk-estimator-id-2\" type=\"checkbox\" ><label for=\"sk-estimator-id-2\" class=\"sk-toggleable__label sk-toggleable__label-arrow\">RandomizedSearchCV</label><div class=\"sk-toggleable__content\"><pre>RandomizedSearchCV(cv=5,\n",
       "                   estimator=XGBClassifier(base_score=0.5, booster=&#x27;gbtree&#x27;,\n",
       "                                           callbacks=None, colsample_bylevel=1,\n",
       "                                           colsample_bynode=1,\n",
       "                                           colsample_bytree=1,\n",
       "                                           early_stopping_rounds=None,\n",
       "                                           enable_categorical=False,\n",
       "                                           eval_metric=None, gamma=0, gpu_id=-1,\n",
       "                                           grow_policy=&#x27;depthwise&#x27;,\n",
       "                                           importance_type=None,\n",
       "                                           interaction_constraints=&#x27;&#x27;,\n",
       "                                           learning_rate=0.01, max_bin=256,\n",
       "                                           max_cat...\n",
       "                                           max_leaves=0, min_child_weight=1,\n",
       "                                           missing=nan,\n",
       "                                           monotone_constraints=&#x27;()&#x27;,\n",
       "                                           n_estimators=4000, n_jobs=0,\n",
       "                                           num_parallel_tree=1,\n",
       "                                           objective=&#x27;multi:softprob&#x27;,\n",
       "                                           predictor=&#x27;auto&#x27;, random_state=0,\n",
       "                                           reg_alpha=0, ...),\n",
       "                   param_distributions={&#x27;learning_rate&#x27;: [0.001, 0.01, 0.1],\n",
       "                                        &#x27;max_depth&#x27;: [3, 4, 5, 6, 7, 8],\n",
       "                                        &#x27;n_estimators&#x27;: [1000, 1500, 2000, 2500,\n",
       "                                                         3000, 4000, 50000,\n",
       "                                                         6000],\n",
       "                                        &#x27;n_jobs&#x27;: [0, 1, 2, 3]})</pre></div></div></div><div class=\"sk-parallel\"><div class=\"sk-parallel-item\"><div class=\"sk-item\"><div class=\"sk-label-container\"><div class=\"sk-label sk-toggleable\"><input class=\"sk-toggleable__control sk-hidden--visually\" id=\"sk-estimator-id-3\" type=\"checkbox\" ><label for=\"sk-estimator-id-3\" class=\"sk-toggleable__label sk-toggleable__label-arrow\">estimator: XGBClassifier</label><div class=\"sk-toggleable__content\"><pre>XGBClassifier(base_score=0.5, booster=&#x27;gbtree&#x27;, callbacks=None,\n",
       "              colsample_bylevel=1, colsample_bynode=1, colsample_bytree=1,\n",
       "              early_stopping_rounds=None, enable_categorical=False,\n",
       "              eval_metric=None, gamma=0, gpu_id=-1, grow_policy=&#x27;depthwise&#x27;,\n",
       "              importance_type=None, interaction_constraints=&#x27;&#x27;,\n",
       "              learning_rate=0.01, max_bin=256, max_cat_to_onehot=4,\n",
       "              max_delta_step=0, max_depth=6, max_leaves=0, min_child_weight=1,\n",
       "              missing=nan, monotone_constraints=&#x27;()&#x27;, n_estimators=4000,\n",
       "              n_jobs=0, num_parallel_tree=1, objective=&#x27;multi:softprob&#x27;,\n",
       "              predictor=&#x27;auto&#x27;, random_state=0, reg_alpha=0, ...)</pre></div></div></div><div class=\"sk-serial\"><div class=\"sk-item\"><div class=\"sk-estimator sk-toggleable\"><input class=\"sk-toggleable__control sk-hidden--visually\" id=\"sk-estimator-id-4\" type=\"checkbox\" ><label for=\"sk-estimator-id-4\" class=\"sk-toggleable__label sk-toggleable__label-arrow\">XGBClassifier</label><div class=\"sk-toggleable__content\"><pre>XGBClassifier(base_score=0.5, booster=&#x27;gbtree&#x27;, callbacks=None,\n",
       "              colsample_bylevel=1, colsample_bynode=1, colsample_bytree=1,\n",
       "              early_stopping_rounds=None, enable_categorical=False,\n",
       "              eval_metric=None, gamma=0, gpu_id=-1, grow_policy=&#x27;depthwise&#x27;,\n",
       "              importance_type=None, interaction_constraints=&#x27;&#x27;,\n",
       "              learning_rate=0.01, max_bin=256, max_cat_to_onehot=4,\n",
       "              max_delta_step=0, max_depth=6, max_leaves=0, min_child_weight=1,\n",
       "              missing=nan, monotone_constraints=&#x27;()&#x27;, n_estimators=4000,\n",
       "              n_jobs=0, num_parallel_tree=1, objective=&#x27;multi:softprob&#x27;,\n",
       "              predictor=&#x27;auto&#x27;, random_state=0, reg_alpha=0, ...)</pre></div></div></div></div></div></div></div></div></div></div>"
      ],
      "text/plain": [
       "RandomizedSearchCV(cv=5,\n",
       "                   estimator=XGBClassifier(base_score=0.5, booster='gbtree',\n",
       "                                           callbacks=None, colsample_bylevel=1,\n",
       "                                           colsample_bynode=1,\n",
       "                                           colsample_bytree=1,\n",
       "                                           early_stopping_rounds=None,\n",
       "                                           enable_categorical=False,\n",
       "                                           eval_metric=None, gamma=0, gpu_id=-1,\n",
       "                                           grow_policy='depthwise',\n",
       "                                           importance_type=None,\n",
       "                                           interaction_constraints='',\n",
       "                                           learning_rate=0.01, max_bin=256,\n",
       "                                           max_cat...\n",
       "                                           max_leaves=0, min_child_weight=1,\n",
       "                                           missing=nan,\n",
       "                                           monotone_constraints='()',\n",
       "                                           n_estimators=4000, n_jobs=0,\n",
       "                                           num_parallel_tree=1,\n",
       "                                           objective='multi:softprob',\n",
       "                                           predictor='auto', random_state=0,\n",
       "                                           reg_alpha=0, ...),\n",
       "                   param_distributions={'learning_rate': [0.001, 0.01, 0.1],\n",
       "                                        'max_depth': [3, 4, 5, 6, 7, 8],\n",
       "                                        'n_estimators': [1000, 1500, 2000, 2500,\n",
       "                                                         3000, 4000, 50000,\n",
       "                                                         6000],\n",
       "                                        'n_jobs': [0, 1, 2, 3]})"
      ]
     },
     "execution_count": 22,
     "metadata": {},
     "output_type": "execute_result"
    }
   ],
   "source": [
    "gradient_boosting_cls_oa_hyper = RandomizedSearchCV(gradient_boosting_cls_oa, param_grid, cv = 5)\n",
    "gradient_boosting_cls_oa_hyper.fit(xtest_oa, ytest_oa)"
   ]
  },
  {
   "cell_type": "code",
   "execution_count": 33,
   "id": "47fb46f9",
   "metadata": {
    "ExecuteTime": {
     "end_time": "2022-11-18T03:45:27.638011Z",
     "start_time": "2022-11-18T03:45:27.615483Z"
    }
   },
   "outputs": [
    {
     "data": {
      "text/plain": [
       "<bound method XGBModel.get_params of XGBClassifier(base_score=0.5, booster='gbtree', callbacks=None,\n",
       "              colsample_bylevel=1, colsample_bynode=1, colsample_bytree=1,\n",
       "              early_stopping_rounds=None, enable_categorical=False,\n",
       "              eval_metric=None, gamma=0, gpu_id=-1, grow_policy='depthwise',\n",
       "              importance_type=None, interaction_constraints='',\n",
       "              learning_rate=0.01, max_bin=256, max_cat_to_onehot=4,\n",
       "              max_delta_step=0, max_depth=6, max_leaves=0, min_child_weight=1,\n",
       "              missing=nan, monotone_constraints='()', n_estimators=4000,\n",
       "              n_jobs=0, num_parallel_tree=1, objective='multi:softprob',\n",
       "              predictor='auto', random_state=0, reg_alpha=0, ...)>"
      ]
     },
     "execution_count": 33,
     "metadata": {},
     "output_type": "execute_result"
    }
   ],
   "source": [
    "gradient_boosting_cls_oa.get_params"
   ]
  },
  {
   "cell_type": "code",
   "execution_count": 23,
   "id": "511df030",
   "metadata": {
    "ExecuteTime": {
     "end_time": "2022-11-18T01:53:54.818188Z",
     "start_time": "2022-11-18T01:53:54.809055Z"
    }
   },
   "outputs": [
    {
     "name": "stdout",
     "output_type": "stream",
     "text": [
      "The best parameters across ALL searched params:\n",
      " {'n_jobs': 2, 'n_estimators': 3000, 'max_depth': 8, 'learning_rate': 0.01}\n"
     ]
    }
   ],
   "source": [
    "print(\"The best parameters across ALL searched params:\\n\", gradient_boosting_cls_oa_hyper.best_params_)"
   ]
  },
  {
   "cell_type": "code",
   "execution_count": 24,
   "id": "a5bf989d",
   "metadata": {
    "ExecuteTime": {
     "end_time": "2022-11-18T01:54:05.614777Z",
     "start_time": "2022-11-18T01:53:55.496873Z"
    }
   },
   "outputs": [
    {
     "data": {
      "text/html": [
       "<style>#sk-container-id-3 {color: black;background-color: white;}#sk-container-id-3 pre{padding: 0;}#sk-container-id-3 div.sk-toggleable {background-color: white;}#sk-container-id-3 label.sk-toggleable__label {cursor: pointer;display: block;width: 100%;margin-bottom: 0;padding: 0.3em;box-sizing: border-box;text-align: center;}#sk-container-id-3 label.sk-toggleable__label-arrow:before {content: \"▸\";float: left;margin-right: 0.25em;color: #696969;}#sk-container-id-3 label.sk-toggleable__label-arrow:hover:before {color: black;}#sk-container-id-3 div.sk-estimator:hover label.sk-toggleable__label-arrow:before {color: black;}#sk-container-id-3 div.sk-toggleable__content {max-height: 0;max-width: 0;overflow: hidden;text-align: left;background-color: #f0f8ff;}#sk-container-id-3 div.sk-toggleable__content pre {margin: 0.2em;color: black;border-radius: 0.25em;background-color: #f0f8ff;}#sk-container-id-3 input.sk-toggleable__control:checked~div.sk-toggleable__content {max-height: 200px;max-width: 100%;overflow: auto;}#sk-container-id-3 input.sk-toggleable__control:checked~label.sk-toggleable__label-arrow:before {content: \"▾\";}#sk-container-id-3 div.sk-estimator input.sk-toggleable__control:checked~label.sk-toggleable__label {background-color: #d4ebff;}#sk-container-id-3 div.sk-label input.sk-toggleable__control:checked~label.sk-toggleable__label {background-color: #d4ebff;}#sk-container-id-3 input.sk-hidden--visually {border: 0;clip: rect(1px 1px 1px 1px);clip: rect(1px, 1px, 1px, 1px);height: 1px;margin: -1px;overflow: hidden;padding: 0;position: absolute;width: 1px;}#sk-container-id-3 div.sk-estimator {font-family: monospace;background-color: #f0f8ff;border: 1px dotted black;border-radius: 0.25em;box-sizing: border-box;margin-bottom: 0.5em;}#sk-container-id-3 div.sk-estimator:hover {background-color: #d4ebff;}#sk-container-id-3 div.sk-parallel-item::after {content: \"\";width: 100%;border-bottom: 1px solid gray;flex-grow: 1;}#sk-container-id-3 div.sk-label:hover label.sk-toggleable__label {background-color: #d4ebff;}#sk-container-id-3 div.sk-serial::before {content: \"\";position: absolute;border-left: 1px solid gray;box-sizing: border-box;top: 0;bottom: 0;left: 50%;z-index: 0;}#sk-container-id-3 div.sk-serial {display: flex;flex-direction: column;align-items: center;background-color: white;padding-right: 0.2em;padding-left: 0.2em;position: relative;}#sk-container-id-3 div.sk-item {position: relative;z-index: 1;}#sk-container-id-3 div.sk-parallel {display: flex;align-items: stretch;justify-content: center;background-color: white;position: relative;}#sk-container-id-3 div.sk-item::before, #sk-container-id-3 div.sk-parallel-item::before {content: \"\";position: absolute;border-left: 1px solid gray;box-sizing: border-box;top: 0;bottom: 0;left: 50%;z-index: -1;}#sk-container-id-3 div.sk-parallel-item {display: flex;flex-direction: column;z-index: 1;position: relative;background-color: white;}#sk-container-id-3 div.sk-parallel-item:first-child::after {align-self: flex-end;width: 50%;}#sk-container-id-3 div.sk-parallel-item:last-child::after {align-self: flex-start;width: 50%;}#sk-container-id-3 div.sk-parallel-item:only-child::after {width: 0;}#sk-container-id-3 div.sk-dashed-wrapped {border: 1px dashed gray;margin: 0 0.4em 0.5em 0.4em;box-sizing: border-box;padding-bottom: 0.4em;background-color: white;}#sk-container-id-3 div.sk-label label {font-family: monospace;font-weight: bold;display: inline-block;line-height: 1.2em;}#sk-container-id-3 div.sk-label-container {text-align: center;}#sk-container-id-3 div.sk-container {/* jupyter's `normalize.less` sets `[hidden] { display: none; }` but bootstrap.min.css set `[hidden] { display: none !important; }` so we also need the `!important` here to be able to override the default hidden behavior on the sphinx rendered scikit-learn.org. See: https://github.com/scikit-learn/scikit-learn/issues/21755 */display: inline-block !important;position: relative;}#sk-container-id-3 div.sk-text-repr-fallback {display: none;}</style><div id=\"sk-container-id-3\" class=\"sk-top-container\"><div class=\"sk-text-repr-fallback\"><pre>XGBClassifier(base_score=0.5, booster=&#x27;gbtree&#x27;, callbacks=None,\n",
       "              colsample_bylevel=1, colsample_bynode=1, colsample_bytree=1,\n",
       "              early_stopping_rounds=None, enable_categorical=False,\n",
       "              eval_metric=None, gamma=0, gpu_id=-1, grow_policy=&#x27;depthwise&#x27;,\n",
       "              importance_type=None, interaction_constraints=&#x27;&#x27;,\n",
       "              learning_rate=0.300000012, max_bin=256, max_cat_to_onehot=4,\n",
       "              max_delta_step=0, max_depth=6, max_leaves=0, min_child_weight=1,\n",
       "              missing=nan, monotone_constraints=&#x27;()&#x27;, n_estimators=100,\n",
       "              n_jobs=0, num_parallel_tree=1, objective=&#x27;multi:softprob&#x27;,\n",
       "              predictor=&#x27;auto&#x27;, random_state=0, reg_alpha=0, ...)</pre><b>In a Jupyter environment, please rerun this cell to show the HTML representation or trust the notebook. <br />On GitHub, the HTML representation is unable to render, please try loading this page with nbviewer.org.</b></div><div class=\"sk-container\" hidden><div class=\"sk-item\"><div class=\"sk-estimator sk-toggleable\"><input class=\"sk-toggleable__control sk-hidden--visually\" id=\"sk-estimator-id-5\" type=\"checkbox\" checked><label for=\"sk-estimator-id-5\" class=\"sk-toggleable__label sk-toggleable__label-arrow\">XGBClassifier</label><div class=\"sk-toggleable__content\"><pre>XGBClassifier(base_score=0.5, booster=&#x27;gbtree&#x27;, callbacks=None,\n",
       "              colsample_bylevel=1, colsample_bynode=1, colsample_bytree=1,\n",
       "              early_stopping_rounds=None, enable_categorical=False,\n",
       "              eval_metric=None, gamma=0, gpu_id=-1, grow_policy=&#x27;depthwise&#x27;,\n",
       "              importance_type=None, interaction_constraints=&#x27;&#x27;,\n",
       "              learning_rate=0.300000012, max_bin=256, max_cat_to_onehot=4,\n",
       "              max_delta_step=0, max_depth=6, max_leaves=0, min_child_weight=1,\n",
       "              missing=nan, monotone_constraints=&#x27;()&#x27;, n_estimators=100,\n",
       "              n_jobs=0, num_parallel_tree=1, objective=&#x27;multi:softprob&#x27;,\n",
       "              predictor=&#x27;auto&#x27;, random_state=0, reg_alpha=0, ...)</pre></div></div></div></div></div>"
      ],
      "text/plain": [
       "XGBClassifier(base_score=0.5, booster='gbtree', callbacks=None,\n",
       "              colsample_bylevel=1, colsample_bynode=1, colsample_bytree=1,\n",
       "              early_stopping_rounds=None, enable_categorical=False,\n",
       "              eval_metric=None, gamma=0, gpu_id=-1, grow_policy='depthwise',\n",
       "              importance_type=None, interaction_constraints='',\n",
       "              learning_rate=0.300000012, max_bin=256, max_cat_to_onehot=4,\n",
       "              max_delta_step=0, max_depth=6, max_leaves=0, min_child_weight=1,\n",
       "              missing=nan, monotone_constraints='()', n_estimators=100,\n",
       "              n_jobs=0, num_parallel_tree=1, objective='multi:softprob',\n",
       "              predictor='auto', random_state=0, reg_alpha=0, ...)"
      ]
     },
     "execution_count": 24,
     "metadata": {},
     "output_type": "execute_result"
    }
   ],
   "source": [
    "gradient_boosting_cls_oa_best = XGBClassifier(gradient_boosting_cls_oa_hyper.best_params_)\n",
    "\n",
    "gradient_boosting_cls_oa_best.fit(xtrain_oa, ytrain_oa)"
   ]
  },
  {
   "cell_type": "code",
   "execution_count": 25,
   "id": "898a705c",
   "metadata": {
    "ExecuteTime": {
     "end_time": "2022-11-18T01:54:06.507283Z",
     "start_time": "2022-11-18T01:54:06.402104Z"
    }
   },
   "outputs": [],
   "source": [
    "predictions_grad_oa_best = gradient_boosting_cls_oa_best.predict(xtest_oa)"
   ]
  },
  {
   "cell_type": "code",
   "execution_count": 27,
   "id": "9709d154",
   "metadata": {
    "ExecuteTime": {
     "end_time": "2022-11-18T03:42:55.212576Z",
     "start_time": "2022-11-18T03:42:54.914969Z"
    }
   },
   "outputs": [
    {
     "name": "stdout",
     "output_type": "stream",
     "text": [
      "Accuracy on test set:0.84\n",
      "              precision    recall  f1-score   support\n",
      "\n",
      "           0       0.87      0.97      0.92     15373\n",
      "           1       0.82      0.78      0.80     10576\n",
      "           2       0.79      0.67      0.72      8358\n",
      "\n",
      "    accuracy                           0.84     34307\n",
      "   macro avg       0.83      0.81      0.81     34307\n",
      "weighted avg       0.83      0.84      0.83     34307\n",
      "\n"
     ]
    }
   ],
   "source": [
    "print(f\"Accuracy on test set:{round(gradient_boosting_cls_oa_best.score(xtest_oa, ytest_oa),2)}\")\n",
    "\n",
    "print(classification_report(ytest_oa, predictions_grad_oa_best))"
   ]
  },
  {
   "cell_type": "code",
   "execution_count": 38,
   "id": "84e11a59",
   "metadata": {
    "ExecuteTime": {
     "end_time": "2022-11-18T04:46:53.021163Z",
     "start_time": "2022-11-18T04:46:52.925571Z"
    }
   },
   "outputs": [
    {
     "name": "stdout",
     "output_type": "stream",
     "text": [
      "Confusion matrix\n",
      "\n",
      " [[14969   220   184]\n",
      " [ 1067  8204  1305]\n",
      " [ 1193  1580  5585]]\n"
     ]
    }
   ],
   "source": [
    "cm_oa_best = confusion_matrix(ytest_oa, predictions_grad_oa_best)\n",
    "print('Confusion matrix\\n\\n', cm_oa_best)"
   ]
  },
  {
   "cell_type": "markdown",
   "id": "a63f4503",
   "metadata": {},
   "source": [
    "###### d) Implementen procedimiento de validación cruzada para sus modelos"
   ]
  },
  {
   "cell_type": "code",
   "execution_count": 28,
   "id": "7fe5b7fc",
   "metadata": {
    "ExecuteTime": {
     "end_time": "2022-11-18T03:44:21.386446Z",
     "start_time": "2022-11-18T03:44:21.243746Z"
    }
   },
   "outputs": [
    {
     "name": "stdout",
     "output_type": "stream",
     "text": [
      "TEST:  [ 3  6  9 14 17 23 25 26 34 36] TRAIN:  [ 0  1  2  4  5  7  8 10 11 12]\n",
      "25331 36855 6160 9257\n",
      "TEST:  [ 1  8 11 12 15 18 22 24 28 29] TRAIN:  [ 0  2  3  4  5  6  7  9 10 13]\n",
      "25154 36908 6337 9204\n",
      "TEST:  [ 0  4  5 32 39 44 45 47 58 64] TRAIN:  [ 1  2  3  6  7  8  9 10 11 12]\n",
      "25233 36783 6258 9329\n",
      "TEST:  [ 7 16 19 31 33 35 37 40 53 59] TRAIN:  [ 0  1  2  3  4  5  6  8  9 10]\n",
      "25124 36906 6367 9206\n",
      "TEST:  [ 2 10 13 20 21 27 30 43 46 55] TRAIN:  [ 0  1  3  4  5  6  7  8  9 11]\n",
      "25122 36996 6369 9116\n"
     ]
    }
   ],
   "source": [
    "from sklearn.model_selection import KFold\n",
    "from sklearn.model_selection import cross_val_score\n",
    "\n",
    "cv = KFold(n_splits=5, random_state=0, shuffle=True)\n",
    "\n",
    "for train_index, val_index in cv.split(xtrain_oa):\n",
    "        print(\"TEST: \",val_index[:10],\"TRAIN: \",train_index[:10]) \n",
    "        train, Xval = xtrain_oa.iloc[train_index], xtrain_oa.iloc[val_index]\n",
    "        ytrain, yval = ytrain_oa.iloc[train_index], ytrain_oa.iloc[val_index]\n",
    "        print((ytrain==1).sum(),(ytrain==0).sum(),(yval==1).sum(),(yval==0).sum())"
   ]
  },
  {
   "cell_type": "code",
   "execution_count": 34,
   "id": "f83df738",
   "metadata": {
    "ExecuteTime": {
     "end_time": "2022-11-18T04:32:29.896175Z",
     "start_time": "2022-11-18T03:49:21.786994Z"
    }
   },
   "outputs": [
    {
     "data": {
      "text/plain": [
       "array([0.83807812, 0.83560047, 0.84371356, 0.83933343, 0.84292863])"
      ]
     },
     "execution_count": 34,
     "metadata": {},
     "output_type": "execute_result"
    }
   ],
   "source": [
    "scores_val_oa = cross_val_score(gradient_boosting_cls_oa, xtrain_oa, ytrain_oa, cv=5)\n",
    "scores_val_oa"
   ]
  },
  {
   "cell_type": "code",
   "execution_count": 35,
   "id": "472c5f6d",
   "metadata": {
    "ExecuteTime": {
     "end_time": "2022-11-18T04:32:30.835818Z",
     "start_time": "2022-11-18T04:32:30.822739Z"
    }
   },
   "outputs": [
    {
     "name": "stdout",
     "output_type": "stream",
     "text": [
      "Accuracy: 0.84\n"
     ]
    }
   ],
   "source": [
    "print(\"Accuracy: %0.2f\" % (scores_val_oa.mean()))"
   ]
  },
  {
   "cell_type": "markdown",
   "id": "e8d98113",
   "metadata": {},
   "source": [
    "##### 7. Describan el proceso realizado y presenten sus conclusiones al respecto"
   ]
  },
  {
   "cell_type": "markdown",
   "id": "cf92d994",
   "metadata": {},
   "source": [
    "<span style=\"color:purple;font-size:18px\"> \n",
    "    \n",
    "\n",
    "3. Gradient XBoost classifier: El mejor modelo que se adaptó a los pocos datos que se tienen. Este modelo produce un modelo predictivo en forma de un conjunto de modelos de predicción débiles, típicamente árboles de decisión. En cada iteración, los árboles de decisión aprenden a determinar los errores residuales (obtenidos por el gradiente negativo) por lo que se le da un peso mayor a las observaciones difíciles de clasificar.\n",
    "\n",
    "</span>"
   ]
  },
  {
   "cell_type": "markdown",
   "id": "cbd83a7d",
   "metadata": {},
   "source": [
    "### 4) Análisis de resultados y selección de modelo de predicción."
   ]
  },
  {
   "cell_type": "code",
   "execution_count": 36,
   "id": "050f491b",
   "metadata": {
    "ExecuteTime": {
     "end_time": "2022-11-18T04:32:32.004150Z",
     "start_time": "2022-11-18T04:32:31.963753Z"
    }
   },
   "outputs": [
    {
     "data": {
      "text/html": [
       "<div>\n",
       "<style scoped>\n",
       "    .dataframe tbody tr th:only-of-type {\n",
       "        vertical-align: middle;\n",
       "    }\n",
       "\n",
       "    .dataframe tbody tr th {\n",
       "        vertical-align: top;\n",
       "    }\n",
       "\n",
       "    .dataframe thead th {\n",
       "        text-align: right;\n",
       "    }\n",
       "</style>\n",
       "<table border=\"1\" class=\"dataframe\">\n",
       "  <thead>\n",
       "    <tr style=\"text-align: right;\">\n",
       "      <th></th>\n",
       "      <th>ESTADO</th>\n",
       "      <th>MARCA</th>\n",
       "      <th>ESTADO_cat</th>\n",
       "      <th>MARCA_cat</th>\n",
       "    </tr>\n",
       "  </thead>\n",
       "  <tbody>\n",
       "    <tr>\n",
       "      <th>0</th>\n",
       "      <td>morelos</td>\n",
       "      <td>jeep</td>\n",
       "      <td>17</td>\n",
       "      <td>30</td>\n",
       "    </tr>\n",
       "    <tr>\n",
       "      <th>1</th>\n",
       "      <td>jalisco</td>\n",
       "      <td>kicks</td>\n",
       "      <td>15</td>\n",
       "      <td>33</td>\n",
       "    </tr>\n",
       "    <tr>\n",
       "      <th>2</th>\n",
       "      <td>jalisco</td>\n",
       "      <td>volkswagen</td>\n",
       "      <td>15</td>\n",
       "      <td>64</td>\n",
       "    </tr>\n",
       "  </tbody>\n",
       "</table>\n",
       "</div>"
      ],
      "text/plain": [
       "    ESTADO       MARCA  ESTADO_cat  MARCA_cat\n",
       "0  morelos        jeep          17         30\n",
       "1  jalisco       kicks          15         33\n",
       "2  jalisco  volkswagen          15         64"
      ]
     },
     "execution_count": 36,
     "metadata": {},
     "output_type": "execute_result"
    }
   ],
   "source": [
    "x_oa_all[str_features + [str_features[i] + \"_cat\" for i in range(0, len(str_features))]].head(3)"
   ]
  },
  {
   "cell_type": "code",
   "execution_count": 39,
   "id": "ea049f47",
   "metadata": {
    "ExecuteTime": {
     "end_time": "2022-11-18T05:15:23.480771Z",
     "start_time": "2022-11-18T05:15:23.363475Z"
    }
   },
   "outputs": [],
   "source": [
    "# Guardar dos diccionarios con los valores reordenados a categorías\n",
    "\n",
    "estados_dict = pd.pivot_table(x_oa_all, index = 'ESTADO')['ESTADO_cat'].to_dict()\n",
    "marcas_dict = pd.pivot_table(x_oa_all, index = 'MARCA')['MARCA_cat'].to_dict()"
   ]
  },
  {
   "cell_type": "code",
   "execution_count": 40,
   "id": "62bf6722",
   "metadata": {
    "ExecuteTime": {
     "end_time": "2022-11-18T05:15:24.564240Z",
     "start_time": "2022-11-18T05:15:24.554528Z"
    }
   },
   "outputs": [
    {
     "data": {
      "text/plain": [
       "{'aguascalientes': 0,\n",
       " 'baja california norte': 1,\n",
       " 'baja california sur': 2,\n",
       " 'campeche': 3,\n",
       " 'chiapas': 4,\n",
       " 'chihuahua': 5,\n",
       " 'ciudad de mexico': 6,\n",
       " 'coahuila': 7,\n",
       " 'colima': 8,\n",
       " 'durango': 9,\n",
       " 'estado de mexico': 10,\n",
       " 'extranjero': 11,\n",
       " 'guanajuato': 12,\n",
       " 'guerrero': 13,\n",
       " 'hidalgo': 14,\n",
       " 'jalisco': 15,\n",
       " 'michoacan': 16,\n",
       " 'morelos': 17,\n",
       " 'nayarit': 18,\n",
       " 'nuevo leon': 19,\n",
       " 'oaxaca': 20,\n",
       " 'puebla': 21,\n",
       " 'queretaro': 22,\n",
       " 'quintana roo': 23,\n",
       " 'san luis potosi': 24,\n",
       " 'sinaloa': 25,\n",
       " 'sonora': 26,\n",
       " 'tabasco': 27,\n",
       " 'tamaulipas': 28,\n",
       " 'tlaxcala': 29,\n",
       " 'veracruz': 30,\n",
       " 'yucatan': 31,\n",
       " 'zacatecas': 32}"
      ]
     },
     "execution_count": 40,
     "metadata": {},
     "output_type": "execute_result"
    }
   ],
   "source": [
    "estados_dict"
   ]
  },
  {
   "cell_type": "code",
   "execution_count": 46,
   "id": "9db30cba",
   "metadata": {
    "ExecuteTime": {
     "end_time": "2022-11-18T05:16:11.109777Z",
     "start_time": "2022-11-18T05:16:11.016763Z"
    }
   },
   "outputs": [
    {
     "data": {
      "application/vnd.plotly.v1+json": {
       "config": {
        "plotlyServerURL": "https://plot.ly"
       },
       "data": [
        {
         "alignmentgroup": "True",
         "hovertemplate": "features=%{x}<br>importance=%{text}<extra></extra>",
         "legendgroup": "",
         "marker": {
          "color": "rgb(95, 70, 144)",
          "pattern": {
           "shape": ""
          }
         },
         "name": "",
         "offsetgroup": "",
         "orientation": "v",
         "showlegend": false,
         "text": [
          5,
          10,
          4,
          12,
          34,
          34
         ],
         "textposition": "auto",
         "type": "bar",
         "x": [
          "ESTADO_cat",
          "MARCA_cat",
          "MES",
          "HORA_NUM",
          "LATITUD",
          "LONGITUD"
         ],
         "xaxis": "x",
         "y": [
          5,
          10,
          4,
          12,
          34,
          34
         ],
         "yaxis": "y"
        }
       ],
       "layout": {
        "barmode": "relative",
        "legend": {
         "tracegroupgap": 0
        },
        "template": {
         "data": {
          "bar": [
           {
            "error_x": {
             "color": "#2a3f5f"
            },
            "error_y": {
             "color": "#2a3f5f"
            },
            "marker": {
             "line": {
              "color": "#E5ECF6",
              "width": 0.5
             },
             "pattern": {
              "fillmode": "overlay",
              "size": 10,
              "solidity": 0.2
             }
            },
            "type": "bar"
           }
          ],
          "barpolar": [
           {
            "marker": {
             "line": {
              "color": "#E5ECF6",
              "width": 0.5
             },
             "pattern": {
              "fillmode": "overlay",
              "size": 10,
              "solidity": 0.2
             }
            },
            "type": "barpolar"
           }
          ],
          "carpet": [
           {
            "aaxis": {
             "endlinecolor": "#2a3f5f",
             "gridcolor": "white",
             "linecolor": "white",
             "minorgridcolor": "white",
             "startlinecolor": "#2a3f5f"
            },
            "baxis": {
             "endlinecolor": "#2a3f5f",
             "gridcolor": "white",
             "linecolor": "white",
             "minorgridcolor": "white",
             "startlinecolor": "#2a3f5f"
            },
            "type": "carpet"
           }
          ],
          "choropleth": [
           {
            "colorbar": {
             "outlinewidth": 0,
             "ticks": ""
            },
            "type": "choropleth"
           }
          ],
          "contour": [
           {
            "colorbar": {
             "outlinewidth": 0,
             "ticks": ""
            },
            "colorscale": [
             [
              0,
              "#0d0887"
             ],
             [
              0.1111111111111111,
              "#46039f"
             ],
             [
              0.2222222222222222,
              "#7201a8"
             ],
             [
              0.3333333333333333,
              "#9c179e"
             ],
             [
              0.4444444444444444,
              "#bd3786"
             ],
             [
              0.5555555555555556,
              "#d8576b"
             ],
             [
              0.6666666666666666,
              "#ed7953"
             ],
             [
              0.7777777777777778,
              "#fb9f3a"
             ],
             [
              0.8888888888888888,
              "#fdca26"
             ],
             [
              1,
              "#f0f921"
             ]
            ],
            "type": "contour"
           }
          ],
          "contourcarpet": [
           {
            "colorbar": {
             "outlinewidth": 0,
             "ticks": ""
            },
            "type": "contourcarpet"
           }
          ],
          "heatmap": [
           {
            "colorbar": {
             "outlinewidth": 0,
             "ticks": ""
            },
            "colorscale": [
             [
              0,
              "#0d0887"
             ],
             [
              0.1111111111111111,
              "#46039f"
             ],
             [
              0.2222222222222222,
              "#7201a8"
             ],
             [
              0.3333333333333333,
              "#9c179e"
             ],
             [
              0.4444444444444444,
              "#bd3786"
             ],
             [
              0.5555555555555556,
              "#d8576b"
             ],
             [
              0.6666666666666666,
              "#ed7953"
             ],
             [
              0.7777777777777778,
              "#fb9f3a"
             ],
             [
              0.8888888888888888,
              "#fdca26"
             ],
             [
              1,
              "#f0f921"
             ]
            ],
            "type": "heatmap"
           }
          ],
          "heatmapgl": [
           {
            "colorbar": {
             "outlinewidth": 0,
             "ticks": ""
            },
            "colorscale": [
             [
              0,
              "#0d0887"
             ],
             [
              0.1111111111111111,
              "#46039f"
             ],
             [
              0.2222222222222222,
              "#7201a8"
             ],
             [
              0.3333333333333333,
              "#9c179e"
             ],
             [
              0.4444444444444444,
              "#bd3786"
             ],
             [
              0.5555555555555556,
              "#d8576b"
             ],
             [
              0.6666666666666666,
              "#ed7953"
             ],
             [
              0.7777777777777778,
              "#fb9f3a"
             ],
             [
              0.8888888888888888,
              "#fdca26"
             ],
             [
              1,
              "#f0f921"
             ]
            ],
            "type": "heatmapgl"
           }
          ],
          "histogram": [
           {
            "marker": {
             "pattern": {
              "fillmode": "overlay",
              "size": 10,
              "solidity": 0.2
             }
            },
            "type": "histogram"
           }
          ],
          "histogram2d": [
           {
            "colorbar": {
             "outlinewidth": 0,
             "ticks": ""
            },
            "colorscale": [
             [
              0,
              "#0d0887"
             ],
             [
              0.1111111111111111,
              "#46039f"
             ],
             [
              0.2222222222222222,
              "#7201a8"
             ],
             [
              0.3333333333333333,
              "#9c179e"
             ],
             [
              0.4444444444444444,
              "#bd3786"
             ],
             [
              0.5555555555555556,
              "#d8576b"
             ],
             [
              0.6666666666666666,
              "#ed7953"
             ],
             [
              0.7777777777777778,
              "#fb9f3a"
             ],
             [
              0.8888888888888888,
              "#fdca26"
             ],
             [
              1,
              "#f0f921"
             ]
            ],
            "type": "histogram2d"
           }
          ],
          "histogram2dcontour": [
           {
            "colorbar": {
             "outlinewidth": 0,
             "ticks": ""
            },
            "colorscale": [
             [
              0,
              "#0d0887"
             ],
             [
              0.1111111111111111,
              "#46039f"
             ],
             [
              0.2222222222222222,
              "#7201a8"
             ],
             [
              0.3333333333333333,
              "#9c179e"
             ],
             [
              0.4444444444444444,
              "#bd3786"
             ],
             [
              0.5555555555555556,
              "#d8576b"
             ],
             [
              0.6666666666666666,
              "#ed7953"
             ],
             [
              0.7777777777777778,
              "#fb9f3a"
             ],
             [
              0.8888888888888888,
              "#fdca26"
             ],
             [
              1,
              "#f0f921"
             ]
            ],
            "type": "histogram2dcontour"
           }
          ],
          "mesh3d": [
           {
            "colorbar": {
             "outlinewidth": 0,
             "ticks": ""
            },
            "type": "mesh3d"
           }
          ],
          "parcoords": [
           {
            "line": {
             "colorbar": {
              "outlinewidth": 0,
              "ticks": ""
             }
            },
            "type": "parcoords"
           }
          ],
          "pie": [
           {
            "automargin": true,
            "type": "pie"
           }
          ],
          "scatter": [
           {
            "fillpattern": {
             "fillmode": "overlay",
             "size": 10,
             "solidity": 0.2
            },
            "type": "scatter"
           }
          ],
          "scatter3d": [
           {
            "line": {
             "colorbar": {
              "outlinewidth": 0,
              "ticks": ""
             }
            },
            "marker": {
             "colorbar": {
              "outlinewidth": 0,
              "ticks": ""
             }
            },
            "type": "scatter3d"
           }
          ],
          "scattercarpet": [
           {
            "marker": {
             "colorbar": {
              "outlinewidth": 0,
              "ticks": ""
             }
            },
            "type": "scattercarpet"
           }
          ],
          "scattergeo": [
           {
            "marker": {
             "colorbar": {
              "outlinewidth": 0,
              "ticks": ""
             }
            },
            "type": "scattergeo"
           }
          ],
          "scattergl": [
           {
            "marker": {
             "colorbar": {
              "outlinewidth": 0,
              "ticks": ""
             }
            },
            "type": "scattergl"
           }
          ],
          "scattermapbox": [
           {
            "marker": {
             "colorbar": {
              "outlinewidth": 0,
              "ticks": ""
             }
            },
            "type": "scattermapbox"
           }
          ],
          "scatterpolar": [
           {
            "marker": {
             "colorbar": {
              "outlinewidth": 0,
              "ticks": ""
             }
            },
            "type": "scatterpolar"
           }
          ],
          "scatterpolargl": [
           {
            "marker": {
             "colorbar": {
              "outlinewidth": 0,
              "ticks": ""
             }
            },
            "type": "scatterpolargl"
           }
          ],
          "scatterternary": [
           {
            "marker": {
             "colorbar": {
              "outlinewidth": 0,
              "ticks": ""
             }
            },
            "type": "scatterternary"
           }
          ],
          "surface": [
           {
            "colorbar": {
             "outlinewidth": 0,
             "ticks": ""
            },
            "colorscale": [
             [
              0,
              "#0d0887"
             ],
             [
              0.1111111111111111,
              "#46039f"
             ],
             [
              0.2222222222222222,
              "#7201a8"
             ],
             [
              0.3333333333333333,
              "#9c179e"
             ],
             [
              0.4444444444444444,
              "#bd3786"
             ],
             [
              0.5555555555555556,
              "#d8576b"
             ],
             [
              0.6666666666666666,
              "#ed7953"
             ],
             [
              0.7777777777777778,
              "#fb9f3a"
             ],
             [
              0.8888888888888888,
              "#fdca26"
             ],
             [
              1,
              "#f0f921"
             ]
            ],
            "type": "surface"
           }
          ],
          "table": [
           {
            "cells": {
             "fill": {
              "color": "#EBF0F8"
             },
             "line": {
              "color": "white"
             }
            },
            "header": {
             "fill": {
              "color": "#C8D4E3"
             },
             "line": {
              "color": "white"
             }
            },
            "type": "table"
           }
          ]
         },
         "layout": {
          "annotationdefaults": {
           "arrowcolor": "#2a3f5f",
           "arrowhead": 0,
           "arrowwidth": 1
          },
          "autotypenumbers": "strict",
          "coloraxis": {
           "colorbar": {
            "outlinewidth": 0,
            "ticks": ""
           }
          },
          "colorscale": {
           "diverging": [
            [
             0,
             "#8e0152"
            ],
            [
             0.1,
             "#c51b7d"
            ],
            [
             0.2,
             "#de77ae"
            ],
            [
             0.3,
             "#f1b6da"
            ],
            [
             0.4,
             "#fde0ef"
            ],
            [
             0.5,
             "#f7f7f7"
            ],
            [
             0.6,
             "#e6f5d0"
            ],
            [
             0.7,
             "#b8e186"
            ],
            [
             0.8,
             "#7fbc41"
            ],
            [
             0.9,
             "#4d9221"
            ],
            [
             1,
             "#276419"
            ]
           ],
           "sequential": [
            [
             0,
             "#0d0887"
            ],
            [
             0.1111111111111111,
             "#46039f"
            ],
            [
             0.2222222222222222,
             "#7201a8"
            ],
            [
             0.3333333333333333,
             "#9c179e"
            ],
            [
             0.4444444444444444,
             "#bd3786"
            ],
            [
             0.5555555555555556,
             "#d8576b"
            ],
            [
             0.6666666666666666,
             "#ed7953"
            ],
            [
             0.7777777777777778,
             "#fb9f3a"
            ],
            [
             0.8888888888888888,
             "#fdca26"
            ],
            [
             1,
             "#f0f921"
            ]
           ],
           "sequentialminus": [
            [
             0,
             "#0d0887"
            ],
            [
             0.1111111111111111,
             "#46039f"
            ],
            [
             0.2222222222222222,
             "#7201a8"
            ],
            [
             0.3333333333333333,
             "#9c179e"
            ],
            [
             0.4444444444444444,
             "#bd3786"
            ],
            [
             0.5555555555555556,
             "#d8576b"
            ],
            [
             0.6666666666666666,
             "#ed7953"
            ],
            [
             0.7777777777777778,
             "#fb9f3a"
            ],
            [
             0.8888888888888888,
             "#fdca26"
            ],
            [
             1,
             "#f0f921"
            ]
           ]
          },
          "colorway": [
           "#636efa",
           "#EF553B",
           "#00cc96",
           "#ab63fa",
           "#FFA15A",
           "#19d3f3",
           "#FF6692",
           "#B6E880",
           "#FF97FF",
           "#FECB52"
          ],
          "font": {
           "color": "#2a3f5f"
          },
          "geo": {
           "bgcolor": "white",
           "lakecolor": "white",
           "landcolor": "#E5ECF6",
           "showlakes": true,
           "showland": true,
           "subunitcolor": "white"
          },
          "hoverlabel": {
           "align": "left"
          },
          "hovermode": "closest",
          "mapbox": {
           "style": "light"
          },
          "paper_bgcolor": "white",
          "plot_bgcolor": "#E5ECF6",
          "polar": {
           "angularaxis": {
            "gridcolor": "white",
            "linecolor": "white",
            "ticks": ""
           },
           "bgcolor": "#E5ECF6",
           "radialaxis": {
            "gridcolor": "white",
            "linecolor": "white",
            "ticks": ""
           }
          },
          "scene": {
           "xaxis": {
            "backgroundcolor": "#E5ECF6",
            "gridcolor": "white",
            "gridwidth": 2,
            "linecolor": "white",
            "showbackground": true,
            "ticks": "",
            "zerolinecolor": "white"
           },
           "yaxis": {
            "backgroundcolor": "#E5ECF6",
            "gridcolor": "white",
            "gridwidth": 2,
            "linecolor": "white",
            "showbackground": true,
            "ticks": "",
            "zerolinecolor": "white"
           },
           "zaxis": {
            "backgroundcolor": "#E5ECF6",
            "gridcolor": "white",
            "gridwidth": 2,
            "linecolor": "white",
            "showbackground": true,
            "ticks": "",
            "zerolinecolor": "white"
           }
          },
          "shapedefaults": {
           "line": {
            "color": "#2a3f5f"
           }
          },
          "ternary": {
           "aaxis": {
            "gridcolor": "white",
            "linecolor": "white",
            "ticks": ""
           },
           "baxis": {
            "gridcolor": "white",
            "linecolor": "white",
            "ticks": ""
           },
           "bgcolor": "#E5ECF6",
           "caxis": {
            "gridcolor": "white",
            "linecolor": "white",
            "ticks": ""
           }
          },
          "title": {
           "x": 0.05
          },
          "xaxis": {
           "automargin": true,
           "gridcolor": "white",
           "linecolor": "white",
           "ticks": "",
           "title": {
            "standoff": 15
           },
           "zerolinecolor": "white",
           "zerolinewidth": 2
          },
          "yaxis": {
           "automargin": true,
           "gridcolor": "white",
           "linecolor": "white",
           "ticks": "",
           "title": {
            "standoff": 15
           },
           "zerolinecolor": "white",
           "zerolinewidth": 2
          }
         }
        },
        "title": {
         "text": "Gradient XBoost Feature Importance"
        },
        "xaxis": {
         "anchor": "y",
         "domain": [
          0,
          1
         ],
         "title": {
          "text": "features"
         }
        },
        "yaxis": {
         "anchor": "x",
         "domain": [
          0,
          1
         ],
         "title": {
          "text": "importance"
         }
        }
       }
      },
      "text/html": [
       "<div>                            <div id=\"15883447-2135-41d6-b69f-4802e080ec4c\" class=\"plotly-graph-div\" style=\"height:525px; width:100%;\"></div>            <script type=\"text/javascript\">                require([\"plotly\"], function(Plotly) {                    window.PLOTLYENV=window.PLOTLYENV || {};                                    if (document.getElementById(\"15883447-2135-41d6-b69f-4802e080ec4c\")) {                    Plotly.newPlot(                        \"15883447-2135-41d6-b69f-4802e080ec4c\",                        [{\"alignmentgroup\":\"True\",\"hovertemplate\":\"features=%{x}<br>importance=%{text}<extra></extra>\",\"legendgroup\":\"\",\"marker\":{\"color\":\"rgb(95, 70, 144)\",\"pattern\":{\"shape\":\"\"}},\"name\":\"\",\"offsetgroup\":\"\",\"orientation\":\"v\",\"showlegend\":false,\"text\":[5.0,10.0,4.0,12.0,34.0,34.0],\"textposition\":\"auto\",\"x\":[\"ESTADO_cat\",\"MARCA_cat\",\"MES\",\"HORA_NUM\",\"LATITUD\",\"LONGITUD\"],\"xaxis\":\"x\",\"y\":[5.0,10.0,4.0,12.0,34.0,34.0],\"yaxis\":\"y\",\"type\":\"bar\"}],                        {\"template\":{\"data\":{\"histogram2dcontour\":[{\"type\":\"histogram2dcontour\",\"colorbar\":{\"outlinewidth\":0,\"ticks\":\"\"},\"colorscale\":[[0.0,\"#0d0887\"],[0.1111111111111111,\"#46039f\"],[0.2222222222222222,\"#7201a8\"],[0.3333333333333333,\"#9c179e\"],[0.4444444444444444,\"#bd3786\"],[0.5555555555555556,\"#d8576b\"],[0.6666666666666666,\"#ed7953\"],[0.7777777777777778,\"#fb9f3a\"],[0.8888888888888888,\"#fdca26\"],[1.0,\"#f0f921\"]]}],\"choropleth\":[{\"type\":\"choropleth\",\"colorbar\":{\"outlinewidth\":0,\"ticks\":\"\"}}],\"histogram2d\":[{\"type\":\"histogram2d\",\"colorbar\":{\"outlinewidth\":0,\"ticks\":\"\"},\"colorscale\":[[0.0,\"#0d0887\"],[0.1111111111111111,\"#46039f\"],[0.2222222222222222,\"#7201a8\"],[0.3333333333333333,\"#9c179e\"],[0.4444444444444444,\"#bd3786\"],[0.5555555555555556,\"#d8576b\"],[0.6666666666666666,\"#ed7953\"],[0.7777777777777778,\"#fb9f3a\"],[0.8888888888888888,\"#fdca26\"],[1.0,\"#f0f921\"]]}],\"heatmap\":[{\"type\":\"heatmap\",\"colorbar\":{\"outlinewidth\":0,\"ticks\":\"\"},\"colorscale\":[[0.0,\"#0d0887\"],[0.1111111111111111,\"#46039f\"],[0.2222222222222222,\"#7201a8\"],[0.3333333333333333,\"#9c179e\"],[0.4444444444444444,\"#bd3786\"],[0.5555555555555556,\"#d8576b\"],[0.6666666666666666,\"#ed7953\"],[0.7777777777777778,\"#fb9f3a\"],[0.8888888888888888,\"#fdca26\"],[1.0,\"#f0f921\"]]}],\"heatmapgl\":[{\"type\":\"heatmapgl\",\"colorbar\":{\"outlinewidth\":0,\"ticks\":\"\"},\"colorscale\":[[0.0,\"#0d0887\"],[0.1111111111111111,\"#46039f\"],[0.2222222222222222,\"#7201a8\"],[0.3333333333333333,\"#9c179e\"],[0.4444444444444444,\"#bd3786\"],[0.5555555555555556,\"#d8576b\"],[0.6666666666666666,\"#ed7953\"],[0.7777777777777778,\"#fb9f3a\"],[0.8888888888888888,\"#fdca26\"],[1.0,\"#f0f921\"]]}],\"contourcarpet\":[{\"type\":\"contourcarpet\",\"colorbar\":{\"outlinewidth\":0,\"ticks\":\"\"}}],\"contour\":[{\"type\":\"contour\",\"colorbar\":{\"outlinewidth\":0,\"ticks\":\"\"},\"colorscale\":[[0.0,\"#0d0887\"],[0.1111111111111111,\"#46039f\"],[0.2222222222222222,\"#7201a8\"],[0.3333333333333333,\"#9c179e\"],[0.4444444444444444,\"#bd3786\"],[0.5555555555555556,\"#d8576b\"],[0.6666666666666666,\"#ed7953\"],[0.7777777777777778,\"#fb9f3a\"],[0.8888888888888888,\"#fdca26\"],[1.0,\"#f0f921\"]]}],\"surface\":[{\"type\":\"surface\",\"colorbar\":{\"outlinewidth\":0,\"ticks\":\"\"},\"colorscale\":[[0.0,\"#0d0887\"],[0.1111111111111111,\"#46039f\"],[0.2222222222222222,\"#7201a8\"],[0.3333333333333333,\"#9c179e\"],[0.4444444444444444,\"#bd3786\"],[0.5555555555555556,\"#d8576b\"],[0.6666666666666666,\"#ed7953\"],[0.7777777777777778,\"#fb9f3a\"],[0.8888888888888888,\"#fdca26\"],[1.0,\"#f0f921\"]]}],\"mesh3d\":[{\"type\":\"mesh3d\",\"colorbar\":{\"outlinewidth\":0,\"ticks\":\"\"}}],\"scatter\":[{\"fillpattern\":{\"fillmode\":\"overlay\",\"size\":10,\"solidity\":0.2},\"type\":\"scatter\"}],\"parcoords\":[{\"type\":\"parcoords\",\"line\":{\"colorbar\":{\"outlinewidth\":0,\"ticks\":\"\"}}}],\"scatterpolargl\":[{\"type\":\"scatterpolargl\",\"marker\":{\"colorbar\":{\"outlinewidth\":0,\"ticks\":\"\"}}}],\"bar\":[{\"error_x\":{\"color\":\"#2a3f5f\"},\"error_y\":{\"color\":\"#2a3f5f\"},\"marker\":{\"line\":{\"color\":\"#E5ECF6\",\"width\":0.5},\"pattern\":{\"fillmode\":\"overlay\",\"size\":10,\"solidity\":0.2}},\"type\":\"bar\"}],\"scattergeo\":[{\"type\":\"scattergeo\",\"marker\":{\"colorbar\":{\"outlinewidth\":0,\"ticks\":\"\"}}}],\"scatterpolar\":[{\"type\":\"scatterpolar\",\"marker\":{\"colorbar\":{\"outlinewidth\":0,\"ticks\":\"\"}}}],\"histogram\":[{\"marker\":{\"pattern\":{\"fillmode\":\"overlay\",\"size\":10,\"solidity\":0.2}},\"type\":\"histogram\"}],\"scattergl\":[{\"type\":\"scattergl\",\"marker\":{\"colorbar\":{\"outlinewidth\":0,\"ticks\":\"\"}}}],\"scatter3d\":[{\"type\":\"scatter3d\",\"line\":{\"colorbar\":{\"outlinewidth\":0,\"ticks\":\"\"}},\"marker\":{\"colorbar\":{\"outlinewidth\":0,\"ticks\":\"\"}}}],\"scattermapbox\":[{\"type\":\"scattermapbox\",\"marker\":{\"colorbar\":{\"outlinewidth\":0,\"ticks\":\"\"}}}],\"scatterternary\":[{\"type\":\"scatterternary\",\"marker\":{\"colorbar\":{\"outlinewidth\":0,\"ticks\":\"\"}}}],\"scattercarpet\":[{\"type\":\"scattercarpet\",\"marker\":{\"colorbar\":{\"outlinewidth\":0,\"ticks\":\"\"}}}],\"carpet\":[{\"aaxis\":{\"endlinecolor\":\"#2a3f5f\",\"gridcolor\":\"white\",\"linecolor\":\"white\",\"minorgridcolor\":\"white\",\"startlinecolor\":\"#2a3f5f\"},\"baxis\":{\"endlinecolor\":\"#2a3f5f\",\"gridcolor\":\"white\",\"linecolor\":\"white\",\"minorgridcolor\":\"white\",\"startlinecolor\":\"#2a3f5f\"},\"type\":\"carpet\"}],\"table\":[{\"cells\":{\"fill\":{\"color\":\"#EBF0F8\"},\"line\":{\"color\":\"white\"}},\"header\":{\"fill\":{\"color\":\"#C8D4E3\"},\"line\":{\"color\":\"white\"}},\"type\":\"table\"}],\"barpolar\":[{\"marker\":{\"line\":{\"color\":\"#E5ECF6\",\"width\":0.5},\"pattern\":{\"fillmode\":\"overlay\",\"size\":10,\"solidity\":0.2}},\"type\":\"barpolar\"}],\"pie\":[{\"automargin\":true,\"type\":\"pie\"}]},\"layout\":{\"autotypenumbers\":\"strict\",\"colorway\":[\"#636efa\",\"#EF553B\",\"#00cc96\",\"#ab63fa\",\"#FFA15A\",\"#19d3f3\",\"#FF6692\",\"#B6E880\",\"#FF97FF\",\"#FECB52\"],\"font\":{\"color\":\"#2a3f5f\"},\"hovermode\":\"closest\",\"hoverlabel\":{\"align\":\"left\"},\"paper_bgcolor\":\"white\",\"plot_bgcolor\":\"#E5ECF6\",\"polar\":{\"bgcolor\":\"#E5ECF6\",\"angularaxis\":{\"gridcolor\":\"white\",\"linecolor\":\"white\",\"ticks\":\"\"},\"radialaxis\":{\"gridcolor\":\"white\",\"linecolor\":\"white\",\"ticks\":\"\"}},\"ternary\":{\"bgcolor\":\"#E5ECF6\",\"aaxis\":{\"gridcolor\":\"white\",\"linecolor\":\"white\",\"ticks\":\"\"},\"baxis\":{\"gridcolor\":\"white\",\"linecolor\":\"white\",\"ticks\":\"\"},\"caxis\":{\"gridcolor\":\"white\",\"linecolor\":\"white\",\"ticks\":\"\"}},\"coloraxis\":{\"colorbar\":{\"outlinewidth\":0,\"ticks\":\"\"}},\"colorscale\":{\"sequential\":[[0.0,\"#0d0887\"],[0.1111111111111111,\"#46039f\"],[0.2222222222222222,\"#7201a8\"],[0.3333333333333333,\"#9c179e\"],[0.4444444444444444,\"#bd3786\"],[0.5555555555555556,\"#d8576b\"],[0.6666666666666666,\"#ed7953\"],[0.7777777777777778,\"#fb9f3a\"],[0.8888888888888888,\"#fdca26\"],[1.0,\"#f0f921\"]],\"sequentialminus\":[[0.0,\"#0d0887\"],[0.1111111111111111,\"#46039f\"],[0.2222222222222222,\"#7201a8\"],[0.3333333333333333,\"#9c179e\"],[0.4444444444444444,\"#bd3786\"],[0.5555555555555556,\"#d8576b\"],[0.6666666666666666,\"#ed7953\"],[0.7777777777777778,\"#fb9f3a\"],[0.8888888888888888,\"#fdca26\"],[1.0,\"#f0f921\"]],\"diverging\":[[0,\"#8e0152\"],[0.1,\"#c51b7d\"],[0.2,\"#de77ae\"],[0.3,\"#f1b6da\"],[0.4,\"#fde0ef\"],[0.5,\"#f7f7f7\"],[0.6,\"#e6f5d0\"],[0.7,\"#b8e186\"],[0.8,\"#7fbc41\"],[0.9,\"#4d9221\"],[1,\"#276419\"]]},\"xaxis\":{\"gridcolor\":\"white\",\"linecolor\":\"white\",\"ticks\":\"\",\"title\":{\"standoff\":15},\"zerolinecolor\":\"white\",\"automargin\":true,\"zerolinewidth\":2},\"yaxis\":{\"gridcolor\":\"white\",\"linecolor\":\"white\",\"ticks\":\"\",\"title\":{\"standoff\":15},\"zerolinecolor\":\"white\",\"automargin\":true,\"zerolinewidth\":2},\"scene\":{\"xaxis\":{\"backgroundcolor\":\"#E5ECF6\",\"gridcolor\":\"white\",\"linecolor\":\"white\",\"showbackground\":true,\"ticks\":\"\",\"zerolinecolor\":\"white\",\"gridwidth\":2},\"yaxis\":{\"backgroundcolor\":\"#E5ECF6\",\"gridcolor\":\"white\",\"linecolor\":\"white\",\"showbackground\":true,\"ticks\":\"\",\"zerolinecolor\":\"white\",\"gridwidth\":2},\"zaxis\":{\"backgroundcolor\":\"#E5ECF6\",\"gridcolor\":\"white\",\"linecolor\":\"white\",\"showbackground\":true,\"ticks\":\"\",\"zerolinecolor\":\"white\",\"gridwidth\":2}},\"shapedefaults\":{\"line\":{\"color\":\"#2a3f5f\"}},\"annotationdefaults\":{\"arrowcolor\":\"#2a3f5f\",\"arrowhead\":0,\"arrowwidth\":1},\"geo\":{\"bgcolor\":\"white\",\"landcolor\":\"#E5ECF6\",\"subunitcolor\":\"white\",\"showland\":true,\"showlakes\":true,\"lakecolor\":\"white\"},\"title\":{\"x\":0.05},\"mapbox\":{\"style\":\"light\"}}},\"xaxis\":{\"anchor\":\"y\",\"domain\":[0.0,1.0],\"title\":{\"text\":\"features\"}},\"yaxis\":{\"anchor\":\"x\",\"domain\":[0.0,1.0],\"title\":{\"text\":\"importance\"}},\"legend\":{\"tracegroupgap\":0},\"title\":{\"text\":\"Gradient XBoost Feature Importance\"},\"barmode\":\"relative\"},                        {\"responsive\": true}                    ).then(function(){\n",
       "                            \n",
       "var gd = document.getElementById('15883447-2135-41d6-b69f-4802e080ec4c');\n",
       "var x = new MutationObserver(function (mutations, observer) {{\n",
       "        var display = window.getComputedStyle(gd).display;\n",
       "        if (!display || display === 'none') {{\n",
       "            console.log([gd, 'removed!']);\n",
       "            Plotly.purge(gd);\n",
       "            observer.disconnect();\n",
       "        }}\n",
       "}});\n",
       "\n",
       "// Listen for the removal of the full notebook cells\n",
       "var notebookContainer = gd.closest('#notebook-container');\n",
       "if (notebookContainer) {{\n",
       "    x.observe(notebookContainer, {childList: true});\n",
       "}}\n",
       "\n",
       "// Listen for the clearing of the current output cell\n",
       "var outputEl = gd.closest('.output');\n",
       "if (outputEl) {{\n",
       "    x.observe(outputEl, {childList: true});\n",
       "}}\n",
       "\n",
       "                        })                };                });            </script>        </div>"
      ]
     },
     "metadata": {},
     "output_type": "display_data"
    }
   ],
   "source": [
    "feature_importance = pd.DataFrame(index = xtrain_oa.columns.tolist()).reset_index()\n",
    "feature_importance.columns = ['features']\n",
    "feature_importance['importance'] = np.round(gradient_boosting_cls_oa.feature_importances_ * 100, 1)\n",
    "feature_importance['importance'] = np.round(feature_importance['importance'], 0)\n",
    "\n",
    "fig = px.bar(feature_importance, x = \"features\", y = \"importance\",\n",
    "             title=\"Gradient XBoost Feature Importance\",\n",
    "             color_discrete_sequence=px.colors.qualitative.Prism, text = 'importance')\n",
    "fig.show()"
   ]
  },
  {
   "cell_type": "code",
   "execution_count": 55,
   "id": "11e37810",
   "metadata": {
    "ExecuteTime": {
     "end_time": "2022-11-18T05:16:59.480329Z",
     "start_time": "2022-11-18T05:16:58.690503Z"
    }
   },
   "outputs": [],
   "source": [
    "clean_prediction_notarget['MES'] = clean_prediction_notarget.FECHA.dt.month\n",
    "\n",
    "clean_prediction_notarget['ESTADO_cat'] = clean_prediction_notarget['ESTADO'].replace(estados_dict)\n",
    "clean_prediction_notarget['MARCA_cat'] = clean_prediction_notarget['MARCA'].replace(marcas_dict)\n",
    "\n",
    "clean_pred_target = clean_prediction['INFRACCION'].replace({1: 0, 4: 1, 5: 2})\n",
    "clean_pred_target = clean_pred_target.tolist()\n",
    "\n",
    "clean_prediction_notarget = clean_prediction_notarget[x_oa.columns]"
   ]
  },
  {
   "cell_type": "code",
   "execution_count": 56,
   "id": "1312932a",
   "metadata": {
    "ExecuteTime": {
     "end_time": "2022-11-18T05:17:39.319408Z",
     "start_time": "2022-11-18T05:17:01.005577Z"
    }
   },
   "outputs": [],
   "source": [
    "predictions_grad_2022_oa = gradient_boosting_cls_oa.predict(clean_prediction_notarget)"
   ]
  },
  {
   "cell_type": "code",
   "execution_count": 57,
   "id": "f505f1cf",
   "metadata": {
    "ExecuteTime": {
     "end_time": "2022-11-18T05:17:42.184958Z",
     "start_time": "2022-11-18T05:17:41.924504Z"
    }
   },
   "outputs": [
    {
     "data": {
      "application/vnd.plotly.v1+json": {
       "config": {
        "plotlyServerURL": "https://plot.ly"
       },
       "data": [
        {
         "colorscale": [
          [
           0,
           "rgb(252,251,253)"
          ],
          [
           0.125,
           "rgb(239,237,245)"
          ],
          [
           0.25,
           "rgb(218,218,235)"
          ],
          [
           0.375,
           "rgb(188,189,220)"
          ],
          [
           0.5,
           "rgb(158,154,200)"
          ],
          [
           0.625,
           "rgb(128,125,186)"
          ],
          [
           0.75,
           "rgb(106,81,163)"
          ],
          [
           0.875,
           "rgb(84,39,143)"
          ],
          [
           1,
           "rgb(63,0,125)"
          ]
         ],
         "reversescale": false,
         "showscale": false,
         "type": "heatmap",
         "x": [
          "Tipo 1",
          "Tipo 4",
          "Tipo 5"
         ],
         "y": [
          "Tipo 1",
          "Tipo 4",
          "Tipo 5"
         ],
         "z": [
          [
           0.92,
           0.03,
           0.05
          ],
          [
           0.1,
           0.77,
           0.13
          ],
          [
           0.13,
           0.24,
           0.62
          ]
         ]
        }
       ],
       "layout": {
        "annotations": [
         {
          "font": {
           "color": "#FFFFFF"
          },
          "showarrow": false,
          "text": "0.92",
          "x": "Tipo 1",
          "xref": "x",
          "y": "Tipo 1",
          "yref": "y"
         },
         {
          "font": {
           "color": "#000000"
          },
          "showarrow": false,
          "text": "0.03",
          "x": "Tipo 4",
          "xref": "x",
          "y": "Tipo 1",
          "yref": "y"
         },
         {
          "font": {
           "color": "#000000"
          },
          "showarrow": false,
          "text": "0.05",
          "x": "Tipo 5",
          "xref": "x",
          "y": "Tipo 1",
          "yref": "y"
         },
         {
          "font": {
           "color": "#000000"
          },
          "showarrow": false,
          "text": "0.1",
          "x": "Tipo 1",
          "xref": "x",
          "y": "Tipo 4",
          "yref": "y"
         },
         {
          "font": {
           "color": "#FFFFFF"
          },
          "showarrow": false,
          "text": "0.77",
          "x": "Tipo 4",
          "xref": "x",
          "y": "Tipo 4",
          "yref": "y"
         },
         {
          "font": {
           "color": "#000000"
          },
          "showarrow": false,
          "text": "0.13",
          "x": "Tipo 5",
          "xref": "x",
          "y": "Tipo 4",
          "yref": "y"
         },
         {
          "font": {
           "color": "#000000"
          },
          "showarrow": false,
          "text": "0.13",
          "x": "Tipo 1",
          "xref": "x",
          "y": "Tipo 5",
          "yref": "y"
         },
         {
          "font": {
           "color": "#000000"
          },
          "showarrow": false,
          "text": "0.24",
          "x": "Tipo 4",
          "xref": "x",
          "y": "Tipo 5",
          "yref": "y"
         },
         {
          "font": {
           "color": "#FFFFFF"
          },
          "showarrow": false,
          "text": "0.62",
          "x": "Tipo 5",
          "xref": "x",
          "y": "Tipo 5",
          "yref": "y"
         },
         {
          "font": {
           "color": "black",
           "size": 14
          },
          "showarrow": false,
          "text": "Predicted value",
          "x": 0.5,
          "xref": "paper",
          "y": -0.15,
          "yref": "paper"
         },
         {
          "font": {
           "color": "black",
           "size": 14
          },
          "showarrow": false,
          "text": "Real value",
          "textangle": -90,
          "x": -0.35,
          "xref": "paper",
          "y": 0.5,
          "yref": "paper"
         }
        ],
        "margin": {
         "l": 200,
         "t": 50
        },
        "template": {
         "data": {
          "bar": [
           {
            "error_x": {
             "color": "#2a3f5f"
            },
            "error_y": {
             "color": "#2a3f5f"
            },
            "marker": {
             "line": {
              "color": "#E5ECF6",
              "width": 0.5
             },
             "pattern": {
              "fillmode": "overlay",
              "size": 10,
              "solidity": 0.2
             }
            },
            "type": "bar"
           }
          ],
          "barpolar": [
           {
            "marker": {
             "line": {
              "color": "#E5ECF6",
              "width": 0.5
             },
             "pattern": {
              "fillmode": "overlay",
              "size": 10,
              "solidity": 0.2
             }
            },
            "type": "barpolar"
           }
          ],
          "carpet": [
           {
            "aaxis": {
             "endlinecolor": "#2a3f5f",
             "gridcolor": "white",
             "linecolor": "white",
             "minorgridcolor": "white",
             "startlinecolor": "#2a3f5f"
            },
            "baxis": {
             "endlinecolor": "#2a3f5f",
             "gridcolor": "white",
             "linecolor": "white",
             "minorgridcolor": "white",
             "startlinecolor": "#2a3f5f"
            },
            "type": "carpet"
           }
          ],
          "choropleth": [
           {
            "colorbar": {
             "outlinewidth": 0,
             "ticks": ""
            },
            "type": "choropleth"
           }
          ],
          "contour": [
           {
            "colorbar": {
             "outlinewidth": 0,
             "ticks": ""
            },
            "colorscale": [
             [
              0,
              "#0d0887"
             ],
             [
              0.1111111111111111,
              "#46039f"
             ],
             [
              0.2222222222222222,
              "#7201a8"
             ],
             [
              0.3333333333333333,
              "#9c179e"
             ],
             [
              0.4444444444444444,
              "#bd3786"
             ],
             [
              0.5555555555555556,
              "#d8576b"
             ],
             [
              0.6666666666666666,
              "#ed7953"
             ],
             [
              0.7777777777777778,
              "#fb9f3a"
             ],
             [
              0.8888888888888888,
              "#fdca26"
             ],
             [
              1,
              "#f0f921"
             ]
            ],
            "type": "contour"
           }
          ],
          "contourcarpet": [
           {
            "colorbar": {
             "outlinewidth": 0,
             "ticks": ""
            },
            "type": "contourcarpet"
           }
          ],
          "heatmap": [
           {
            "colorbar": {
             "outlinewidth": 0,
             "ticks": ""
            },
            "colorscale": [
             [
              0,
              "#0d0887"
             ],
             [
              0.1111111111111111,
              "#46039f"
             ],
             [
              0.2222222222222222,
              "#7201a8"
             ],
             [
              0.3333333333333333,
              "#9c179e"
             ],
             [
              0.4444444444444444,
              "#bd3786"
             ],
             [
              0.5555555555555556,
              "#d8576b"
             ],
             [
              0.6666666666666666,
              "#ed7953"
             ],
             [
              0.7777777777777778,
              "#fb9f3a"
             ],
             [
              0.8888888888888888,
              "#fdca26"
             ],
             [
              1,
              "#f0f921"
             ]
            ],
            "type": "heatmap"
           }
          ],
          "heatmapgl": [
           {
            "colorbar": {
             "outlinewidth": 0,
             "ticks": ""
            },
            "colorscale": [
             [
              0,
              "#0d0887"
             ],
             [
              0.1111111111111111,
              "#46039f"
             ],
             [
              0.2222222222222222,
              "#7201a8"
             ],
             [
              0.3333333333333333,
              "#9c179e"
             ],
             [
              0.4444444444444444,
              "#bd3786"
             ],
             [
              0.5555555555555556,
              "#d8576b"
             ],
             [
              0.6666666666666666,
              "#ed7953"
             ],
             [
              0.7777777777777778,
              "#fb9f3a"
             ],
             [
              0.8888888888888888,
              "#fdca26"
             ],
             [
              1,
              "#f0f921"
             ]
            ],
            "type": "heatmapgl"
           }
          ],
          "histogram": [
           {
            "marker": {
             "pattern": {
              "fillmode": "overlay",
              "size": 10,
              "solidity": 0.2
             }
            },
            "type": "histogram"
           }
          ],
          "histogram2d": [
           {
            "colorbar": {
             "outlinewidth": 0,
             "ticks": ""
            },
            "colorscale": [
             [
              0,
              "#0d0887"
             ],
             [
              0.1111111111111111,
              "#46039f"
             ],
             [
              0.2222222222222222,
              "#7201a8"
             ],
             [
              0.3333333333333333,
              "#9c179e"
             ],
             [
              0.4444444444444444,
              "#bd3786"
             ],
             [
              0.5555555555555556,
              "#d8576b"
             ],
             [
              0.6666666666666666,
              "#ed7953"
             ],
             [
              0.7777777777777778,
              "#fb9f3a"
             ],
             [
              0.8888888888888888,
              "#fdca26"
             ],
             [
              1,
              "#f0f921"
             ]
            ],
            "type": "histogram2d"
           }
          ],
          "histogram2dcontour": [
           {
            "colorbar": {
             "outlinewidth": 0,
             "ticks": ""
            },
            "colorscale": [
             [
              0,
              "#0d0887"
             ],
             [
              0.1111111111111111,
              "#46039f"
             ],
             [
              0.2222222222222222,
              "#7201a8"
             ],
             [
              0.3333333333333333,
              "#9c179e"
             ],
             [
              0.4444444444444444,
              "#bd3786"
             ],
             [
              0.5555555555555556,
              "#d8576b"
             ],
             [
              0.6666666666666666,
              "#ed7953"
             ],
             [
              0.7777777777777778,
              "#fb9f3a"
             ],
             [
              0.8888888888888888,
              "#fdca26"
             ],
             [
              1,
              "#f0f921"
             ]
            ],
            "type": "histogram2dcontour"
           }
          ],
          "mesh3d": [
           {
            "colorbar": {
             "outlinewidth": 0,
             "ticks": ""
            },
            "type": "mesh3d"
           }
          ],
          "parcoords": [
           {
            "line": {
             "colorbar": {
              "outlinewidth": 0,
              "ticks": ""
             }
            },
            "type": "parcoords"
           }
          ],
          "pie": [
           {
            "automargin": true,
            "type": "pie"
           }
          ],
          "scatter": [
           {
            "fillpattern": {
             "fillmode": "overlay",
             "size": 10,
             "solidity": 0.2
            },
            "type": "scatter"
           }
          ],
          "scatter3d": [
           {
            "line": {
             "colorbar": {
              "outlinewidth": 0,
              "ticks": ""
             }
            },
            "marker": {
             "colorbar": {
              "outlinewidth": 0,
              "ticks": ""
             }
            },
            "type": "scatter3d"
           }
          ],
          "scattercarpet": [
           {
            "marker": {
             "colorbar": {
              "outlinewidth": 0,
              "ticks": ""
             }
            },
            "type": "scattercarpet"
           }
          ],
          "scattergeo": [
           {
            "marker": {
             "colorbar": {
              "outlinewidth": 0,
              "ticks": ""
             }
            },
            "type": "scattergeo"
           }
          ],
          "scattergl": [
           {
            "marker": {
             "colorbar": {
              "outlinewidth": 0,
              "ticks": ""
             }
            },
            "type": "scattergl"
           }
          ],
          "scattermapbox": [
           {
            "marker": {
             "colorbar": {
              "outlinewidth": 0,
              "ticks": ""
             }
            },
            "type": "scattermapbox"
           }
          ],
          "scatterpolar": [
           {
            "marker": {
             "colorbar": {
              "outlinewidth": 0,
              "ticks": ""
             }
            },
            "type": "scatterpolar"
           }
          ],
          "scatterpolargl": [
           {
            "marker": {
             "colorbar": {
              "outlinewidth": 0,
              "ticks": ""
             }
            },
            "type": "scatterpolargl"
           }
          ],
          "scatterternary": [
           {
            "marker": {
             "colorbar": {
              "outlinewidth": 0,
              "ticks": ""
             }
            },
            "type": "scatterternary"
           }
          ],
          "surface": [
           {
            "colorbar": {
             "outlinewidth": 0,
             "ticks": ""
            },
            "colorscale": [
             [
              0,
              "#0d0887"
             ],
             [
              0.1111111111111111,
              "#46039f"
             ],
             [
              0.2222222222222222,
              "#7201a8"
             ],
             [
              0.3333333333333333,
              "#9c179e"
             ],
             [
              0.4444444444444444,
              "#bd3786"
             ],
             [
              0.5555555555555556,
              "#d8576b"
             ],
             [
              0.6666666666666666,
              "#ed7953"
             ],
             [
              0.7777777777777778,
              "#fb9f3a"
             ],
             [
              0.8888888888888888,
              "#fdca26"
             ],
             [
              1,
              "#f0f921"
             ]
            ],
            "type": "surface"
           }
          ],
          "table": [
           {
            "cells": {
             "fill": {
              "color": "#EBF0F8"
             },
             "line": {
              "color": "white"
             }
            },
            "header": {
             "fill": {
              "color": "#C8D4E3"
             },
             "line": {
              "color": "white"
             }
            },
            "type": "table"
           }
          ]
         },
         "layout": {
          "annotationdefaults": {
           "arrowcolor": "#2a3f5f",
           "arrowhead": 0,
           "arrowwidth": 1
          },
          "autotypenumbers": "strict",
          "coloraxis": {
           "colorbar": {
            "outlinewidth": 0,
            "ticks": ""
           }
          },
          "colorscale": {
           "diverging": [
            [
             0,
             "#8e0152"
            ],
            [
             0.1,
             "#c51b7d"
            ],
            [
             0.2,
             "#de77ae"
            ],
            [
             0.3,
             "#f1b6da"
            ],
            [
             0.4,
             "#fde0ef"
            ],
            [
             0.5,
             "#f7f7f7"
            ],
            [
             0.6,
             "#e6f5d0"
            ],
            [
             0.7,
             "#b8e186"
            ],
            [
             0.8,
             "#7fbc41"
            ],
            [
             0.9,
             "#4d9221"
            ],
            [
             1,
             "#276419"
            ]
           ],
           "sequential": [
            [
             0,
             "#0d0887"
            ],
            [
             0.1111111111111111,
             "#46039f"
            ],
            [
             0.2222222222222222,
             "#7201a8"
            ],
            [
             0.3333333333333333,
             "#9c179e"
            ],
            [
             0.4444444444444444,
             "#bd3786"
            ],
            [
             0.5555555555555556,
             "#d8576b"
            ],
            [
             0.6666666666666666,
             "#ed7953"
            ],
            [
             0.7777777777777778,
             "#fb9f3a"
            ],
            [
             0.8888888888888888,
             "#fdca26"
            ],
            [
             1,
             "#f0f921"
            ]
           ],
           "sequentialminus": [
            [
             0,
             "#0d0887"
            ],
            [
             0.1111111111111111,
             "#46039f"
            ],
            [
             0.2222222222222222,
             "#7201a8"
            ],
            [
             0.3333333333333333,
             "#9c179e"
            ],
            [
             0.4444444444444444,
             "#bd3786"
            ],
            [
             0.5555555555555556,
             "#d8576b"
            ],
            [
             0.6666666666666666,
             "#ed7953"
            ],
            [
             0.7777777777777778,
             "#fb9f3a"
            ],
            [
             0.8888888888888888,
             "#fdca26"
            ],
            [
             1,
             "#f0f921"
            ]
           ]
          },
          "colorway": [
           "#636efa",
           "#EF553B",
           "#00cc96",
           "#ab63fa",
           "#FFA15A",
           "#19d3f3",
           "#FF6692",
           "#B6E880",
           "#FF97FF",
           "#FECB52"
          ],
          "font": {
           "color": "#2a3f5f"
          },
          "geo": {
           "bgcolor": "white",
           "lakecolor": "white",
           "landcolor": "#E5ECF6",
           "showlakes": true,
           "showland": true,
           "subunitcolor": "white"
          },
          "hoverlabel": {
           "align": "left"
          },
          "hovermode": "closest",
          "mapbox": {
           "style": "light"
          },
          "paper_bgcolor": "white",
          "plot_bgcolor": "#E5ECF6",
          "polar": {
           "angularaxis": {
            "gridcolor": "white",
            "linecolor": "white",
            "ticks": ""
           },
           "bgcolor": "#E5ECF6",
           "radialaxis": {
            "gridcolor": "white",
            "linecolor": "white",
            "ticks": ""
           }
          },
          "scene": {
           "xaxis": {
            "backgroundcolor": "#E5ECF6",
            "gridcolor": "white",
            "gridwidth": 2,
            "linecolor": "white",
            "showbackground": true,
            "ticks": "",
            "zerolinecolor": "white"
           },
           "yaxis": {
            "backgroundcolor": "#E5ECF6",
            "gridcolor": "white",
            "gridwidth": 2,
            "linecolor": "white",
            "showbackground": true,
            "ticks": "",
            "zerolinecolor": "white"
           },
           "zaxis": {
            "backgroundcolor": "#E5ECF6",
            "gridcolor": "white",
            "gridwidth": 2,
            "linecolor": "white",
            "showbackground": true,
            "ticks": "",
            "zerolinecolor": "white"
           }
          },
          "shapedefaults": {
           "line": {
            "color": "#2a3f5f"
           }
          },
          "ternary": {
           "aaxis": {
            "gridcolor": "white",
            "linecolor": "white",
            "ticks": ""
           },
           "baxis": {
            "gridcolor": "white",
            "linecolor": "white",
            "ticks": ""
           },
           "bgcolor": "#E5ECF6",
           "caxis": {
            "gridcolor": "white",
            "linecolor": "white",
            "ticks": ""
           }
          },
          "title": {
           "x": 0.05
          },
          "xaxis": {
           "automargin": true,
           "gridcolor": "white",
           "linecolor": "white",
           "ticks": "",
           "title": {
            "standoff": 15
           },
           "zerolinecolor": "white",
           "zerolinewidth": 2
          },
          "yaxis": {
           "automargin": true,
           "gridcolor": "white",
           "linecolor": "white",
           "ticks": "",
           "title": {
            "standoff": 15
           },
           "zerolinecolor": "white",
           "zerolinewidth": 2
          }
         }
        },
        "title": {
         "text": "<i><b>2022 Confusion matrix: XGBClassifier</b></i>"
        },
        "xaxis": {
         "dtick": 1,
         "gridcolor": "rgb(0, 0, 0)",
         "side": "top",
         "ticks": ""
        },
        "yaxis": {
         "dtick": 1,
         "ticks": "",
         "ticksuffix": "  "
        }
       }
      },
      "text/html": [
       "<div>                            <div id=\"7ccb2e9f-1799-480a-8dd6-86def0868432\" class=\"plotly-graph-div\" style=\"height:525px; width:100%;\"></div>            <script type=\"text/javascript\">                require([\"plotly\"], function(Plotly) {                    window.PLOTLYENV=window.PLOTLYENV || {};                                    if (document.getElementById(\"7ccb2e9f-1799-480a-8dd6-86def0868432\")) {                    Plotly.newPlot(                        \"7ccb2e9f-1799-480a-8dd6-86def0868432\",                        [{\"colorscale\":[[0.0,\"rgb(252,251,253)\"],[0.125,\"rgb(239,237,245)\"],[0.25,\"rgb(218,218,235)\"],[0.375,\"rgb(188,189,220)\"],[0.5,\"rgb(158,154,200)\"],[0.625,\"rgb(128,125,186)\"],[0.75,\"rgb(106,81,163)\"],[0.875,\"rgb(84,39,143)\"],[1.0,\"rgb(63,0,125)\"]],\"reversescale\":false,\"showscale\":false,\"x\":[\"Tipo 1\",\"Tipo 4\",\"Tipo 5\"],\"y\":[\"Tipo 1\",\"Tipo 4\",\"Tipo 5\"],\"z\":[[0.92,0.03,0.05],[0.1,0.77,0.13],[0.13,0.24,0.62]],\"type\":\"heatmap\"}],                        {\"annotations\":[{\"font\":{\"color\":\"#FFFFFF\"},\"showarrow\":false,\"text\":\"0.92\",\"x\":\"Tipo 1\",\"xref\":\"x\",\"y\":\"Tipo 1\",\"yref\":\"y\"},{\"font\":{\"color\":\"#000000\"},\"showarrow\":false,\"text\":\"0.03\",\"x\":\"Tipo 4\",\"xref\":\"x\",\"y\":\"Tipo 1\",\"yref\":\"y\"},{\"font\":{\"color\":\"#000000\"},\"showarrow\":false,\"text\":\"0.05\",\"x\":\"Tipo 5\",\"xref\":\"x\",\"y\":\"Tipo 1\",\"yref\":\"y\"},{\"font\":{\"color\":\"#000000\"},\"showarrow\":false,\"text\":\"0.1\",\"x\":\"Tipo 1\",\"xref\":\"x\",\"y\":\"Tipo 4\",\"yref\":\"y\"},{\"font\":{\"color\":\"#FFFFFF\"},\"showarrow\":false,\"text\":\"0.77\",\"x\":\"Tipo 4\",\"xref\":\"x\",\"y\":\"Tipo 4\",\"yref\":\"y\"},{\"font\":{\"color\":\"#000000\"},\"showarrow\":false,\"text\":\"0.13\",\"x\":\"Tipo 5\",\"xref\":\"x\",\"y\":\"Tipo 4\",\"yref\":\"y\"},{\"font\":{\"color\":\"#000000\"},\"showarrow\":false,\"text\":\"0.13\",\"x\":\"Tipo 1\",\"xref\":\"x\",\"y\":\"Tipo 5\",\"yref\":\"y\"},{\"font\":{\"color\":\"#000000\"},\"showarrow\":false,\"text\":\"0.24\",\"x\":\"Tipo 4\",\"xref\":\"x\",\"y\":\"Tipo 5\",\"yref\":\"y\"},{\"font\":{\"color\":\"#FFFFFF\"},\"showarrow\":false,\"text\":\"0.62\",\"x\":\"Tipo 5\",\"xref\":\"x\",\"y\":\"Tipo 5\",\"yref\":\"y\"},{\"font\":{\"color\":\"black\",\"size\":14},\"showarrow\":false,\"text\":\"Predicted value\",\"x\":0.5,\"xref\":\"paper\",\"y\":-0.15,\"yref\":\"paper\"},{\"font\":{\"color\":\"black\",\"size\":14},\"showarrow\":false,\"text\":\"Real value\",\"textangle\":-90,\"x\":-0.35,\"xref\":\"paper\",\"y\":0.5,\"yref\":\"paper\"}],\"xaxis\":{\"dtick\":1,\"gridcolor\":\"rgb(0, 0, 0)\",\"side\":\"top\",\"ticks\":\"\"},\"yaxis\":{\"dtick\":1,\"ticks\":\"\",\"ticksuffix\":\"  \"},\"template\":{\"data\":{\"histogram2dcontour\":[{\"type\":\"histogram2dcontour\",\"colorbar\":{\"outlinewidth\":0,\"ticks\":\"\"},\"colorscale\":[[0.0,\"#0d0887\"],[0.1111111111111111,\"#46039f\"],[0.2222222222222222,\"#7201a8\"],[0.3333333333333333,\"#9c179e\"],[0.4444444444444444,\"#bd3786\"],[0.5555555555555556,\"#d8576b\"],[0.6666666666666666,\"#ed7953\"],[0.7777777777777778,\"#fb9f3a\"],[0.8888888888888888,\"#fdca26\"],[1.0,\"#f0f921\"]]}],\"choropleth\":[{\"type\":\"choropleth\",\"colorbar\":{\"outlinewidth\":0,\"ticks\":\"\"}}],\"histogram2d\":[{\"type\":\"histogram2d\",\"colorbar\":{\"outlinewidth\":0,\"ticks\":\"\"},\"colorscale\":[[0.0,\"#0d0887\"],[0.1111111111111111,\"#46039f\"],[0.2222222222222222,\"#7201a8\"],[0.3333333333333333,\"#9c179e\"],[0.4444444444444444,\"#bd3786\"],[0.5555555555555556,\"#d8576b\"],[0.6666666666666666,\"#ed7953\"],[0.7777777777777778,\"#fb9f3a\"],[0.8888888888888888,\"#fdca26\"],[1.0,\"#f0f921\"]]}],\"heatmap\":[{\"type\":\"heatmap\",\"colorbar\":{\"outlinewidth\":0,\"ticks\":\"\"},\"colorscale\":[[0.0,\"#0d0887\"],[0.1111111111111111,\"#46039f\"],[0.2222222222222222,\"#7201a8\"],[0.3333333333333333,\"#9c179e\"],[0.4444444444444444,\"#bd3786\"],[0.5555555555555556,\"#d8576b\"],[0.6666666666666666,\"#ed7953\"],[0.7777777777777778,\"#fb9f3a\"],[0.8888888888888888,\"#fdca26\"],[1.0,\"#f0f921\"]]}],\"heatmapgl\":[{\"type\":\"heatmapgl\",\"colorbar\":{\"outlinewidth\":0,\"ticks\":\"\"},\"colorscale\":[[0.0,\"#0d0887\"],[0.1111111111111111,\"#46039f\"],[0.2222222222222222,\"#7201a8\"],[0.3333333333333333,\"#9c179e\"],[0.4444444444444444,\"#bd3786\"],[0.5555555555555556,\"#d8576b\"],[0.6666666666666666,\"#ed7953\"],[0.7777777777777778,\"#fb9f3a\"],[0.8888888888888888,\"#fdca26\"],[1.0,\"#f0f921\"]]}],\"contourcarpet\":[{\"type\":\"contourcarpet\",\"colorbar\":{\"outlinewidth\":0,\"ticks\":\"\"}}],\"contour\":[{\"type\":\"contour\",\"colorbar\":{\"outlinewidth\":0,\"ticks\":\"\"},\"colorscale\":[[0.0,\"#0d0887\"],[0.1111111111111111,\"#46039f\"],[0.2222222222222222,\"#7201a8\"],[0.3333333333333333,\"#9c179e\"],[0.4444444444444444,\"#bd3786\"],[0.5555555555555556,\"#d8576b\"],[0.6666666666666666,\"#ed7953\"],[0.7777777777777778,\"#fb9f3a\"],[0.8888888888888888,\"#fdca26\"],[1.0,\"#f0f921\"]]}],\"surface\":[{\"type\":\"surface\",\"colorbar\":{\"outlinewidth\":0,\"ticks\":\"\"},\"colorscale\":[[0.0,\"#0d0887\"],[0.1111111111111111,\"#46039f\"],[0.2222222222222222,\"#7201a8\"],[0.3333333333333333,\"#9c179e\"],[0.4444444444444444,\"#bd3786\"],[0.5555555555555556,\"#d8576b\"],[0.6666666666666666,\"#ed7953\"],[0.7777777777777778,\"#fb9f3a\"],[0.8888888888888888,\"#fdca26\"],[1.0,\"#f0f921\"]]}],\"mesh3d\":[{\"type\":\"mesh3d\",\"colorbar\":{\"outlinewidth\":0,\"ticks\":\"\"}}],\"scatter\":[{\"fillpattern\":{\"fillmode\":\"overlay\",\"size\":10,\"solidity\":0.2},\"type\":\"scatter\"}],\"parcoords\":[{\"type\":\"parcoords\",\"line\":{\"colorbar\":{\"outlinewidth\":0,\"ticks\":\"\"}}}],\"scatterpolargl\":[{\"type\":\"scatterpolargl\",\"marker\":{\"colorbar\":{\"outlinewidth\":0,\"ticks\":\"\"}}}],\"bar\":[{\"error_x\":{\"color\":\"#2a3f5f\"},\"error_y\":{\"color\":\"#2a3f5f\"},\"marker\":{\"line\":{\"color\":\"#E5ECF6\",\"width\":0.5},\"pattern\":{\"fillmode\":\"overlay\",\"size\":10,\"solidity\":0.2}},\"type\":\"bar\"}],\"scattergeo\":[{\"type\":\"scattergeo\",\"marker\":{\"colorbar\":{\"outlinewidth\":0,\"ticks\":\"\"}}}],\"scatterpolar\":[{\"type\":\"scatterpolar\",\"marker\":{\"colorbar\":{\"outlinewidth\":0,\"ticks\":\"\"}}}],\"histogram\":[{\"marker\":{\"pattern\":{\"fillmode\":\"overlay\",\"size\":10,\"solidity\":0.2}},\"type\":\"histogram\"}],\"scattergl\":[{\"type\":\"scattergl\",\"marker\":{\"colorbar\":{\"outlinewidth\":0,\"ticks\":\"\"}}}],\"scatter3d\":[{\"type\":\"scatter3d\",\"line\":{\"colorbar\":{\"outlinewidth\":0,\"ticks\":\"\"}},\"marker\":{\"colorbar\":{\"outlinewidth\":0,\"ticks\":\"\"}}}],\"scattermapbox\":[{\"type\":\"scattermapbox\",\"marker\":{\"colorbar\":{\"outlinewidth\":0,\"ticks\":\"\"}}}],\"scatterternary\":[{\"type\":\"scatterternary\",\"marker\":{\"colorbar\":{\"outlinewidth\":0,\"ticks\":\"\"}}}],\"scattercarpet\":[{\"type\":\"scattercarpet\",\"marker\":{\"colorbar\":{\"outlinewidth\":0,\"ticks\":\"\"}}}],\"carpet\":[{\"aaxis\":{\"endlinecolor\":\"#2a3f5f\",\"gridcolor\":\"white\",\"linecolor\":\"white\",\"minorgridcolor\":\"white\",\"startlinecolor\":\"#2a3f5f\"},\"baxis\":{\"endlinecolor\":\"#2a3f5f\",\"gridcolor\":\"white\",\"linecolor\":\"white\",\"minorgridcolor\":\"white\",\"startlinecolor\":\"#2a3f5f\"},\"type\":\"carpet\"}],\"table\":[{\"cells\":{\"fill\":{\"color\":\"#EBF0F8\"},\"line\":{\"color\":\"white\"}},\"header\":{\"fill\":{\"color\":\"#C8D4E3\"},\"line\":{\"color\":\"white\"}},\"type\":\"table\"}],\"barpolar\":[{\"marker\":{\"line\":{\"color\":\"#E5ECF6\",\"width\":0.5},\"pattern\":{\"fillmode\":\"overlay\",\"size\":10,\"solidity\":0.2}},\"type\":\"barpolar\"}],\"pie\":[{\"automargin\":true,\"type\":\"pie\"}]},\"layout\":{\"autotypenumbers\":\"strict\",\"colorway\":[\"#636efa\",\"#EF553B\",\"#00cc96\",\"#ab63fa\",\"#FFA15A\",\"#19d3f3\",\"#FF6692\",\"#B6E880\",\"#FF97FF\",\"#FECB52\"],\"font\":{\"color\":\"#2a3f5f\"},\"hovermode\":\"closest\",\"hoverlabel\":{\"align\":\"left\"},\"paper_bgcolor\":\"white\",\"plot_bgcolor\":\"#E5ECF6\",\"polar\":{\"bgcolor\":\"#E5ECF6\",\"angularaxis\":{\"gridcolor\":\"white\",\"linecolor\":\"white\",\"ticks\":\"\"},\"radialaxis\":{\"gridcolor\":\"white\",\"linecolor\":\"white\",\"ticks\":\"\"}},\"ternary\":{\"bgcolor\":\"#E5ECF6\",\"aaxis\":{\"gridcolor\":\"white\",\"linecolor\":\"white\",\"ticks\":\"\"},\"baxis\":{\"gridcolor\":\"white\",\"linecolor\":\"white\",\"ticks\":\"\"},\"caxis\":{\"gridcolor\":\"white\",\"linecolor\":\"white\",\"ticks\":\"\"}},\"coloraxis\":{\"colorbar\":{\"outlinewidth\":0,\"ticks\":\"\"}},\"colorscale\":{\"sequential\":[[0.0,\"#0d0887\"],[0.1111111111111111,\"#46039f\"],[0.2222222222222222,\"#7201a8\"],[0.3333333333333333,\"#9c179e\"],[0.4444444444444444,\"#bd3786\"],[0.5555555555555556,\"#d8576b\"],[0.6666666666666666,\"#ed7953\"],[0.7777777777777778,\"#fb9f3a\"],[0.8888888888888888,\"#fdca26\"],[1.0,\"#f0f921\"]],\"sequentialminus\":[[0.0,\"#0d0887\"],[0.1111111111111111,\"#46039f\"],[0.2222222222222222,\"#7201a8\"],[0.3333333333333333,\"#9c179e\"],[0.4444444444444444,\"#bd3786\"],[0.5555555555555556,\"#d8576b\"],[0.6666666666666666,\"#ed7953\"],[0.7777777777777778,\"#fb9f3a\"],[0.8888888888888888,\"#fdca26\"],[1.0,\"#f0f921\"]],\"diverging\":[[0,\"#8e0152\"],[0.1,\"#c51b7d\"],[0.2,\"#de77ae\"],[0.3,\"#f1b6da\"],[0.4,\"#fde0ef\"],[0.5,\"#f7f7f7\"],[0.6,\"#e6f5d0\"],[0.7,\"#b8e186\"],[0.8,\"#7fbc41\"],[0.9,\"#4d9221\"],[1,\"#276419\"]]},\"xaxis\":{\"gridcolor\":\"white\",\"linecolor\":\"white\",\"ticks\":\"\",\"title\":{\"standoff\":15},\"zerolinecolor\":\"white\",\"automargin\":true,\"zerolinewidth\":2},\"yaxis\":{\"gridcolor\":\"white\",\"linecolor\":\"white\",\"ticks\":\"\",\"title\":{\"standoff\":15},\"zerolinecolor\":\"white\",\"automargin\":true,\"zerolinewidth\":2},\"scene\":{\"xaxis\":{\"backgroundcolor\":\"#E5ECF6\",\"gridcolor\":\"white\",\"linecolor\":\"white\",\"showbackground\":true,\"ticks\":\"\",\"zerolinecolor\":\"white\",\"gridwidth\":2},\"yaxis\":{\"backgroundcolor\":\"#E5ECF6\",\"gridcolor\":\"white\",\"linecolor\":\"white\",\"showbackground\":true,\"ticks\":\"\",\"zerolinecolor\":\"white\",\"gridwidth\":2},\"zaxis\":{\"backgroundcolor\":\"#E5ECF6\",\"gridcolor\":\"white\",\"linecolor\":\"white\",\"showbackground\":true,\"ticks\":\"\",\"zerolinecolor\":\"white\",\"gridwidth\":2}},\"shapedefaults\":{\"line\":{\"color\":\"#2a3f5f\"}},\"annotationdefaults\":{\"arrowcolor\":\"#2a3f5f\",\"arrowhead\":0,\"arrowwidth\":1},\"geo\":{\"bgcolor\":\"white\",\"landcolor\":\"#E5ECF6\",\"subunitcolor\":\"white\",\"showland\":true,\"showlakes\":true,\"lakecolor\":\"white\"},\"title\":{\"x\":0.05},\"mapbox\":{\"style\":\"light\"}}},\"title\":{\"text\":\"<i><b>2022 Confusion matrix: XGBClassifier</b></i>\"},\"margin\":{\"t\":50,\"l\":200}},                        {\"responsive\": true}                    ).then(function(){\n",
       "                            \n",
       "var gd = document.getElementById('7ccb2e9f-1799-480a-8dd6-86def0868432');\n",
       "var x = new MutationObserver(function (mutations, observer) {{\n",
       "        var display = window.getComputedStyle(gd).display;\n",
       "        if (!display || display === 'none') {{\n",
       "            console.log([gd, 'removed!']);\n",
       "            Plotly.purge(gd);\n",
       "            observer.disconnect();\n",
       "        }}\n",
       "}});\n",
       "\n",
       "// Listen for the removal of the full notebook cells\n",
       "var notebookContainer = gd.closest('#notebook-container');\n",
       "if (notebookContainer) {{\n",
       "    x.observe(notebookContainer, {childList: true});\n",
       "}}\n",
       "\n",
       "// Listen for the clearing of the current output cell\n",
       "var outputEl = gd.closest('.output');\n",
       "if (outputEl) {{\n",
       "    x.observe(outputEl, {childList: true});\n",
       "}}\n",
       "\n",
       "                        })                };                });            </script>        </div>"
      ]
     },
     "metadata": {},
     "output_type": "display_data"
    }
   ],
   "source": [
    "import plotly.figure_factory as ff\n",
    "\n",
    "cnf_matrix = confusion_matrix(clean_pred_target, predictions_grad_2022_oa)\n",
    "cnf_matrix = cnf_matrix.astype('float') / cnf_matrix.sum(axis=1)[:, np.newaxis]\n",
    "cnf_matrix = np.round(cnf_matrix, 2)\n",
    "\n",
    "x_cm, y_cm = ['Tipo 1', 'Tipo 4', 'Tipo 5'], ['Tipo 1', 'Tipo 4', 'Tipo 5']\n",
    "z_text = [[str(y_cm) for y_cm in x_cm] for x_cm in cnf_matrix]\n",
    "\n",
    "fig = ff.create_annotated_heatmap(cnf_matrix, x = x_cm, y = y_cm,\n",
    "                                  annotation_text = z_text, colorscale='purples')\n",
    "\n",
    "# add title\n",
    "fig.update_layout(title_text='<i><b>2022 Confusion matrix: XGBClassifier</b></i>')\n",
    "\n",
    "fig.add_annotation(dict(font=dict(color=\"black\",size=14),\n",
    "                        x=0.5, y=-0.15, showarrow=False, text=\"Predicted value\",\n",
    "                        xref=\"paper\",  yref=\"paper\"))\n",
    "\n",
    "fig.add_annotation(dict(font=dict(color=\"black\",size=14),\n",
    "                        x=-0.35, y=0.5, showarrow=False, text=\"Real value\", textangle=-90,\n",
    "                        xref=\"paper\", yref=\"paper\"))\n",
    "\n",
    "fig.update_layout(margin=dict(t=50, l=200))\n",
    "\n",
    "fig['data'][0]['showscale'] = False\n",
    "fig.show()"
   ]
  },
  {
   "cell_type": "markdown",
   "id": "07eecafd",
   "metadata": {},
   "source": [
    "### 6) Agregar Conclusiones.\n"
   ]
  },
  {
   "cell_type": "markdown",
   "id": "48a53465",
   "metadata": {},
   "source": [
    "<span style=\"color:purple;font-size:18px\"> \n",
    "    \n",
    "Se tomó el modelo *Gradient XBoost*, que tiene el mejor accuracy de todos, para realizar la predicción del tipo de infracción que se cometerá en 2022, donde vemos que el accuracy general de dicha predicción fue de 77% tomando en cuenta las tres tipos de infracciones que se pueden cometer. \n",
    "    \n",
    "La ZMG recibe alrededor de 1,000 infraccionesd al día, de las cuales solo alrededor del 10% son pagadas en cada año. Este modelo está enfocado en dos principales metas: Una para el ciudadano conductor, donde a partir del Estado de su placa, Modelo de su carro, mes y hora donde se estacionará, y latitud y longitud del lugar; a partir de esto, se podrá hacer una valoración si entra en perfil estadístico de infracciones en la ciudad y esteriotipos de conductores que el modelo aprendió. Por otro lado, beneficiará a la Entidad Pública, ya que a partir de este modelo se puede tener una proyección más certera, basada en histórico, sobre las infracciones a futuro. A partir de estas predicciones, se pueden crear o proponer políticas públicas o programas sociales que incentiven una mejor cultura vial en la ciudad.\n",
    "\n",
    "Apartir del análisis de estos datos podemos determinar cuáles serían las zonas más eficientes dónde agregar cajones de estacionamiento parkimovil o estacionamientos públicos.\n",
    "\n",
    "#LaCalleEsDeTodos\n",
    "</span>"
   ]
  },
  {
   "cell_type": "code",
   "execution_count": 58,
   "id": "90a48d3b",
   "metadata": {
    "ExecuteTime": {
     "end_time": "2022-11-18T05:17:43.988032Z",
     "start_time": "2022-11-18T05:17:43.905864Z"
    }
   },
   "outputs": [
    {
     "name": "stdout",
     "output_type": "stream",
     "text": [
      "https://infraccionesgdl.herokuapp.com\n"
     ]
    }
   ],
   "source": [
    "print(\"https://infraccionesgdl.herokuapp.com\")"
   ]
  },
  {
   "cell_type": "markdown",
   "id": "4091f2d5",
   "metadata": {},
   "source": [
    "### 7) Actualizar el documento rector con los hallazgos de esta etapa."
   ]
  }
 ],
 "metadata": {
  "kernelspec": {
   "display_name": "Python 3 (ipykernel)",
   "language": "python",
   "name": "python3"
  },
  "language_info": {
   "codemirror_mode": {
    "name": "ipython",
    "version": 3
   },
   "file_extension": ".py",
   "mimetype": "text/x-python",
   "name": "python",
   "nbconvert_exporter": "python",
   "pygments_lexer": "ipython3",
   "version": "3.9.13"
  },
  "toc": {
   "base_numbering": 1,
   "nav_menu": {},
   "number_sections": false,
   "sideBar": true,
   "skip_h1_title": true,
   "title_cell": "Entrega 3 - Equipo Morado - XGBClassifier",
   "title_sidebar": "Contents",
   "toc_cell": true,
   "toc_position": {},
   "toc_section_display": true,
   "toc_window_display": false
  },
  "varInspector": {
   "cols": {
    "lenName": 16,
    "lenType": 16,
    "lenVar": 40
   },
   "kernels_config": {
    "python": {
     "delete_cmd_postfix": "",
     "delete_cmd_prefix": "del ",
     "library": "var_list.py",
     "varRefreshCmd": "print(var_dic_list())"
    },
    "r": {
     "delete_cmd_postfix": ") ",
     "delete_cmd_prefix": "rm(",
     "library": "var_list.r",
     "varRefreshCmd": "cat(var_dic_list()) "
    }
   },
   "types_to_exclude": [
    "module",
    "function",
    "builtin_function_or_method",
    "instance",
    "_Feature"
   ],
   "window_display": false
  }
 },
 "nbformat": 4,
 "nbformat_minor": 5
}
