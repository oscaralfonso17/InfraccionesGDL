{
 "cells": [
  {
   "cell_type": "markdown",
   "id": "8017ff0f",
   "metadata": {
    "toc": true
   },
   "source": [
    "<h1>Entrega 3 - Equipo Morado - XGBClassifier<span class=\"tocSkip\"></span></h1>\n",
    "<div class=\"toc\"><ul class=\"toc-item\"><li><span><a href=\"#1)-Incluir-en-forma-resumida-la-información-de-las-variables-relevantes.\" data-toc-modified-id=\"1)-Incluir-en-forma-resumida-la-información-de-las-variables-relevantes.-1\">1) Incluir en forma resumida la información de las variables relevantes.</a></span><ul class=\"toc-item\"><li><ul class=\"toc-item\"><li><span><a href=\"#1.-Muestren-la-información-general-del-set-de-datos-a-utilizar-para-la-fase-de-modelación-de-datos.-Incluir-un-resumen-con-la-descripción-de-las-variables-relevantes-para-el-análisis.\" data-toc-modified-id=\"1.-Muestren-la-información-general-del-set-de-datos-a-utilizar-para-la-fase-de-modelación-de-datos.-Incluir-un-resumen-con-la-descripción-de-las-variables-relevantes-para-el-análisis.-1.0.1\">1. Muestren la información general del set de datos a utilizar para la fase de modelación de datos. Incluir un resumen con la descripción de las variables relevantes para el análisis.</a></span></li><li><span><a href=\"#3.-Definan-la-variable-target,-o-de-respuesta-(dependiente)-y-las-features-o-variables-predictoras-(independientes)\" data-toc-modified-id=\"3.-Definan-la-variable-target,-o-de-respuesta-(dependiente)-y-las-features-o-variables-predictoras-(independientes)-1.0.2\">3. Definan la variable target, o de respuesta (dependiente) y las features o variables predictoras (independientes)</a></span></li><li><span><a href=\"#4.-Definan-qué-tipos-de-modelos-debes-utilizar,-de-regresión-o-de-clasificación.-Justificar-su-respuesta.\" data-toc-modified-id=\"4.-Definan-qué-tipos-de-modelos-debes-utilizar,-de-regresión-o-de-clasificación.-Justificar-su-respuesta.-1.0.3\">4. Definan qué tipos de modelos debes utilizar, de regresión o de clasificación. Justificar su respuesta.</a></span></li><li><span><a href=\"#5.-Definan-el-dataset-para-entrenamiento-y-prueba.\" data-toc-modified-id=\"5.-Definan-el-dataset-para-entrenamiento-y-prueba.-1.0.4\">5. Definan el dataset para entrenamiento y prueba.</a></span></li><li><span><a href=\"#6.-Realizar-varias-veces-los-siguientes-pasos,-para-tratar-de-encontrar-el-mejor-modelo-de-predicción:\" data-toc-modified-id=\"6.-Realizar-varias-veces-los-siguientes-pasos,-para-tratar-de-encontrar-el-mejor-modelo-de-predicción:-1.0.5\">6. Realizar varias veces los siguientes pasos, para tratar de encontrar el mejor modelo de predicción:</a></span><ul class=\"toc-item\"><li><span><a href=\"#a)-Prueben-todos-los-modelos-de-clasificación-vistos-en-clase-para-generar-predicciones.-Al-utilizar-árboles-de-decisión,-genera-también-la-imagen-del-mismo.\" data-toc-modified-id=\"a)-Prueben-todos-los-modelos-de-clasificación-vistos-en-clase-para-generar-predicciones.-Al-utilizar-árboles-de-decisión,-genera-también-la-imagen-del-mismo.-1.0.5.1\">a) Prueben todos los modelos de clasificación vistos en clase para generar predicciones. Al utilizar árboles de decisión, genera también la imagen del mismo.</a></span></li><li><span><a href=\"#b)-Calculen-y-utilicen-métricas-para-comparar-los-modelos:-accuracy,-matriz-de-confusión,-precisión,-sensitividad,-especificidad.\" data-toc-modified-id=\"b)-Calculen-y-utilicen-métricas-para-comparar-los-modelos:-accuracy,-matriz-de-confusión,-precisión,-sensitividad,-especificidad.-1.0.5.2\">b) Calculen y utilicen métricas para comparar los modelos: accuracy, matriz de confusión, precisión, sensitividad, especificidad.</a></span></li><li><span><a href=\"#c)-Implementen-hiperparámetros\" data-toc-modified-id=\"c)-Implementen-hiperparámetros-1.0.5.3\">c) Implementen hiperparámetros</a></span></li><li><span><a href=\"#d)-Implementen-procedimiento-de-validación-cruzada-para-sus-modelos\" data-toc-modified-id=\"d)-Implementen-procedimiento-de-validación-cruzada-para-sus-modelos-1.0.5.4\">d) Implementen procedimiento de validación cruzada para sus modelos</a></span></li></ul></li><li><span><a href=\"#7.-Describan-el-proceso-realizado-y-presenten-sus-conclusiones-al-respecto\" data-toc-modified-id=\"7.-Describan-el-proceso-realizado-y-presenten-sus-conclusiones-al-respecto-1.0.6\">7. Describan el proceso realizado y presenten sus conclusiones al respecto</a></span></li></ul></li></ul></li><li><span><a href=\"#4)-Análisis-de-resultados-y-selección-de-modelo-de-predicción.\" data-toc-modified-id=\"4)-Análisis-de-resultados-y-selección-de-modelo-de-predicción.-2\">4) Análisis de resultados y selección de modelo de predicción.</a></span></li><li><span><a href=\"#6)-Agregar-Conclusiones.\" data-toc-modified-id=\"6)-Agregar-Conclusiones.-3\">6) Agregar Conclusiones.</a></span></li><li><span><a href=\"#7)-Actualizar-el-documento-rector-con-los-hallazgos-de-esta-etapa.\" data-toc-modified-id=\"7)-Actualizar-el-documento-rector-con-los-hallazgos-de-esta-etapa.-4\">7) Actualizar el documento rector con los hallazgos de esta etapa.</a></span></li></ul></div>"
   ]
  },
  {
   "cell_type": "code",
   "execution_count": 1,
   "id": "d028eb37",
   "metadata": {
    "ExecuteTime": {
     "end_time": "2022-11-18T23:50:20.833749Z",
     "start_time": "2022-11-18T23:50:06.080371Z"
    }
   },
   "outputs": [
    {
     "name": "stderr",
     "output_type": "stream",
     "text": [
      "2022-11-18 17:50:13.086049: I tensorflow/core/platform/cpu_feature_guard.cc:193] This TensorFlow binary is optimized with oneAPI Deep Neural Network Library (oneDNN) to use the following CPU instructions in performance-critical operations:  AVX2 FMA\n",
      "To enable them in other operations, rebuild TensorFlow with the appropriate compiler flags.\n"
     ]
    }
   ],
   "source": [
    "import pandas as pd\n",
    "import numpy as np\n",
    "import matplotlib.pyplot as plt\n",
    "import plotly.express as px\n",
    "from sklearn.model_selection import train_test_split\n",
    "from sklearn.linear_model import LogisticRegression\n",
    "from sklearn.linear_model import LinearRegression\n",
    "from sklearn.ensemble import RandomForestRegressor, RandomForestClassifier\n",
    "from sklearn.model_selection import train_test_split,cross_val_score, GridSearchCV, KFold, StratifiedKFold, RandomizedSearchCV\n",
    "from xgboost import XGBClassifier\n",
    "from sklearn.metrics import precision_score, recall_score, accuracy_score, classification_report\n",
    "import pickle\n",
    "import seaborn as sns\n",
    "from mpl_toolkits.mplot3d import Axes3D\n",
    "from sklearn.preprocessing import OneHotEncoder\n",
    "from sklearn.utils import shuffle\n",
    "from sklearn import model_selection\n",
    "from sklearn.metrics import confusion_matrix\n",
    "import tensorflow as tf\n",
    "from tensorflow import keras\n",
    "from keras import layers\n",
    "import tensorflow_docs as tfdocs\n",
    "import tensorflow_docs.plots\n",
    "import tensorflow_docs.modeling\n",
    "import keras\n",
    "from keras.layers import Dense, Dropout, Activation, Flatten, Conv1D, Conv2D, MaxPooling1D, MaxPooling2D, Lambda, MaxPool2D, BatchNormalization\n",
    "from keras.utils import np_utils\n",
    "from keras import models, layers, optimizers\n",
    "from sklearn.model_selection import train_test_split\n",
    "from sklearn.metrics import confusion_matrix, accuracy_score\n",
    "from sklearn.utils import class_weight\n",
    "from tensorflow import keras\n",
    "from tensorflow.keras.optimizers import Adam\n",
    "from keras.models import Sequential, model_from_json\n",
    "from keras.preprocessing.image import ImageDataGenerator\n",
    "from keras.callbacks import ReduceLROnPlateau, ModelCheckpoint\n",
    "from keras import backend as K\n",
    "from keras.applications.vgg16 import VGG16\n",
    "from keras.models import Model\n",
    "\n",
    "from sklearn.metrics import accuracy_score, classification_report, confusion_matrix, label_ranking_average_precision_score, label_ranking_loss, coverage_error \n",
    "import itertools\n",
    "\n",
    "import warnings\n",
    "warnings.filterwarnings(\"ignore\")"
   ]
  },
  {
   "cell_type": "code",
   "execution_count": 2,
   "id": "5b5ae646",
   "metadata": {
    "ExecuteTime": {
     "end_time": "2022-11-18T23:50:23.280107Z",
     "start_time": "2022-11-18T23:50:20.836427Z"
    }
   },
   "outputs": [],
   "source": [
    "db = pd.read_csv(\"InfraccionesGDL_DB_v1.csv\")\n",
    "db['INFRACCIONES'] = db[['INFRACCION_1.0',\n",
    "       'INFRACCION_4.0', 'INFRACCION_5.0']].sum(axis = 1)\n",
    "\n",
    "db = db.loc[db['INFRACCIONES'] > 0]\n",
    "\n",
    "db['INFRACCION'] = 0\n",
    "condition_1 = (db['INFRACCION_1.0'] == 1)\n",
    "db.loc[condition_1, 'INFRACCION'] = 1\n",
    "\n",
    "condition_4 = (db['INFRACCION_4.0'] == 1)\n",
    "db.loc[condition_4, 'INFRACCION'] = 4\n",
    "\n",
    "condition_5 = (db['INFRACCION_5.0'] == 1)\n",
    "db.loc[condition_5, 'INFRACCION'] = 5\n",
    "\n",
    "db = db.drop(columns = [\"Unnamed: 0\"])\n",
    "\n",
    "db = db[['ESTADO', 'MARCA', 'CALLE', 'CRUCE', 'FECHA', 'MES', 'ANO',\n",
    "         'HORA', 'HORA_NUM', 'LATITUD', 'LONGITUD', 'INFRACCION']]\n",
    "\n",
    "db.FECHA = pd.to_datetime(db.FECHA)\n",
    "\n",
    "db.HORA = pd.to_datetime(db.HORA)\n",
    "db.HORA = [time.time() for time in db.HORA]\n",
    "\n",
    "db.DIAS = db.FECHA.dt.weekday"
   ]
  },
  {
   "cell_type": "code",
   "execution_count": 3,
   "id": "ef45bb90",
   "metadata": {
    "ExecuteTime": {
     "end_time": "2022-11-18T23:50:23.338610Z",
     "start_time": "2022-11-18T23:50:23.286290Z"
    }
   },
   "outputs": [
    {
     "data": {
      "text/plain": [
       "array(['morelos', 'jalisco', 'estado de mexico', 'sinaloa',\n",
       "       'baja california norte', 'san luis potosi', 'nayarit',\n",
       "       'ciudad de mexico', 'yucatan', 'guerrero', 'sonora', 'michoacan',\n",
       "       'durango', 'chihuahua', 'colima', 'quintana roo', 'queretaro',\n",
       "       'guanajuato', 'baja california sur', 'nuevo leon', 'hidalgo',\n",
       "       'oaxaca', 'puebla', 'tabasco', 'aguascalientes', 'zacatecas',\n",
       "       'tamaulipas', 'campeche', 'coahuila', 'veracruz', 'tlaxcala',\n",
       "       'chiapas', 'extranjero'], dtype=object)"
      ]
     },
     "execution_count": 3,
     "metadata": {},
     "output_type": "execute_result"
    }
   ],
   "source": [
    "db.ESTADO.unique()"
   ]
  },
  {
   "cell_type": "code",
   "execution_count": 4,
   "id": "b4d75364",
   "metadata": {
    "ExecuteTime": {
     "end_time": "2022-11-18T23:50:23.362856Z",
     "start_time": "2022-11-18T23:50:23.343994Z"
    }
   },
   "outputs": [
    {
     "data": {
      "text/plain": [
       "Index(['ESTADO', 'MARCA', 'CALLE', 'CRUCE', 'FECHA', 'MES', 'ANO', 'HORA',\n",
       "       'HORA_NUM', 'LATITUD', 'LONGITUD', 'INFRACCION'],\n",
       "      dtype='object')"
      ]
     },
     "execution_count": 4,
     "metadata": {},
     "output_type": "execute_result"
    }
   ],
   "source": [
    "db.columns"
   ]
  },
  {
   "cell_type": "code",
   "execution_count": 5,
   "id": "6d8047eb",
   "metadata": {
    "ExecuteTime": {
     "end_time": "2022-11-18T23:50:23.401409Z",
     "start_time": "2022-11-18T23:50:23.368466Z"
    }
   },
   "outputs": [
    {
     "data": {
      "text/html": [
       "<div>\n",
       "<style scoped>\n",
       "    .dataframe tbody tr th:only-of-type {\n",
       "        vertical-align: middle;\n",
       "    }\n",
       "\n",
       "    .dataframe tbody tr th {\n",
       "        vertical-align: top;\n",
       "    }\n",
       "\n",
       "    .dataframe thead th {\n",
       "        text-align: right;\n",
       "    }\n",
       "</style>\n",
       "<table border=\"1\" class=\"dataframe\">\n",
       "  <thead>\n",
       "    <tr style=\"text-align: right;\">\n",
       "      <th></th>\n",
       "      <th>ESTADO</th>\n",
       "      <th>MARCA</th>\n",
       "      <th>CALLE</th>\n",
       "      <th>CRUCE</th>\n",
       "      <th>FECHA</th>\n",
       "      <th>MES</th>\n",
       "      <th>ANO</th>\n",
       "      <th>HORA</th>\n",
       "      <th>HORA_NUM</th>\n",
       "      <th>LATITUD</th>\n",
       "      <th>LONGITUD</th>\n",
       "      <th>INFRACCION</th>\n",
       "    </tr>\n",
       "  </thead>\n",
       "  <tbody>\n",
       "    <tr>\n",
       "      <th>2</th>\n",
       "      <td>jalisco</td>\n",
       "      <td>volkswagen</td>\n",
       "      <td>avenida de la paz</td>\n",
       "      <td>francisco de quevedo</td>\n",
       "      <td>2021-08-16</td>\n",
       "      <td>August</td>\n",
       "      <td>2021</td>\n",
       "      <td>11:26:00</td>\n",
       "      <td>11</td>\n",
       "      <td>20.67</td>\n",
       "      <td>-103.38</td>\n",
       "      <td>1</td>\n",
       "    </tr>\n",
       "    <tr>\n",
       "      <th>3</th>\n",
       "      <td>jalisco</td>\n",
       "      <td>freightliner</td>\n",
       "      <td>avenida de la paz</td>\n",
       "      <td>francisco de quevedo</td>\n",
       "      <td>2021-08-16</td>\n",
       "      <td>August</td>\n",
       "      <td>2021</td>\n",
       "      <td>11:27:00</td>\n",
       "      <td>11</td>\n",
       "      <td>20.67</td>\n",
       "      <td>-103.38</td>\n",
       "      <td>5</td>\n",
       "    </tr>\n",
       "    <tr>\n",
       "      <th>4</th>\n",
       "      <td>jalisco</td>\n",
       "      <td>volkswagen</td>\n",
       "      <td>francisco de quevedo</td>\n",
       "      <td>avenida de la paz</td>\n",
       "      <td>2021-08-16</td>\n",
       "      <td>August</td>\n",
       "      <td>2021</td>\n",
       "      <td>11:38:00</td>\n",
       "      <td>11</td>\n",
       "      <td>20.67</td>\n",
       "      <td>-103.38</td>\n",
       "      <td>1</td>\n",
       "    </tr>\n",
       "  </tbody>\n",
       "</table>\n",
       "</div>"
      ],
      "text/plain": [
       "    ESTADO         MARCA                 CALLE                 CRUCE  \\\n",
       "2  jalisco    volkswagen     avenida de la paz  francisco de quevedo   \n",
       "3  jalisco  freightliner     avenida de la paz  francisco de quevedo   \n",
       "4  jalisco    volkswagen  francisco de quevedo     avenida de la paz   \n",
       "\n",
       "       FECHA     MES   ANO      HORA  HORA_NUM  LATITUD  LONGITUD  INFRACCION  \n",
       "2 2021-08-16  August  2021  11:26:00        11    20.67   -103.38           1  \n",
       "3 2021-08-16  August  2021  11:27:00        11    20.67   -103.38           5  \n",
       "4 2021-08-16  August  2021  11:38:00        11    20.67   -103.38           1  "
      ]
     },
     "execution_count": 5,
     "metadata": {},
     "output_type": "execute_result"
    }
   ],
   "source": [
    "db.head(5)[2:]"
   ]
  },
  {
   "cell_type": "markdown",
   "id": "65c4d427",
   "metadata": {},
   "source": [
    "### 1) Incluir en forma resumida la información de las variables relevantes."
   ]
  },
  {
   "cell_type": "code",
   "execution_count": 6,
   "id": "0ae3c3e6",
   "metadata": {
    "ExecuteTime": {
     "end_time": "2022-11-18T23:50:23.817606Z",
     "start_time": "2022-11-18T23:50:23.427066Z"
    }
   },
   "outputs": [
    {
     "data": {
      "text/html": [
       "<div>\n",
       "<style scoped>\n",
       "    .dataframe tbody tr th:only-of-type {\n",
       "        vertical-align: middle;\n",
       "    }\n",
       "\n",
       "    .dataframe tbody tr th {\n",
       "        vertical-align: top;\n",
       "    }\n",
       "\n",
       "    .dataframe thead th {\n",
       "        text-align: right;\n",
       "    }\n",
       "</style>\n",
       "<table border=\"1\" class=\"dataframe\">\n",
       "  <thead>\n",
       "    <tr style=\"text-align: right;\">\n",
       "      <th></th>\n",
       "      <th>ESTADO</th>\n",
       "      <th>MARCA</th>\n",
       "      <th>CALLE</th>\n",
       "      <th>CRUCE</th>\n",
       "      <th>FECHA</th>\n",
       "      <th>MES</th>\n",
       "      <th>ANO</th>\n",
       "      <th>HORA</th>\n",
       "      <th>HORA_NUM</th>\n",
       "      <th>LATITUD</th>\n",
       "      <th>LONGITUD</th>\n",
       "      <th>INFRACCION</th>\n",
       "    </tr>\n",
       "  </thead>\n",
       "  <tbody>\n",
       "    <tr>\n",
       "      <th>count</th>\n",
       "      <td>305801</td>\n",
       "      <td>305801</td>\n",
       "      <td>305765</td>\n",
       "      <td>305716</td>\n",
       "      <td>305801</td>\n",
       "      <td>305801</td>\n",
       "      <td>305801.000000</td>\n",
       "      <td>305801</td>\n",
       "      <td>305801.000000</td>\n",
       "      <td>305791.000000</td>\n",
       "      <td>305791.000000</td>\n",
       "      <td>305801.000000</td>\n",
       "    </tr>\n",
       "    <tr>\n",
       "      <th>unique</th>\n",
       "      <td>33</td>\n",
       "      <td>67</td>\n",
       "      <td>6687</td>\n",
       "      <td>9774</td>\n",
       "      <td>643</td>\n",
       "      <td>12</td>\n",
       "      <td>NaN</td>\n",
       "      <td>2210</td>\n",
       "      <td>NaN</td>\n",
       "      <td>NaN</td>\n",
       "      <td>NaN</td>\n",
       "      <td>NaN</td>\n",
       "    </tr>\n",
       "    <tr>\n",
       "      <th>top</th>\n",
       "      <td>jalisco</td>\n",
       "      <td>nissan</td>\n",
       "      <td>avenida de la paz</td>\n",
       "      <td>lópez cotilla</td>\n",
       "      <td>2021-02-17 00:00:00</td>\n",
       "      <td>March</td>\n",
       "      <td>NaN</td>\n",
       "      <td>12:14:00</td>\n",
       "      <td>NaN</td>\n",
       "      <td>NaN</td>\n",
       "      <td>NaN</td>\n",
       "      <td>NaN</td>\n",
       "    </tr>\n",
       "    <tr>\n",
       "      <th>freq</th>\n",
       "      <td>229601</td>\n",
       "      <td>45311</td>\n",
       "      <td>11433</td>\n",
       "      <td>7608</td>\n",
       "      <td>1251</td>\n",
       "      <td>32912</td>\n",
       "      <td>NaN</td>\n",
       "      <td>504</td>\n",
       "      <td>NaN</td>\n",
       "      <td>NaN</td>\n",
       "      <td>NaN</td>\n",
       "      <td>NaN</td>\n",
       "    </tr>\n",
       "    <tr>\n",
       "      <th>first</th>\n",
       "      <td>NaN</td>\n",
       "      <td>NaN</td>\n",
       "      <td>NaN</td>\n",
       "      <td>NaN</td>\n",
       "      <td>2021-01-02 00:00:00</td>\n",
       "      <td>NaN</td>\n",
       "      <td>NaN</td>\n",
       "      <td>NaN</td>\n",
       "      <td>NaN</td>\n",
       "      <td>NaN</td>\n",
       "      <td>NaN</td>\n",
       "      <td>NaN</td>\n",
       "    </tr>\n",
       "    <tr>\n",
       "      <th>last</th>\n",
       "      <td>NaN</td>\n",
       "      <td>NaN</td>\n",
       "      <td>NaN</td>\n",
       "      <td>NaN</td>\n",
       "      <td>2022-12-10 00:00:00</td>\n",
       "      <td>NaN</td>\n",
       "      <td>NaN</td>\n",
       "      <td>NaN</td>\n",
       "      <td>NaN</td>\n",
       "      <td>NaN</td>\n",
       "      <td>NaN</td>\n",
       "      <td>NaN</td>\n",
       "    </tr>\n",
       "    <tr>\n",
       "      <th>mean</th>\n",
       "      <td>NaN</td>\n",
       "      <td>NaN</td>\n",
       "      <td>NaN</td>\n",
       "      <td>NaN</td>\n",
       "      <td>NaN</td>\n",
       "      <td>NaN</td>\n",
       "      <td>2021.551228</td>\n",
       "      <td>NaN</td>\n",
       "      <td>9.755916</td>\n",
       "      <td>20.676389</td>\n",
       "      <td>-103.360824</td>\n",
       "      <td>2.757996</td>\n",
       "    </tr>\n",
       "    <tr>\n",
       "      <th>std</th>\n",
       "      <td>NaN</td>\n",
       "      <td>NaN</td>\n",
       "      <td>NaN</td>\n",
       "      <td>NaN</td>\n",
       "      <td>NaN</td>\n",
       "      <td>NaN</td>\n",
       "      <td>0.497370</td>\n",
       "      <td>NaN</td>\n",
       "      <td>6.885302</td>\n",
       "      <td>0.039252</td>\n",
       "      <td>0.034785</td>\n",
       "      <td>1.747697</td>\n",
       "    </tr>\n",
       "    <tr>\n",
       "      <th>min</th>\n",
       "      <td>NaN</td>\n",
       "      <td>NaN</td>\n",
       "      <td>NaN</td>\n",
       "      <td>NaN</td>\n",
       "      <td>NaN</td>\n",
       "      <td>NaN</td>\n",
       "      <td>2021.000000</td>\n",
       "      <td>NaN</td>\n",
       "      <td>0.000000</td>\n",
       "      <td>19.910670</td>\n",
       "      <td>-110.957672</td>\n",
       "      <td>1.000000</td>\n",
       "    </tr>\n",
       "    <tr>\n",
       "      <th>25%</th>\n",
       "      <td>NaN</td>\n",
       "      <td>NaN</td>\n",
       "      <td>NaN</td>\n",
       "      <td>NaN</td>\n",
       "      <td>NaN</td>\n",
       "      <td>NaN</td>\n",
       "      <td>2021.000000</td>\n",
       "      <td>NaN</td>\n",
       "      <td>0.000000</td>\n",
       "      <td>20.671469</td>\n",
       "      <td>-103.371738</td>\n",
       "      <td>1.000000</td>\n",
       "    </tr>\n",
       "    <tr>\n",
       "      <th>50%</th>\n",
       "      <td>NaN</td>\n",
       "      <td>NaN</td>\n",
       "      <td>NaN</td>\n",
       "      <td>NaN</td>\n",
       "      <td>NaN</td>\n",
       "      <td>NaN</td>\n",
       "      <td>2022.000000</td>\n",
       "      <td>NaN</td>\n",
       "      <td>12.000000</td>\n",
       "      <td>20.674378</td>\n",
       "      <td>-103.361184</td>\n",
       "      <td>4.000000</td>\n",
       "    </tr>\n",
       "    <tr>\n",
       "      <th>75%</th>\n",
       "      <td>NaN</td>\n",
       "      <td>NaN</td>\n",
       "      <td>NaN</td>\n",
       "      <td>NaN</td>\n",
       "      <td>NaN</td>\n",
       "      <td>NaN</td>\n",
       "      <td>2022.000000</td>\n",
       "      <td>NaN</td>\n",
       "      <td>15.000000</td>\n",
       "      <td>20.677945</td>\n",
       "      <td>-103.349153</td>\n",
       "      <td>4.000000</td>\n",
       "    </tr>\n",
       "    <tr>\n",
       "      <th>max</th>\n",
       "      <td>NaN</td>\n",
       "      <td>NaN</td>\n",
       "      <td>NaN</td>\n",
       "      <td>NaN</td>\n",
       "      <td>NaN</td>\n",
       "      <td>NaN</td>\n",
       "      <td>2022.000000</td>\n",
       "      <td>NaN</td>\n",
       "      <td>23.000000</td>\n",
       "      <td>31.326010</td>\n",
       "      <td>-102.445630</td>\n",
       "      <td>5.000000</td>\n",
       "    </tr>\n",
       "  </tbody>\n",
       "</table>\n",
       "</div>"
      ],
      "text/plain": [
       "         ESTADO   MARCA              CALLE          CRUCE  \\\n",
       "count    305801  305801             305765         305716   \n",
       "unique       33      67               6687           9774   \n",
       "top     jalisco  nissan  avenida de la paz  lópez cotilla   \n",
       "freq     229601   45311              11433           7608   \n",
       "first       NaN     NaN                NaN            NaN   \n",
       "last        NaN     NaN                NaN            NaN   \n",
       "mean        NaN     NaN                NaN            NaN   \n",
       "std         NaN     NaN                NaN            NaN   \n",
       "min         NaN     NaN                NaN            NaN   \n",
       "25%         NaN     NaN                NaN            NaN   \n",
       "50%         NaN     NaN                NaN            NaN   \n",
       "75%         NaN     NaN                NaN            NaN   \n",
       "max         NaN     NaN                NaN            NaN   \n",
       "\n",
       "                      FECHA     MES            ANO      HORA       HORA_NUM  \\\n",
       "count                305801  305801  305801.000000    305801  305801.000000   \n",
       "unique                  643      12            NaN      2210            NaN   \n",
       "top     2021-02-17 00:00:00   March            NaN  12:14:00            NaN   \n",
       "freq                   1251   32912            NaN       504            NaN   \n",
       "first   2021-01-02 00:00:00     NaN            NaN       NaN            NaN   \n",
       "last    2022-12-10 00:00:00     NaN            NaN       NaN            NaN   \n",
       "mean                    NaN     NaN    2021.551228       NaN       9.755916   \n",
       "std                     NaN     NaN       0.497370       NaN       6.885302   \n",
       "min                     NaN     NaN    2021.000000       NaN       0.000000   \n",
       "25%                     NaN     NaN    2021.000000       NaN       0.000000   \n",
       "50%                     NaN     NaN    2022.000000       NaN      12.000000   \n",
       "75%                     NaN     NaN    2022.000000       NaN      15.000000   \n",
       "max                     NaN     NaN    2022.000000       NaN      23.000000   \n",
       "\n",
       "              LATITUD       LONGITUD     INFRACCION  \n",
       "count   305791.000000  305791.000000  305801.000000  \n",
       "unique            NaN            NaN            NaN  \n",
       "top               NaN            NaN            NaN  \n",
       "freq              NaN            NaN            NaN  \n",
       "first             NaN            NaN            NaN  \n",
       "last              NaN            NaN            NaN  \n",
       "mean        20.676389    -103.360824       2.757996  \n",
       "std          0.039252       0.034785       1.747697  \n",
       "min         19.910670    -110.957672       1.000000  \n",
       "25%         20.671469    -103.371738       1.000000  \n",
       "50%         20.674378    -103.361184       4.000000  \n",
       "75%         20.677945    -103.349153       4.000000  \n",
       "max         31.326010    -102.445630       5.000000  "
      ]
     },
     "execution_count": 6,
     "metadata": {},
     "output_type": "execute_result"
    }
   ],
   "source": [
    "db.describe(include = 'all')"
   ]
  },
  {
   "cell_type": "markdown",
   "id": "581da70b",
   "metadata": {},
   "source": [
    "##### 1. Muestren la información general del set de datos a utilizar para la fase de modelación de datos. Incluir un resumen con la descripción de las variables relevantes para el análisis."
   ]
  },
  {
   "cell_type": "markdown",
   "id": "e666edd0",
   "metadata": {},
   "source": [
    "<span style=\"color:purple;font-size:18px\">\n",
    "\n",
    "1. **ESTADO**: Estado de la placa del automóvil infraccionado | *Tipo String.*\n",
    "2. **MARCA**: Marca del automóvil infraccionado | *Tipo String.*\n",
    "3. **CALLE**: Calle principal donde se realizó la infracción | *Tipo String.*\n",
    "4. **CRUCE**: Cruce más cercano de la calle principal donde se realizó la infracción | *Tipo String.*\n",
    "5. **FECHA**: Fecha de la infracción | *Tipo Datetime.*\n",
    "6. **MES**: Mes (en inglés) de la infracción | *Tipo int: Valores del 1 al 12.*\n",
    "7. **HORA_NUM**: Hora de la infracción | *Tipo Datetime.*\n",
    "8. **LATITUD**: Latitud geográfica de la infracción | *Tipo int.*\n",
    "9. **LONGITUD**: Longitud geográfica de la infracción | *Tipo int.* \n",
    "10. **INFRACCIÓN**: Tipo de infracción cometida por el vehículo | *Tipo int. Valores 1, 4 o 5. </span>"
   ]
  },
  {
   "cell_type": "markdown",
   "id": "3ae6816e",
   "metadata": {},
   "source": [
    "##### 3. Definan la variable target, o de respuesta (dependiente) y las features o variables predictoras (independientes)"
   ]
  },
  {
   "cell_type": "code",
   "execution_count": 7,
   "id": "e922b182",
   "metadata": {
    "ExecuteTime": {
     "end_time": "2022-11-18T23:50:23.842146Z",
     "start_time": "2022-11-18T23:50:23.824218Z"
    }
   },
   "outputs": [],
   "source": [
    "target = [\"INFRACCION\"] \n",
    "\n",
    "features = ['ESTADO', 'MARCA', 'CALLE', 'CRUCE', 'FECHA', 'MES', 'HORA_NUM', 'LATITUD', 'LONGITUD']"
   ]
  },
  {
   "cell_type": "markdown",
   "id": "d0472dcf",
   "metadata": {},
   "source": [
    "<span style=\"color:purple;font-size:18px\"> Nuestro target será el tipo de **INFRACCIÓN**, donde los features serán: **ESTADO, MARCA, CALLE, CRUCE, FECHA, MES, HORA_NUM, LATITUD, LONGITUD**. </span>"
   ]
  },
  {
   "cell_type": "markdown",
   "id": "c3826dcb",
   "metadata": {},
   "source": [
    "##### 4. Definan qué tipos de modelos debes utilizar, de regresión o de clasificación. Justificar su respuesta."
   ]
  },
  {
   "cell_type": "markdown",
   "id": "1ae4833c",
   "metadata": {},
   "source": [
    "<span style=\"color:purple;font-size:18px\"> El modelo a utilizar será un **MODELO DE CLASIFICACIÓN MULTIVARIABLE** para definir el tipo de infracción. </span>"
   ]
  },
  {
   "cell_type": "markdown",
   "id": "f9360033",
   "metadata": {},
   "source": [
    "##### 5. Definan el dataset para entrenamiento y prueba.\n"
   ]
  },
  {
   "cell_type": "code",
   "execution_count": 8,
   "id": "083fa97d",
   "metadata": {
    "ExecuteTime": {
     "end_time": "2022-11-18T23:50:23.940380Z",
     "start_time": "2022-11-18T23:50:23.847297Z"
    }
   },
   "outputs": [],
   "source": [
    "clean_training = db.loc[db['ANO'] == 2021]\n",
    "clean_prediction = db.loc[db['ANO'] == 2022]\n",
    "\n",
    "clean_prediction_notarget = clean_prediction[features]"
   ]
  },
  {
   "cell_type": "markdown",
   "id": "231fd933",
   "metadata": {},
   "source": [
    "<span style=\"color:purple;font-size:18px\">El training serán las infracciones de 2021 y la predicción las infracciones de 2022. </span>"
   ]
  },
  {
   "cell_type": "code",
   "execution_count": 9,
   "id": "81ced1bc",
   "metadata": {
    "ExecuteTime": {
     "end_time": "2022-11-18T23:50:23.960030Z",
     "start_time": "2022-11-18T23:50:23.945767Z"
    }
   },
   "outputs": [
    {
     "data": {
      "text/plain": [
       "Index(['ESTADO', 'MARCA', 'CALLE', 'CRUCE', 'FECHA', 'MES', 'ANO', 'HORA',\n",
       "       'HORA_NUM', 'LATITUD', 'LONGITUD', 'INFRACCION'],\n",
       "      dtype='object')"
      ]
     },
     "execution_count": 9,
     "metadata": {},
     "output_type": "execute_result"
    }
   ],
   "source": [
    "clean_training.columns"
   ]
  },
  {
   "cell_type": "markdown",
   "id": "36478f4a",
   "metadata": {},
   "source": [
    "##### 6. Realizar varias veces los siguientes pasos, para tratar de encontrar el mejor modelo de predicción:"
   ]
  },
  {
   "cell_type": "markdown",
   "id": "21d0f94a",
   "metadata": {},
   "source": [
    "###### a) Prueben todos los modelos de clasificación vistos en clase para generar predicciones. Al utilizar árboles de decisión, genera también la imagen del mismo."
   ]
  },
  {
   "cell_type": "code",
   "execution_count": 10,
   "id": "3f0647c2",
   "metadata": {
    "ExecuteTime": {
     "end_time": "2022-11-18T23:50:24.133204Z",
     "start_time": "2022-11-18T23:50:23.967078Z"
    }
   },
   "outputs": [],
   "source": [
    "clean_training = clean_training.dropna(subset = 'LATITUD')\n",
    "\n",
    "x_oa = clean_training.drop(['INFRACCION'], axis=1)\n",
    "\n",
    "str_features = ['ESTADO', 'MARCA']\n",
    "\n",
    "for i in range(len(str_features)):\n",
    "    clean_training[str_features[i]] = clean_training[str_features[i]].astype(\"category\")\n",
    "    clean_training[str_features[i]+\"_cat\"] = clean_training[str_features[i]].cat.reorder_categories(clean_training[str_features[i]].unique(),\n",
    "                                                                       ordered=True)\n",
    "    clean_training[str_features[i]+\"_cat\"] = clean_training[str_features[i]+\"_cat\"].cat.codes\n",
    "\n",
    "x_oa['MES'] = x_oa.FECHA.dt.month\n",
    "\n",
    "for i in range(len(str_features)):\n",
    "    x_oa[str_features[i]] = x_oa[str_features[i]].astype(\"category\")\n",
    "    x_oa[str_features[i]+\"_cat\"] = x_oa[str_features[i]].cat.reorder_categories(x_oa[str_features[i]].unique(),\n",
    "                                                                       ordered=True)\n",
    "    x_oa[str_features[i]+\"_cat\"] = x_oa[str_features[i]+\"_cat\"].cat.codes\n",
    "\n",
    "x_oa['MES'] = x_oa.FECHA.dt.month\n",
    "\n",
    "x_oa_all = x_oa"
   ]
  },
  {
   "cell_type": "code",
   "execution_count": 11,
   "id": "66d4199c",
   "metadata": {
    "ExecuteTime": {
     "end_time": "2022-11-18T23:50:24.222621Z",
     "start_time": "2022-11-18T23:50:24.162039Z"
    }
   },
   "outputs": [
    {
     "data": {
      "text/html": [
       "<div>\n",
       "<style scoped>\n",
       "    .dataframe tbody tr th:only-of-type {\n",
       "        vertical-align: middle;\n",
       "    }\n",
       "\n",
       "    .dataframe tbody tr th {\n",
       "        vertical-align: top;\n",
       "    }\n",
       "\n",
       "    .dataframe thead th {\n",
       "        text-align: right;\n",
       "    }\n",
       "</style>\n",
       "<table border=\"1\" class=\"dataframe\">\n",
       "  <thead>\n",
       "    <tr style=\"text-align: right;\">\n",
       "      <th></th>\n",
       "      <th>ESTADO</th>\n",
       "      <th>MARCA</th>\n",
       "      <th>CALLE</th>\n",
       "      <th>CRUCE</th>\n",
       "      <th>FECHA</th>\n",
       "      <th>MES</th>\n",
       "      <th>ANO</th>\n",
       "      <th>HORA</th>\n",
       "      <th>HORA_NUM</th>\n",
       "      <th>LATITUD</th>\n",
       "      <th>LONGITUD</th>\n",
       "      <th>ESTADO_cat</th>\n",
       "      <th>MARCA_cat</th>\n",
       "    </tr>\n",
       "  </thead>\n",
       "  <tbody>\n",
       "    <tr>\n",
       "      <th>0</th>\n",
       "      <td>morelos</td>\n",
       "      <td>jeep</td>\n",
       "      <td>calle manuel lópez cotilla</td>\n",
       "      <td>francisco de quevedo</td>\n",
       "      <td>2021-08-16</td>\n",
       "      <td>8</td>\n",
       "      <td>2021</td>\n",
       "      <td>11:11:00</td>\n",
       "      <td>11</td>\n",
       "      <td>20.67</td>\n",
       "      <td>-103.38</td>\n",
       "      <td>17</td>\n",
       "      <td>30</td>\n",
       "    </tr>\n",
       "    <tr>\n",
       "      <th>1</th>\n",
       "      <td>jalisco</td>\n",
       "      <td>kicks</td>\n",
       "      <td>calle lope de vega</td>\n",
       "      <td>avenida de la paz</td>\n",
       "      <td>2021-08-16</td>\n",
       "      <td>8</td>\n",
       "      <td>2021</td>\n",
       "      <td>11:22:00</td>\n",
       "      <td>11</td>\n",
       "      <td>20.67</td>\n",
       "      <td>-103.38</td>\n",
       "      <td>15</td>\n",
       "      <td>33</td>\n",
       "    </tr>\n",
       "    <tr>\n",
       "      <th>2</th>\n",
       "      <td>jalisco</td>\n",
       "      <td>volkswagen</td>\n",
       "      <td>avenida de la paz</td>\n",
       "      <td>francisco de quevedo</td>\n",
       "      <td>2021-08-16</td>\n",
       "      <td>8</td>\n",
       "      <td>2021</td>\n",
       "      <td>11:26:00</td>\n",
       "      <td>11</td>\n",
       "      <td>20.67</td>\n",
       "      <td>-103.38</td>\n",
       "      <td>15</td>\n",
       "      <td>64</td>\n",
       "    </tr>\n",
       "  </tbody>\n",
       "</table>\n",
       "</div>"
      ],
      "text/plain": [
       "    ESTADO       MARCA                       CALLE                 CRUCE  \\\n",
       "0  morelos        jeep  calle manuel lópez cotilla  francisco de quevedo   \n",
       "1  jalisco       kicks          calle lope de vega     avenida de la paz   \n",
       "2  jalisco  volkswagen           avenida de la paz  francisco de quevedo   \n",
       "\n",
       "       FECHA  MES   ANO      HORA  HORA_NUM  LATITUD  LONGITUD  ESTADO_cat  \\\n",
       "0 2021-08-16    8  2021  11:11:00        11    20.67   -103.38          17   \n",
       "1 2021-08-16    8  2021  11:22:00        11    20.67   -103.38          15   \n",
       "2 2021-08-16    8  2021  11:26:00        11    20.67   -103.38          15   \n",
       "\n",
       "   MARCA_cat  \n",
       "0         30  \n",
       "1         33  \n",
       "2         64  "
      ]
     },
     "execution_count": 11,
     "metadata": {},
     "output_type": "execute_result"
    }
   ],
   "source": [
    "x_oa_all.head(3)"
   ]
  },
  {
   "cell_type": "markdown",
   "id": "3d84c7ae",
   "metadata": {},
   "source": [
    "3. Gradient Boost"
   ]
  },
  {
   "cell_type": "code",
   "execution_count": 12,
   "id": "bc0e3366",
   "metadata": {
    "ExecuteTime": {
     "end_time": "2022-11-18T23:50:24.271583Z",
     "start_time": "2022-11-18T23:50:24.231847Z"
    }
   },
   "outputs": [],
   "source": [
    "x_oa = x_oa_all[['ESTADO_cat', 'MARCA_cat', 'MES', 'HORA_NUM', 'LATITUD', 'LONGITUD']]\n",
    "y_oa = clean_training['INFRACCION']\n",
    "y_oa = y_oa.replace({1: 0, 4: 1, 5: 2})\n",
    "\n",
    "xtrain_oa, xtest_oa, ytrain_oa, ytest_oa = train_test_split(x_oa, y_oa, test_size=0.25, random_state=1)"
   ]
  },
  {
   "cell_type": "code",
   "execution_count": 13,
   "id": "b2d56899",
   "metadata": {
    "ExecuteTime": {
     "end_time": "2022-11-19T00:02:57.139443Z",
     "start_time": "2022-11-18T23:50:24.274943Z"
    }
   },
   "outputs": [
    {
     "data": {
      "text/html": [
       "<style>#sk-container-id-1 {color: black;background-color: white;}#sk-container-id-1 pre{padding: 0;}#sk-container-id-1 div.sk-toggleable {background-color: white;}#sk-container-id-1 label.sk-toggleable__label {cursor: pointer;display: block;width: 100%;margin-bottom: 0;padding: 0.3em;box-sizing: border-box;text-align: center;}#sk-container-id-1 label.sk-toggleable__label-arrow:before {content: \"▸\";float: left;margin-right: 0.25em;color: #696969;}#sk-container-id-1 label.sk-toggleable__label-arrow:hover:before {color: black;}#sk-container-id-1 div.sk-estimator:hover label.sk-toggleable__label-arrow:before {color: black;}#sk-container-id-1 div.sk-toggleable__content {max-height: 0;max-width: 0;overflow: hidden;text-align: left;background-color: #f0f8ff;}#sk-container-id-1 div.sk-toggleable__content pre {margin: 0.2em;color: black;border-radius: 0.25em;background-color: #f0f8ff;}#sk-container-id-1 input.sk-toggleable__control:checked~div.sk-toggleable__content {max-height: 200px;max-width: 100%;overflow: auto;}#sk-container-id-1 input.sk-toggleable__control:checked~label.sk-toggleable__label-arrow:before {content: \"▾\";}#sk-container-id-1 div.sk-estimator input.sk-toggleable__control:checked~label.sk-toggleable__label {background-color: #d4ebff;}#sk-container-id-1 div.sk-label input.sk-toggleable__control:checked~label.sk-toggleable__label {background-color: #d4ebff;}#sk-container-id-1 input.sk-hidden--visually {border: 0;clip: rect(1px 1px 1px 1px);clip: rect(1px, 1px, 1px, 1px);height: 1px;margin: -1px;overflow: hidden;padding: 0;position: absolute;width: 1px;}#sk-container-id-1 div.sk-estimator {font-family: monospace;background-color: #f0f8ff;border: 1px dotted black;border-radius: 0.25em;box-sizing: border-box;margin-bottom: 0.5em;}#sk-container-id-1 div.sk-estimator:hover {background-color: #d4ebff;}#sk-container-id-1 div.sk-parallel-item::after {content: \"\";width: 100%;border-bottom: 1px solid gray;flex-grow: 1;}#sk-container-id-1 div.sk-label:hover label.sk-toggleable__label {background-color: #d4ebff;}#sk-container-id-1 div.sk-serial::before {content: \"\";position: absolute;border-left: 1px solid gray;box-sizing: border-box;top: 0;bottom: 0;left: 50%;z-index: 0;}#sk-container-id-1 div.sk-serial {display: flex;flex-direction: column;align-items: center;background-color: white;padding-right: 0.2em;padding-left: 0.2em;position: relative;}#sk-container-id-1 div.sk-item {position: relative;z-index: 1;}#sk-container-id-1 div.sk-parallel {display: flex;align-items: stretch;justify-content: center;background-color: white;position: relative;}#sk-container-id-1 div.sk-item::before, #sk-container-id-1 div.sk-parallel-item::before {content: \"\";position: absolute;border-left: 1px solid gray;box-sizing: border-box;top: 0;bottom: 0;left: 50%;z-index: -1;}#sk-container-id-1 div.sk-parallel-item {display: flex;flex-direction: column;z-index: 1;position: relative;background-color: white;}#sk-container-id-1 div.sk-parallel-item:first-child::after {align-self: flex-end;width: 50%;}#sk-container-id-1 div.sk-parallel-item:last-child::after {align-self: flex-start;width: 50%;}#sk-container-id-1 div.sk-parallel-item:only-child::after {width: 0;}#sk-container-id-1 div.sk-dashed-wrapped {border: 1px dashed gray;margin: 0 0.4em 0.5em 0.4em;box-sizing: border-box;padding-bottom: 0.4em;background-color: white;}#sk-container-id-1 div.sk-label label {font-family: monospace;font-weight: bold;display: inline-block;line-height: 1.2em;}#sk-container-id-1 div.sk-label-container {text-align: center;}#sk-container-id-1 div.sk-container {/* jupyter's `normalize.less` sets `[hidden] { display: none; }` but bootstrap.min.css set `[hidden] { display: none !important; }` so we also need the `!important` here to be able to override the default hidden behavior on the sphinx rendered scikit-learn.org. See: https://github.com/scikit-learn/scikit-learn/issues/21755 */display: inline-block !important;position: relative;}#sk-container-id-1 div.sk-text-repr-fallback {display: none;}</style><div id=\"sk-container-id-1\" class=\"sk-top-container\"><div class=\"sk-text-repr-fallback\"><pre>XGBClassifier(base_score=0.5, booster=&#x27;gbtree&#x27;, callbacks=None,\n",
       "              colsample_bylevel=1, colsample_bynode=1, colsample_bytree=1,\n",
       "              early_stopping_rounds=None, enable_categorical=False,\n",
       "              eval_metric=None, gamma=0, gpu_id=-1, grow_policy=&#x27;depthwise&#x27;,\n",
       "              importance_type=None, interaction_constraints=&#x27;&#x27;,\n",
       "              learning_rate=0.01, max_bin=256, max_cat_to_onehot=4,\n",
       "              max_delta_step=0, max_depth=6, max_leaves=0, min_child_weight=1,\n",
       "              missing=nan, monotone_constraints=&#x27;()&#x27;, n_estimators=4000,\n",
       "              n_jobs=0, num_parallel_tree=1, objective=&#x27;multi:softprob&#x27;,\n",
       "              predictor=&#x27;auto&#x27;, random_state=0, reg_alpha=0, ...)</pre><b>In a Jupyter environment, please rerun this cell to show the HTML representation or trust the notebook. <br />On GitHub, the HTML representation is unable to render, please try loading this page with nbviewer.org.</b></div><div class=\"sk-container\" hidden><div class=\"sk-item\"><div class=\"sk-estimator sk-toggleable\"><input class=\"sk-toggleable__control sk-hidden--visually\" id=\"sk-estimator-id-1\" type=\"checkbox\" checked><label for=\"sk-estimator-id-1\" class=\"sk-toggleable__label sk-toggleable__label-arrow\">XGBClassifier</label><div class=\"sk-toggleable__content\"><pre>XGBClassifier(base_score=0.5, booster=&#x27;gbtree&#x27;, callbacks=None,\n",
       "              colsample_bylevel=1, colsample_bynode=1, colsample_bytree=1,\n",
       "              early_stopping_rounds=None, enable_categorical=False,\n",
       "              eval_metric=None, gamma=0, gpu_id=-1, grow_policy=&#x27;depthwise&#x27;,\n",
       "              importance_type=None, interaction_constraints=&#x27;&#x27;,\n",
       "              learning_rate=0.01, max_bin=256, max_cat_to_onehot=4,\n",
       "              max_delta_step=0, max_depth=6, max_leaves=0, min_child_weight=1,\n",
       "              missing=nan, monotone_constraints=&#x27;()&#x27;, n_estimators=4000,\n",
       "              n_jobs=0, num_parallel_tree=1, objective=&#x27;multi:softprob&#x27;,\n",
       "              predictor=&#x27;auto&#x27;, random_state=0, reg_alpha=0, ...)</pre></div></div></div></div></div>"
      ],
      "text/plain": [
       "XGBClassifier(base_score=0.5, booster='gbtree', callbacks=None,\n",
       "              colsample_bylevel=1, colsample_bynode=1, colsample_bytree=1,\n",
       "              early_stopping_rounds=None, enable_categorical=False,\n",
       "              eval_metric=None, gamma=0, gpu_id=-1, grow_policy='depthwise',\n",
       "              importance_type=None, interaction_constraints='',\n",
       "              learning_rate=0.01, max_bin=256, max_cat_to_onehot=4,\n",
       "              max_delta_step=0, max_depth=6, max_leaves=0, min_child_weight=1,\n",
       "              missing=nan, monotone_constraints='()', n_estimators=4000,\n",
       "              n_jobs=0, num_parallel_tree=1, objective='multi:softprob',\n",
       "              predictor='auto', random_state=0, reg_alpha=0, ...)"
      ]
     },
     "execution_count": 13,
     "metadata": {},
     "output_type": "execute_result"
    }
   ],
   "source": [
    "gradient_boosting_cls_oa = XGBClassifier(\n",
    "    n_estimators=4000,\n",
    "    learning_rate=0.01,\n",
    "    max_depth=6)\n",
    "\n",
    "gradient_boosting_cls_oa.fit(xtrain_oa, ytrain_oa)"
   ]
  },
  {
   "cell_type": "code",
   "execution_count": 14,
   "id": "feff65c3",
   "metadata": {
    "ExecuteTime": {
     "end_time": "2022-11-19T00:03:04.005978Z",
     "start_time": "2022-11-19T00:02:57.143615Z"
    }
   },
   "outputs": [],
   "source": [
    "predictions_grad_oa = gradient_boosting_cls_oa.predict(xtest_oa)"
   ]
  },
  {
   "cell_type": "markdown",
   "id": "217d8d9d",
   "metadata": {},
   "source": [
    "###### b) Calculen y utilicen métricas para comparar los modelos: accuracy, matriz de confusión, precisión, sensitividad, especificidad."
   ]
  },
  {
   "cell_type": "markdown",
   "id": "87aaf798",
   "metadata": {},
   "source": [
    "3. Gradient Boost"
   ]
  },
  {
   "cell_type": "code",
   "execution_count": 15,
   "id": "5a93fb4b",
   "metadata": {
    "ExecuteTime": {
     "end_time": "2022-11-19T00:03:09.786702Z",
     "start_time": "2022-11-19T00:03:04.016679Z"
    }
   },
   "outputs": [
    {
     "name": "stdout",
     "output_type": "stream",
     "text": [
      "Accuracy on test set:0.84\n",
      "              precision    recall  f1-score   support\n",
      "\n",
      "           0       0.87      0.97      0.92     15373\n",
      "           1       0.82      0.78      0.80     10576\n",
      "           2       0.79      0.67      0.73      8358\n",
      "\n",
      "    accuracy                           0.84     34307\n",
      "   macro avg       0.83      0.81      0.81     34307\n",
      "weighted avg       0.84      0.84      0.84     34307\n",
      "\n",
      "Confusion matrix\n",
      "\n",
      " [[14962   224   187]\n",
      " [ 1043  8234  1299]\n",
      " [ 1143  1610  5605]]\n"
     ]
    }
   ],
   "source": [
    "print(f\"Accuracy on test set:{round(gradient_boosting_cls_oa.score(xtest_oa, ytest_oa),2)}\")\n",
    "\n",
    "print(classification_report(ytest_oa, predictions_grad_oa))\n",
    "\n",
    "cm_oa = confusion_matrix(ytest_oa, predictions_grad_oa)\n",
    "print('Confusion matrix\\n\\n', cm_oa)"
   ]
  },
  {
   "cell_type": "markdown",
   "id": "7c512b09",
   "metadata": {},
   "source": [
    "###### c) Implementen hiperparámetros"
   ]
  },
  {
   "cell_type": "code",
   "execution_count": 16,
   "id": "b50b20ce",
   "metadata": {
    "ExecuteTime": {
     "end_time": "2022-11-19T00:03:09.808397Z",
     "start_time": "2022-11-19T00:03:09.794349Z"
    }
   },
   "outputs": [
    {
     "name": "stdout",
     "output_type": "stream",
     "text": [
      "{'base_score': 0.5,\n",
      " 'booster': 'gbtree',\n",
      " 'callbacks': None,\n",
      " 'colsample_bylevel': 1,\n",
      " 'colsample_bynode': 1,\n",
      " 'colsample_bytree': 1,\n",
      " 'early_stopping_rounds': None,\n",
      " 'enable_categorical': False,\n",
      " 'eval_metric': None,\n",
      " 'gamma': 0,\n",
      " 'gpu_id': -1,\n",
      " 'grow_policy': 'depthwise',\n",
      " 'importance_type': None,\n",
      " 'interaction_constraints': '',\n",
      " 'learning_rate': 0.01,\n",
      " 'max_bin': 256,\n",
      " 'max_cat_to_onehot': 4,\n",
      " 'max_delta_step': 0,\n",
      " 'max_depth': 6,\n",
      " 'max_leaves': 0,\n",
      " 'min_child_weight': 1,\n",
      " 'missing': nan,\n",
      " 'monotone_constraints': '()',\n",
      " 'n_estimators': 4000,\n",
      " 'n_jobs': 0,\n",
      " 'num_parallel_tree': 1,\n",
      " 'objective': 'multi:softprob',\n",
      " 'predictor': 'auto',\n",
      " 'random_state': 0,\n",
      " 'reg_alpha': 0,\n",
      " 'reg_lambda': 1,\n",
      " 'sampling_method': 'uniform',\n",
      " 'scale_pos_weight': None,\n",
      " 'subsample': 1,\n",
      " 'tree_method': 'exact',\n",
      " 'use_label_encoder': False,\n",
      " 'validate_parameters': 1,\n",
      " 'verbosity': None}\n"
     ]
    }
   ],
   "source": [
    "from pprint import pprint\n",
    "pprint(gradient_boosting_cls_oa.get_params())"
   ]
  },
  {
   "cell_type": "code",
   "execution_count": 17,
   "id": "dce476ad",
   "metadata": {
    "ExecuteTime": {
     "end_time": "2022-11-19T00:03:09.832316Z",
     "start_time": "2022-11-19T00:03:09.818945Z"
    }
   },
   "outputs": [],
   "source": [
    "param_grid = {'n_estimators': [1000, 1500, 2000, 2500, 3000, 4000],\n",
    "              'max_depth': [5, 6, 7, 8, 9],\n",
    "              'n_jobs': [0, 1, 2, 3]}"
   ]
  },
  {
   "cell_type": "code",
   "execution_count": null,
   "id": "dd21694a",
   "metadata": {
    "ExecuteTime": {
     "start_time": "2022-11-18T23:50:12.307Z"
    },
    "scrolled": true
   },
   "outputs": [],
   "source": [
    "gradient_boosting_cls_oa_hyper = RandomizedSearchCV(gradient_boosting_cls_oa, param_grid, cv = 5)\n",
    "gradient_boosting_cls_oa_hyper.fit(xtest_oa, ytest_oa)"
   ]
  },
  {
   "cell_type": "code",
   "execution_count": null,
   "id": "47fb46f9",
   "metadata": {
    "ExecuteTime": {
     "start_time": "2022-11-18T23:50:12.309Z"
    }
   },
   "outputs": [],
   "source": [
    "gradient_boosting_cls_oa.get_params"
   ]
  },
  {
   "cell_type": "code",
   "execution_count": null,
   "id": "511df030",
   "metadata": {
    "ExecuteTime": {
     "start_time": "2022-11-18T23:50:12.311Z"
    }
   },
   "outputs": [],
   "source": [
    "print(\"The best parameters across ALL searched params:\\n\", gradient_boosting_cls_oa_hyper.best_params_)"
   ]
  },
  {
   "cell_type": "code",
   "execution_count": null,
   "id": "a5bf989d",
   "metadata": {
    "ExecuteTime": {
     "start_time": "2022-11-18T23:50:12.313Z"
    }
   },
   "outputs": [],
   "source": [
    "gradient_boosting_cls_oa_best = XGBClassifier(gradient_boosting_cls_oa_hyper.best_params_)\n",
    "\n",
    "gradient_boosting_cls_oa_best.fit(xtrain_oa, ytrain_oa)"
   ]
  },
  {
   "cell_type": "code",
   "execution_count": null,
   "id": "898a705c",
   "metadata": {
    "ExecuteTime": {
     "start_time": "2022-11-18T23:50:12.315Z"
    }
   },
   "outputs": [],
   "source": [
    "predictions_grad_oa_best = gradient_boosting_cls_oa_best.predict(xtest_oa)"
   ]
  },
  {
   "cell_type": "code",
   "execution_count": null,
   "id": "9709d154",
   "metadata": {
    "ExecuteTime": {
     "start_time": "2022-11-18T23:50:12.316Z"
    }
   },
   "outputs": [],
   "source": [
    "print(f\"Accuracy on test set:{round(gradient_boosting_cls_oa_best.score(xtest_oa, ytest_oa),2)}\")\n",
    "\n",
    "print(classification_report(ytest_oa, predictions_grad_oa_best))"
   ]
  },
  {
   "cell_type": "code",
   "execution_count": null,
   "id": "84e11a59",
   "metadata": {
    "ExecuteTime": {
     "start_time": "2022-11-18T23:50:12.318Z"
    }
   },
   "outputs": [],
   "source": [
    "cm_oa_best = confusion_matrix(ytest_oa, predictions_grad_oa_best)\n",
    "print('Confusion matrix\\n\\n', cm_oa_best)"
   ]
  },
  {
   "cell_type": "markdown",
   "id": "a63f4503",
   "metadata": {},
   "source": [
    "###### d) Implementen procedimiento de validación cruzada para sus modelos"
   ]
  },
  {
   "cell_type": "code",
   "execution_count": null,
   "id": "7fe5b7fc",
   "metadata": {
    "ExecuteTime": {
     "start_time": "2022-11-18T23:50:12.655Z"
    }
   },
   "outputs": [],
   "source": [
    "from sklearn.model_selection import KFold\n",
    "from sklearn.model_selection import cross_val_score\n",
    "\n",
    "cv = KFold(n_splits=5, random_state=0, shuffle=True)\n",
    "\n",
    "for train_index, val_index in cv.split(xtrain_oa):\n",
    "        print(\"TEST: \",val_index[:10],\"TRAIN: \",train_index[:10]) \n",
    "        train, Xval = xtrain_oa.iloc[train_index], xtrain_oa.iloc[val_index]\n",
    "        ytrain, yval = ytrain_oa.iloc[train_index], ytrain_oa.iloc[val_index]\n",
    "        print((ytrain==1).sum(),(ytrain==0).sum(),(yval==1).sum(),(yval==0).sum())"
   ]
  },
  {
   "cell_type": "code",
   "execution_count": null,
   "id": "f83df738",
   "metadata": {
    "ExecuteTime": {
     "start_time": "2022-11-18T23:50:12.662Z"
    }
   },
   "outputs": [],
   "source": [
    "scores_val_oa = cross_val_score(gradient_boosting_cls_oa, xtrain_oa, ytrain_oa, cv=5)\n",
    "scores_val_oa"
   ]
  },
  {
   "cell_type": "code",
   "execution_count": null,
   "id": "472c5f6d",
   "metadata": {
    "ExecuteTime": {
     "start_time": "2022-11-18T23:50:12.667Z"
    }
   },
   "outputs": [],
   "source": [
    "print(\"Accuracy: %0.2f\" % (scores_val_oa.mean()))"
   ]
  },
  {
   "cell_type": "markdown",
   "id": "e8d98113",
   "metadata": {},
   "source": [
    "##### 7. Describan el proceso realizado y presenten sus conclusiones al respecto"
   ]
  },
  {
   "cell_type": "markdown",
   "id": "cf92d994",
   "metadata": {},
   "source": [
    "<span style=\"color:purple;font-size:18px\"> \n",
    "    \n",
    "\n",
    "3. Gradient XBoost classifier: El mejor modelo que se adaptó a los pocos datos que se tienen. Este modelo produce un modelo predictivo en forma de un conjunto de modelos de predicción débiles, típicamente árboles de decisión. En cada iteración, los árboles de decisión aprenden a determinar los errores residuales (obtenidos por el gradiente negativo) por lo que se le da un peso mayor a las observaciones difíciles de clasificar.\n",
    "\n",
    "</span>"
   ]
  },
  {
   "cell_type": "markdown",
   "id": "cbd83a7d",
   "metadata": {},
   "source": [
    "### 4) Análisis de resultados y selección de modelo de predicción."
   ]
  },
  {
   "cell_type": "code",
   "execution_count": null,
   "id": "050f491b",
   "metadata": {
    "ExecuteTime": {
     "start_time": "2022-11-18T23:50:13.641Z"
    }
   },
   "outputs": [],
   "source": [
    "x_oa_all[str_features + [str_features[i] + \"_cat\" for i in range(0, len(str_features))]].head(3)"
   ]
  },
  {
   "cell_type": "code",
   "execution_count": null,
   "id": "ea049f47",
   "metadata": {
    "ExecuteTime": {
     "start_time": "2022-11-18T23:50:13.644Z"
    }
   },
   "outputs": [],
   "source": [
    "# Guardar dos diccionarios con los valores reordenados a categorías\n",
    "\n",
    "estados_dict = pd.pivot_table(x_oa_all, index = 'ESTADO')['ESTADO_cat'].to_dict()\n",
    "marcas_dict = pd.pivot_table(x_oa_all, index = 'MARCA')['MARCA_cat'].to_dict()"
   ]
  },
  {
   "cell_type": "code",
   "execution_count": null,
   "id": "62bf6722",
   "metadata": {
    "ExecuteTime": {
     "start_time": "2022-11-18T23:50:13.650Z"
    }
   },
   "outputs": [],
   "source": [
    "estados_dict"
   ]
  },
  {
   "cell_type": "code",
   "execution_count": null,
   "id": "9db30cba",
   "metadata": {
    "ExecuteTime": {
     "start_time": "2022-11-18T23:50:13.653Z"
    }
   },
   "outputs": [],
   "source": [
    "feature_importance = pd.DataFrame(index = xtrain_oa.columns.tolist()).reset_index()\n",
    "feature_importance.columns = ['features']\n",
    "feature_importance['importance'] = np.round(gradient_boosting_cls_oa.feature_importances_ * 100, 1)\n",
    "feature_importance['importance'] = np.round(feature_importance['importance'], 0)\n",
    "\n",
    "fig = px.bar(feature_importance, x = \"features\", y = \"importance\",\n",
    "             title=\"Gradient XBoost Feature Importance\",\n",
    "             color_discrete_sequence=px.colors.qualitative.Prism, text = 'importance')\n",
    "fig.show()"
   ]
  },
  {
   "cell_type": "code",
   "execution_count": null,
   "id": "11e37810",
   "metadata": {
    "ExecuteTime": {
     "start_time": "2022-11-18T23:50:13.654Z"
    }
   },
   "outputs": [],
   "source": [
    "clean_prediction_notarget['MES'] = clean_prediction_notarget.FECHA.dt.month\n",
    "\n",
    "clean_prediction_notarget['ESTADO_cat'] = clean_prediction_notarget['ESTADO'].replace(estados_dict)\n",
    "clean_prediction_notarget['MARCA_cat'] = clean_prediction_notarget['MARCA'].replace(marcas_dict)\n",
    "\n",
    "clean_pred_target = clean_prediction['INFRACCION'].replace({1: 0, 4: 1, 5: 2})\n",
    "clean_pred_target = clean_pred_target.tolist()\n",
    "\n",
    "clean_prediction_notarget = clean_prediction_notarget[x_oa.columns]"
   ]
  },
  {
   "cell_type": "code",
   "execution_count": null,
   "id": "1312932a",
   "metadata": {
    "ExecuteTime": {
     "start_time": "2022-11-18T23:50:13.659Z"
    }
   },
   "outputs": [],
   "source": [
    "predictions_grad_2022_oa = gradient_boosting_cls_oa.predict(clean_prediction_notarget)"
   ]
  },
  {
   "cell_type": "code",
   "execution_count": null,
   "id": "f505f1cf",
   "metadata": {
    "ExecuteTime": {
     "start_time": "2022-11-18T23:50:13.663Z"
    }
   },
   "outputs": [],
   "source": [
    "import plotly.figure_factory as ff\n",
    "\n",
    "cnf_matrix = confusion_matrix(clean_pred_target, predictions_grad_2022_oa)\n",
    "cnf_matrix = cnf_matrix.astype('float') / cnf_matrix.sum(axis=1)[:, np.newaxis]\n",
    "cnf_matrix = np.round(cnf_matrix, 2)\n",
    "\n",
    "x_cm, y_cm = ['Tipo 1', 'Tipo 4', 'Tipo 5'], ['Tipo 1', 'Tipo 4', 'Tipo 5']\n",
    "z_text = [[str(y_cm) for y_cm in x_cm] for x_cm in cnf_matrix]\n",
    "\n",
    "fig = ff.create_annotated_heatmap(cnf_matrix, x = x_cm, y = y_cm,\n",
    "                                  annotation_text = z_text, colorscale='purples')\n",
    "\n",
    "# add title\n",
    "fig.update_layout(title_text='<i><b>2022 Confusion matrix: XGBClassifier</b></i>')\n",
    "\n",
    "fig.add_annotation(dict(font=dict(color=\"black\",size=14),\n",
    "                        x=0.5, y=-0.15, showarrow=False, text=\"Predicted value\",\n",
    "                        xref=\"paper\",  yref=\"paper\"))\n",
    "\n",
    "fig.add_annotation(dict(font=dict(color=\"black\",size=14),\n",
    "                        x=-0.35, y=0.5, showarrow=False, text=\"Real value\", textangle=-90,\n",
    "                        xref=\"paper\", yref=\"paper\"))\n",
    "\n",
    "fig.update_layout(margin=dict(t=50, l=200))\n",
    "\n",
    "fig['data'][0]['showscale'] = False\n",
    "fig.show()"
   ]
  },
  {
   "cell_type": "markdown",
   "id": "07eecafd",
   "metadata": {},
   "source": [
    "### 6) Agregar Conclusiones.\n"
   ]
  },
  {
   "cell_type": "markdown",
   "id": "48a53465",
   "metadata": {},
   "source": [
    "<span style=\"color:purple;font-size:18px\"> \n",
    "    \n",
    "Se tomó el modelo *Gradient XBoost*, que tiene el mejor accuracy de todos, para realizar la predicción del tipo de infracción que se cometerá en 2022, donde vemos que el accuracy general de dicha predicción fue de 77% tomando en cuenta las tres tipos de infracciones que se pueden cometer. \n",
    "    \n",
    "La ZMG recibe alrededor de 1,000 infraccionesd al día, de las cuales solo alrededor del 10% son pagadas en cada año. Este modelo está enfocado en dos principales metas: Una para el ciudadano conductor, donde a partir del Estado de su placa, Modelo de su carro, mes y hora donde se estacionará, y latitud y longitud del lugar; a partir de esto, se podrá hacer una valoración si entra en perfil estadístico de infracciones en la ciudad y esteriotipos de conductores que el modelo aprendió. Por otro lado, beneficiará a la Entidad Pública, ya que a partir de este modelo se puede tener una proyección más certera, basada en histórico, sobre las infracciones a futuro. A partir de estas predicciones, se pueden crear o proponer políticas públicas o programas sociales que incentiven una mejor cultura vial en la ciudad.\n",
    "\n",
    "Apartir del análisis de estos datos podemos determinar cuáles serían las zonas más eficientes dónde agregar cajones de estacionamiento parkimovil o estacionamientos públicos.\n",
    "\n",
    "#LaCalleEsDeTodos\n",
    "</span>"
   ]
  },
  {
   "cell_type": "code",
   "execution_count": null,
   "id": "90a48d3b",
   "metadata": {
    "ExecuteTime": {
     "start_time": "2022-11-18T23:50:14.304Z"
    }
   },
   "outputs": [],
   "source": [
    "print(\"https://infraccionesgdl.herokuapp.com\")"
   ]
  },
  {
   "cell_type": "markdown",
   "id": "a44f133a",
   "metadata": {},
   "source": [
    "***"
   ]
  },
  {
   "cell_type": "code",
   "execution_count": null,
   "id": "12b03bb9",
   "metadata": {},
   "outputs": [],
   "source": [
    "# Exportar el modelo para futuras predicciones\n",
    "\n",
    "gradient_boosting_cls_oa"
   ]
  },
  {
   "cell_type": "markdown",
   "id": "d65af8b1",
   "metadata": {},
   "source": [
    "****"
   ]
  }
 ],
 "metadata": {
  "kernelspec": {
   "display_name": "Python 3 (ipykernel)",
   "language": "python",
   "name": "python3"
  },
  "language_info": {
   "codemirror_mode": {
    "name": "ipython",
    "version": 3
   },
   "file_extension": ".py",
   "mimetype": "text/x-python",
   "name": "python",
   "nbconvert_exporter": "python",
   "pygments_lexer": "ipython3",
   "version": "3.9.13"
  },
  "toc": {
   "base_numbering": 1,
   "nav_menu": {},
   "number_sections": false,
   "sideBar": true,
   "skip_h1_title": true,
   "title_cell": "Entrega 3 - Equipo Morado - XGBClassifier",
   "title_sidebar": "Contents",
   "toc_cell": true,
   "toc_position": {},
   "toc_section_display": true,
   "toc_window_display": false
  },
  "varInspector": {
   "cols": {
    "lenName": 16,
    "lenType": 16,
    "lenVar": 40
   },
   "kernels_config": {
    "python": {
     "delete_cmd_postfix": "",
     "delete_cmd_prefix": "del ",
     "library": "var_list.py",
     "varRefreshCmd": "print(var_dic_list())"
    },
    "r": {
     "delete_cmd_postfix": ") ",
     "delete_cmd_prefix": "rm(",
     "library": "var_list.r",
     "varRefreshCmd": "cat(var_dic_list()) "
    }
   },
   "types_to_exclude": [
    "module",
    "function",
    "builtin_function_or_method",
    "instance",
    "_Feature"
   ],
   "window_display": false
  }
 },
 "nbformat": 4,
 "nbformat_minor": 5
}
